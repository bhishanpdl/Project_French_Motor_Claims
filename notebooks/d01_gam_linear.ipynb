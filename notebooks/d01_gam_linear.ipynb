{
 "cells": [
  {
   "cell_type": "markdown",
   "metadata": {
    "id": "o3Ss2zYb5khz",
    "toc": true
   },
   "source": [
    "<h1>Table of Contents<span class=\"tocSkip\"></span></h1>\n",
    "<div class=\"toc\"><ul class=\"toc-item\"><li><span><a href=\"#Colab\" data-toc-modified-id=\"Colab-1\"><span class=\"toc-item-num\">1&nbsp;&nbsp;</span>Colab</a></span></li><li><span><a href=\"#Load-the-libraries\" data-toc-modified-id=\"Load-the-libraries-2\"><span class=\"toc-item-num\">2&nbsp;&nbsp;</span>Load the libraries</a></span></li><li><span><a href=\"#Load-the-data\" data-toc-modified-id=\"Load-the-data-3\"><span class=\"toc-item-num\">3&nbsp;&nbsp;</span>Load the data</a></span></li><li><span><a href=\"#Train-Test-Split\" data-toc-modified-id=\"Train-Test-Split-4\"><span class=\"toc-item-num\">4&nbsp;&nbsp;</span>Train Test Split</a></span></li><li><span><a href=\"#Modelling:-pyGAM\" data-toc-modified-id=\"Modelling:-pyGAM-5\"><span class=\"toc-item-num\">5&nbsp;&nbsp;</span>Modelling: pyGAM</a></span></li><li><span><a href=\"#Model-evaluation\" data-toc-modified-id=\"Model-evaluation-6\"><span class=\"toc-item-num\">6&nbsp;&nbsp;</span>Model evaluation</a></span></li></ul></div>"
   ]
  },
  {
   "cell_type": "markdown",
   "metadata": {
    "id": "1LSR7gK85kh7"
   },
   "source": [
    "# Load the libraries"
   ]
  },
  {
   "cell_type": "code",
   "execution_count": 15,
   "metadata": {
    "ExecuteTime": {
     "end_time": "2020-09-27T22:40:28.199920Z",
     "start_time": "2020-09-27T22:40:21.826573Z"
    },
    "colab": {
     "base_uri": "https://localhost:8080/",
     "height": 250
    },
    "id": "n9gXO0Hf5kh8",
    "outputId": "3f591461-5297-4c10-d7a5-f313016abb65"
   },
   "outputs": [
    {
     "name": "stdout",
     "output_type": "stream",
     "text": [
      "sklearn    0.22.1\n",
      "scikitplot 0.3.7\n",
      "numpy      1.19.1\n",
      "pandas     1.1.1\n",
      "json       2.0.9\n",
      "seaborn    0.11.0\n",
      "scipy      1.4.1\n",
      "joblib     0.16.0\n",
      "\n"
     ]
    }
   ],
   "source": [
    "import numpy as np\n",
    "import pandas as pd\n",
    "import seaborn as sns\n",
    "import os,sys,time\n",
    "import sklearn\n",
    "import scipy\n",
    "import matplotlib.pyplot as plt\n",
    "sns.set()\n",
    "\n",
    "import json\n",
    "import joblib\n",
    "from sklearn.model_selection import train_test_split\n",
    "from sklearn.metrics import mean_absolute_error, mean_squared_error, mean_tweedie_deviance\n",
    "from sklearn.metrics import auc\n",
    "\n",
    "SEED = 100\n",
    "pd.set_option('max_columns',100)\n",
    "pd.set_option('plotting.backend','matplotlib') # matplotlib, bokeh, altair, plotly\n",
    "%load_ext watermark\n",
    "%watermark -iv"
   ]
  },
  {
   "cell_type": "markdown",
   "metadata": {
    "id": "Nda3pttf5kiC"
   },
   "source": [
    "# Load the data"
   ]
  },
  {
   "cell_type": "code",
   "execution_count": 16,
   "metadata": {
    "ExecuteTime": {
     "end_time": "2020-09-27T22:40:28.219604Z",
     "start_time": "2020-09-27T22:40:28.201978Z"
    },
    "colab": {
     "base_uri": "https://localhost:8080/",
     "height": 34
    },
    "id": "6nSdAjVlk1zC",
    "outputId": "7ead34cd-e9e3-4a43-f5d6-f2e26a8821ee"
   },
   "outputs": [
    {
     "name": "stdout",
     "output_type": "stream",
     "text": [
      "/Users/poudel/github/Data_Science/a01_Modules/pyGAM/example\n"
     ]
    }
   ],
   "source": [
    "%%bash\n",
    "pwd"
   ]
  },
  {
   "cell_type": "code",
   "execution_count": 26,
   "metadata": {
    "ExecuteTime": {
     "end_time": "2020-09-27T22:43:54.366579Z",
     "start_time": "2020-09-27T22:43:51.980024Z"
    },
    "colab": {
     "base_uri": "https://localhost:8080/",
     "height": 205
    },
    "id": "-vStkQuJ5kiC",
    "outputId": "a761cda6-c480-4f41-be94-a12b27af6ca2"
   },
   "outputs": [
    {
     "name": "stdout",
     "output_type": "stream",
     "text": [
      "(100000, 15)\n"
     ]
    },
    {
     "data": {
      "text/html": [
       "<div>\n",
       "<style scoped>\n",
       "    .dataframe tbody tr th:only-of-type {\n",
       "        vertical-align: middle;\n",
       "    }\n",
       "\n",
       "    .dataframe tbody tr th {\n",
       "        vertical-align: top;\n",
       "    }\n",
       "\n",
       "    .dataframe thead th {\n",
       "        text-align: right;\n",
       "    }\n",
       "</style>\n",
       "<table border=\"1\" class=\"dataframe\">\n",
       "  <thead>\n",
       "    <tr style=\"text-align: right;\">\n",
       "      <th></th>\n",
       "      <th>ClaimNb</th>\n",
       "      <th>Exposure</th>\n",
       "      <th>Area</th>\n",
       "      <th>VehPower</th>\n",
       "      <th>VehAge</th>\n",
       "      <th>DrivAge</th>\n",
       "      <th>BonusMalus</th>\n",
       "      <th>VehBrand</th>\n",
       "      <th>VehGas</th>\n",
       "      <th>Density</th>\n",
       "      <th>Region</th>\n",
       "      <th>ClaimAmount</th>\n",
       "      <th>PurePremium</th>\n",
       "      <th>Frequency</th>\n",
       "      <th>AvgClaimAmount</th>\n",
       "    </tr>\n",
       "  </thead>\n",
       "  <tbody>\n",
       "    <tr>\n",
       "      <th>0</th>\n",
       "      <td>0</td>\n",
       "      <td>0.10</td>\n",
       "      <td>D</td>\n",
       "      <td>5</td>\n",
       "      <td>0</td>\n",
       "      <td>55</td>\n",
       "      <td>50</td>\n",
       "      <td>B12</td>\n",
       "      <td>Regular</td>\n",
       "      <td>1217</td>\n",
       "      <td>R82</td>\n",
       "      <td>0.0</td>\n",
       "      <td>0.0</td>\n",
       "      <td>0.0</td>\n",
       "      <td>0.0</td>\n",
       "    </tr>\n",
       "    <tr>\n",
       "      <th>1</th>\n",
       "      <td>0</td>\n",
       "      <td>0.77</td>\n",
       "      <td>D</td>\n",
       "      <td>5</td>\n",
       "      <td>0</td>\n",
       "      <td>55</td>\n",
       "      <td>50</td>\n",
       "      <td>B12</td>\n",
       "      <td>Regular</td>\n",
       "      <td>1217</td>\n",
       "      <td>R82</td>\n",
       "      <td>0.0</td>\n",
       "      <td>0.0</td>\n",
       "      <td>0.0</td>\n",
       "      <td>0.0</td>\n",
       "    </tr>\n",
       "    <tr>\n",
       "      <th>99998</th>\n",
       "      <td>0</td>\n",
       "      <td>0.90</td>\n",
       "      <td>C</td>\n",
       "      <td>7</td>\n",
       "      <td>9</td>\n",
       "      <td>44</td>\n",
       "      <td>50</td>\n",
       "      <td>B1</td>\n",
       "      <td>Regular</td>\n",
       "      <td>191</td>\n",
       "      <td>R24</td>\n",
       "      <td>0.0</td>\n",
       "      <td>0.0</td>\n",
       "      <td>0.0</td>\n",
       "      <td>0.0</td>\n",
       "    </tr>\n",
       "    <tr>\n",
       "      <th>99999</th>\n",
       "      <td>0</td>\n",
       "      <td>0.90</td>\n",
       "      <td>E</td>\n",
       "      <td>4</td>\n",
       "      <td>12</td>\n",
       "      <td>53</td>\n",
       "      <td>50</td>\n",
       "      <td>B1</td>\n",
       "      <td>Regular</td>\n",
       "      <td>4116</td>\n",
       "      <td>R24</td>\n",
       "      <td>0.0</td>\n",
       "      <td>0.0</td>\n",
       "      <td>0.0</td>\n",
       "      <td>0.0</td>\n",
       "    </tr>\n",
       "  </tbody>\n",
       "</table>\n",
       "</div>"
      ],
      "text/plain": [
       "       ClaimNb  Exposure Area  VehPower  VehAge  DrivAge  BonusMalus VehBrand  \\\n",
       "0            0      0.10    D         5       0       55          50      B12   \n",
       "1            0      0.77    D         5       0       55          50      B12   \n",
       "99998        0      0.90    C         7       9       44          50       B1   \n",
       "99999        0      0.90    E         4      12       53          50       B1   \n",
       "\n",
       "        VehGas  Density Region  ClaimAmount  PurePremium  Frequency  \\\n",
       "0      Regular     1217    R82          0.0          0.0        0.0   \n",
       "1      Regular     1217    R82          0.0          0.0        0.0   \n",
       "99998  Regular      191    R24          0.0          0.0        0.0   \n",
       "99999  Regular     4116    R24          0.0          0.0        0.0   \n",
       "\n",
       "       AvgClaimAmount  \n",
       "0                 0.0  \n",
       "1                 0.0  \n",
       "99998             0.0  \n",
       "99999             0.0  "
      ]
     },
     "execution_count": 26,
     "metadata": {},
     "output_type": "execute_result"
    }
   ],
   "source": [
    "# ifile = '../data/processed/clean_data.csv.zip'\n",
    "ifile = \"https://github.com/bhishanpdl/Datasets/blob/master/Projects/French_Motor_Claims/processed/clean_data.csv.zip?raw=true\"\n",
    "df = pd.read_csv(ifile, compression='zip')\n",
    "print(df.shape)\n",
    "df.head(2).append(df.tail(2))"
   ]
  },
  {
   "cell_type": "code",
   "execution_count": 31,
   "metadata": {
    "ExecuteTime": {
     "end_time": "2020-09-27T22:45:57.039941Z",
     "start_time": "2020-09-27T22:45:56.975334Z"
    },
    "colab": {
     "base_uri": "https://localhost:8080/",
     "height": 34
    },
    "id": "OGwqiUUx5kiJ",
    "outputId": "84accc2a-1d3c-4786-e001-51eeaf75b600"
   },
   "outputs": [
    {
     "data": {
      "text/plain": [
       "((100000, 71), scipy.sparse.csr.csr_matrix)"
      ]
     },
     "execution_count": 31,
     "metadata": {},
     "output_type": "execute_result"
    }
   ],
   "source": [
    "# ifile = \"../data/processed/X.npz\"\n",
    "ifile = os.path.expanduser(\"~/github/Project_French_Motor_Claims/data/processed/X.npz\")\n",
    "\n",
    "X = scipy.sparse.load_npz(ifile)\n",
    "X.shape, type(X)"
   ]
  },
  {
   "cell_type": "code",
   "execution_count": 32,
   "metadata": {
    "ExecuteTime": {
     "end_time": "2020-09-27T22:46:01.814337Z",
     "start_time": "2020-09-27T22:46:01.811072Z"
    },
    "id": "dBMBUVpnFf1K"
   },
   "outputs": [],
   "source": [
    "# ifile = '../data/processed/X.csv.zip'\n",
    "# df_X = pd.read_csv(ifile, compression='zip')\n",
    "# print(df_X.shape)\n",
    "# df_X.head(2).append(df_X.tail(2))\n",
    "\n",
    "# columns\n",
    "\"\"\"\n",
    "x0_B1\tx0_B10\tx0_B11\tx0_B12\tx0_B13\tx0_B14\tx0_B2\tx0_B3\tx0_B4\tx0_B5\n",
    "x0_B6\tx1_4\tx1_5\tx1_6\tx1_7\tx1_8\tx1_9\tx1_10\tx1_11\tx1_12\n",
    "x1_13\tx1_14\tx1_15\tx2_Diesel\tx2_Regular\tx3_R11\tx3_R21\tx3_R22\tx3_R23\n",
    "x3_R24\tx3_R25\tx3_R26\tx3_R31\tx3_R41\tx3_R42\tx3_R43\tx3_R52\tx3_R53\tx3_R54\n",
    "x3_R72\tx3_R73\tx3_R74\tx3_R82\tx3_R83\tx3_R91\tx3_R93\tx3_R94\tx4_A\tx4_B\n",
    "x4_C\tx4_D\tx4_E\tx4_F\tVehAge_0\tVehAge_1\tVehAge_2\tVehAge_3\n",
    "VehAge_4\tVehAge_5\tVehAge_6\tVehAge_7\tDrivAge_0\tDrivAge_1\tDrivAge_2\t\n",
    "DrivAge_3\tDrivAge_4\tDrivAge_5\tDrivAge_6\tDrivAge_7\tDensity\tBonusMalus\n",
    "\n",
    "X only have transformed version of these columns\n",
    "cols_ohe_before = [\"VehBrand\", \"VehPower\", \"VehGas\", \"Region\", \"Area\"]\n",
    "cols_kbin_before = [\"VehAge\", \"DrivAge\"]\n",
    "cols_log_scale = [\"Density\"]\n",
    "cols_pass =  [\"BonusMalus\"]\n",
    "\"\"\";"
   ]
  },
  {
   "cell_type": "code",
   "execution_count": 33,
   "metadata": {
    "ExecuteTime": {
     "end_time": "2020-09-27T22:46:02.612894Z",
     "start_time": "2020-09-27T22:46:02.587591Z"
    },
    "colab": {
     "base_uri": "https://localhost:8080/",
     "height": 127
    },
    "id": "FTiEbQaQ5kiO",
    "outputId": "89c17535-7e31-488b-e4c8-755cf9021309"
   },
   "outputs": [
    {
     "data": {
      "text/html": [
       "<div>\n",
       "<style scoped>\n",
       "    .dataframe tbody tr th:only-of-type {\n",
       "        vertical-align: middle;\n",
       "    }\n",
       "\n",
       "    .dataframe tbody tr th {\n",
       "        vertical-align: top;\n",
       "    }\n",
       "\n",
       "    .dataframe thead th {\n",
       "        text-align: right;\n",
       "    }\n",
       "</style>\n",
       "<table border=\"1\" class=\"dataframe\">\n",
       "  <thead>\n",
       "    <tr style=\"text-align: right;\">\n",
       "      <th></th>\n",
       "      <th>ClaimNb</th>\n",
       "      <th>Exposure</th>\n",
       "      <th>Area</th>\n",
       "      <th>VehPower</th>\n",
       "      <th>VehAge</th>\n",
       "      <th>DrivAge</th>\n",
       "      <th>BonusMalus</th>\n",
       "      <th>VehBrand</th>\n",
       "      <th>VehGas</th>\n",
       "      <th>Density</th>\n",
       "      <th>Region</th>\n",
       "      <th>ClaimAmount</th>\n",
       "      <th>PurePremium</th>\n",
       "      <th>Frequency</th>\n",
       "      <th>AvgClaimAmount</th>\n",
       "    </tr>\n",
       "  </thead>\n",
       "  <tbody>\n",
       "    <tr>\n",
       "      <th>0</th>\n",
       "      <td>0</td>\n",
       "      <td>0.10</td>\n",
       "      <td>D</td>\n",
       "      <td>5</td>\n",
       "      <td>0</td>\n",
       "      <td>55</td>\n",
       "      <td>50</td>\n",
       "      <td>B12</td>\n",
       "      <td>Regular</td>\n",
       "      <td>1217</td>\n",
       "      <td>R82</td>\n",
       "      <td>0.0</td>\n",
       "      <td>0.0</td>\n",
       "      <td>0.0</td>\n",
       "      <td>0.0</td>\n",
       "    </tr>\n",
       "    <tr>\n",
       "      <th>1</th>\n",
       "      <td>0</td>\n",
       "      <td>0.77</td>\n",
       "      <td>D</td>\n",
       "      <td>5</td>\n",
       "      <td>0</td>\n",
       "      <td>55</td>\n",
       "      <td>50</td>\n",
       "      <td>B12</td>\n",
       "      <td>Regular</td>\n",
       "      <td>1217</td>\n",
       "      <td>R82</td>\n",
       "      <td>0.0</td>\n",
       "      <td>0.0</td>\n",
       "      <td>0.0</td>\n",
       "      <td>0.0</td>\n",
       "    </tr>\n",
       "  </tbody>\n",
       "</table>\n",
       "</div>"
      ],
      "text/plain": [
       "   ClaimNb  Exposure Area  VehPower  VehAge  DrivAge  BonusMalus VehBrand  \\\n",
       "0        0      0.10    D         5       0       55          50      B12   \n",
       "1        0      0.77    D         5       0       55          50      B12   \n",
       "\n",
       "    VehGas  Density Region  ClaimAmount  PurePremium  Frequency  \\\n",
       "0  Regular     1217    R82          0.0          0.0        0.0   \n",
       "1  Regular     1217    R82          0.0          0.0        0.0   \n",
       "\n",
       "   AvgClaimAmount  \n",
       "0             0.0  \n",
       "1             0.0  "
      ]
     },
     "execution_count": 33,
     "metadata": {},
     "output_type": "execute_result"
    }
   ],
   "source": [
    "df.head(2)"
   ]
  },
  {
   "cell_type": "code",
   "execution_count": 34,
   "metadata": {
    "ExecuteTime": {
     "end_time": "2020-09-27T22:46:03.261304Z",
     "start_time": "2020-09-27T22:46:03.252643Z"
    },
    "colab": {
     "base_uri": "https://localhost:8080/",
     "height": 34
    },
    "id": "OYXNpeGD5kiX",
    "outputId": "aa62bd20-bd3b-4167-f947-7da13479df0b"
   },
   "outputs": [
    {
     "data": {
      "text/plain": [
       "array([ 0.        ,  1.        ,  0.        ,  0.69864446, 50.        ])"
      ]
     },
     "execution_count": 34,
     "metadata": {},
     "output_type": "execute_result"
    }
   ],
   "source": [
    "np.array(X[0].todense())[0][-5:] # last elements of first row"
   ]
  },
  {
   "cell_type": "markdown",
   "metadata": {
    "id": "I5a7CfG45ki4"
   },
   "source": [
    "# Train Test Split"
   ]
  },
  {
   "cell_type": "code",
   "execution_count": 35,
   "metadata": {
    "ExecuteTime": {
     "end_time": "2020-09-27T22:46:11.205323Z",
     "start_time": "2020-09-27T22:46:11.202417Z"
    },
    "id": "mbCMBAK95ki4"
   },
   "outputs": [],
   "source": [
    "from sklearn.model_selection import train_test_split"
   ]
  },
  {
   "cell_type": "code",
   "execution_count": 44,
   "metadata": {
    "ExecuteTime": {
     "end_time": "2020-09-27T22:50:31.416465Z",
     "start_time": "2020-09-27T22:50:31.308868Z"
    },
    "colab": {
     "base_uri": "https://localhost:8080/",
     "height": 34
    },
    "id": "t7j7noBB5ki8",
    "outputId": "62554528-50ff-4f43-ca28-4f4e146259ab"
   },
   "outputs": [
    {
     "data": {
      "text/plain": [
       "((75000, 15), (25000, 15), (75000, 71), (25000, 71))"
      ]
     },
     "execution_count": 44,
     "metadata": {},
     "output_type": "execute_result"
    }
   ],
   "source": [
    "df_train, df_test, X_train, X_test = train_test_split(df, X.todense(), random_state=SEED)\n",
    "\n",
    "df_train.shape, df_test.shape, X_train.shape, X_test.shape"
   ]
  },
  {
   "cell_type": "markdown",
   "metadata": {
    "id": "s6CSTwdJ1J_9"
   },
   "source": [
    "# Modelling: pyGAM\n",
    "Ref: https://pygam.readthedocs.io/en/latest/notebooks/tour_of_pygam.html\n",
    "```\n",
    "Method            link        distribution\n",
    "----------------------------------------------------------\n",
    "LinearGAM         identity    normal distribution\n",
    "LogisticGAM logit link        binomial distribution\n",
    "PoissonGAM        log         Poisson distribution\n",
    "GammaGAM          log         gamma distribution\n",
    "InvGauss          log         inv_gauss distribution\n",
    "```\n",
    "\n",
    "LinearGAM\n",
    "$\\mathbb{E}[y \\mid X]=\\beta_{0}+f_{1}\\left(X_{1}\\right)+f_{2}\\left(X_{2}, X 3\\right)+\\cdots+f_{M}\\left(X_{N}\\right)$\n",
    "\n",
    "**Parameters**  \n",
    "```\n",
    "Terms\n",
    "l() linear terms\n",
    "s() spline terms\n",
    "f() factor terms\n",
    "te() tensor products\n",
    "intercept\n",
    "```\n",
    "\n",
    "**Callbacks**  \n",
    "Callbacks are performed during each optimization iteration. It’s also easy to write your own.\n",
    "```\n",
    "deviance - model deviance\n",
    "diffs - differences of coefficient norm\n",
    "accuracy - model accuracy for LogisticGAM\n",
    "coef - coefficient logging\n",
    "```"
   ]
  },
  {
   "cell_type": "code",
   "execution_count": 45,
   "metadata": {
    "ExecuteTime": {
     "end_time": "2020-09-27T22:50:32.828421Z",
     "start_time": "2020-09-27T22:50:32.823989Z"
    }
   },
   "outputs": [],
   "source": [
    "import pygam"
   ]
  },
  {
   "cell_type": "code",
   "execution_count": 46,
   "metadata": {
    "ExecuteTime": {
     "end_time": "2020-09-27T22:50:33.317201Z",
     "start_time": "2020-09-27T22:50:33.300047Z"
    },
    "id": "crLuqKHWJgC5"
   },
   "outputs": [
    {
     "data": {
      "text/html": [
       "<div>\n",
       "<style scoped>\n",
       "    .dataframe tbody tr th:only-of-type {\n",
       "        vertical-align: middle;\n",
       "    }\n",
       "\n",
       "    .dataframe tbody tr th {\n",
       "        vertical-align: top;\n",
       "    }\n",
       "\n",
       "    .dataframe thead th {\n",
       "        text-align: right;\n",
       "    }\n",
       "</style>\n",
       "<table border=\"1\" class=\"dataframe\">\n",
       "  <thead>\n",
       "    <tr style=\"text-align: right;\">\n",
       "      <th></th>\n",
       "      <th>ClaimNb</th>\n",
       "      <th>Exposure</th>\n",
       "      <th>Area</th>\n",
       "      <th>VehPower</th>\n",
       "      <th>VehAge</th>\n",
       "      <th>DrivAge</th>\n",
       "      <th>BonusMalus</th>\n",
       "      <th>VehBrand</th>\n",
       "      <th>VehGas</th>\n",
       "      <th>Density</th>\n",
       "      <th>Region</th>\n",
       "      <th>ClaimAmount</th>\n",
       "      <th>PurePremium</th>\n",
       "      <th>Frequency</th>\n",
       "      <th>AvgClaimAmount</th>\n",
       "    </tr>\n",
       "  </thead>\n",
       "  <tbody>\n",
       "    <tr>\n",
       "      <th>17853</th>\n",
       "      <td>0</td>\n",
       "      <td>0.35</td>\n",
       "      <td>D</td>\n",
       "      <td>6</td>\n",
       "      <td>7</td>\n",
       "      <td>25</td>\n",
       "      <td>147</td>\n",
       "      <td>B1</td>\n",
       "      <td>Diesel</td>\n",
       "      <td>745</td>\n",
       "      <td>R82</td>\n",
       "      <td>0.0</td>\n",
       "      <td>0.0</td>\n",
       "      <td>0.0</td>\n",
       "      <td>0.0</td>\n",
       "    </tr>\n",
       "    <tr>\n",
       "      <th>55890</th>\n",
       "      <td>0</td>\n",
       "      <td>0.61</td>\n",
       "      <td>E</td>\n",
       "      <td>5</td>\n",
       "      <td>1</td>\n",
       "      <td>24</td>\n",
       "      <td>72</td>\n",
       "      <td>B3</td>\n",
       "      <td>Diesel</td>\n",
       "      <td>3673</td>\n",
       "      <td>R25</td>\n",
       "      <td>0.0</td>\n",
       "      <td>0.0</td>\n",
       "      <td>0.0</td>\n",
       "      <td>0.0</td>\n",
       "    </tr>\n",
       "  </tbody>\n",
       "</table>\n",
       "</div>"
      ],
      "text/plain": [
       "       ClaimNb  Exposure Area  VehPower  VehAge  DrivAge  BonusMalus VehBrand  \\\n",
       "17853        0      0.35    D         6       7       25         147       B1   \n",
       "55890        0      0.61    E         5       1       24          72       B3   \n",
       "\n",
       "       VehGas  Density Region  ClaimAmount  PurePremium  Frequency  \\\n",
       "17853  Diesel      745    R82          0.0          0.0        0.0   \n",
       "55890  Diesel     3673    R25          0.0          0.0        0.0   \n",
       "\n",
       "       AvgClaimAmount  \n",
       "17853             0.0  \n",
       "55890             0.0  "
      ]
     },
     "execution_count": 46,
     "metadata": {},
     "output_type": "execute_result"
    }
   ],
   "source": [
    "df_train.head(2)"
   ]
  },
  {
   "cell_type": "code",
   "execution_count": 53,
   "metadata": {
    "ExecuteTime": {
     "end_time": "2020-09-27T22:57:52.542427Z",
     "start_time": "2020-09-27T22:57:52.534310Z"
    }
   },
   "outputs": [],
   "source": [
    "y_train = df_train[\"AvgClaimAmount\"].values\n",
    "y_test = df_test[\"AvgClaimAmount\"].values"
   ]
  },
  {
   "cell_type": "code",
   "execution_count": 49,
   "metadata": {
    "ExecuteTime": {
     "end_time": "2020-09-27T22:54:55.665325Z",
     "start_time": "2020-09-27T22:51:03.854609Z"
    }
   },
   "outputs": [
    {
     "name": "stderr",
     "output_type": "stream",
     "text": [
      "100% (11 of 11) |########################| Elapsed Time: 0:03:51 Time:  0:03:51\n"
     ]
    },
    {
     "name": "stdout",
     "output_type": "stream",
     "text": [
      "LinearGAM                                                                                                 \n",
      "=============================================== ==========================================================\n",
      "Distribution:                        NormalDist Effective DoF:                                     67.4214\n",
      "Link Function:                     IdentityLink Log Likelihood:                               -1148621.477\n",
      "Number of Samples:                        75000 AIC:                                          2297379.7967\n",
      "                                                AICc:                                         2297379.9234\n",
      "                                                GCV:                                          1789834.1192\n",
      "                                                Scale:                                        1786938.1978\n",
      "                                                Pseudo R-Squared:                                   0.0019\n",
      "==========================================================================================================\n",
      "Feature Function                  Lambda               Rank         EDoF         P > x        Sig. Code   \n",
      "================================= ==================== ============ ============ ============ ============\n",
      "s(0)                              [1000.]              10           2.0          3.20e-01                 \n",
      "s(1)                              [1000.]              10           1.0          5.96e-01                 \n",
      "s(2)                              [1000.]              10           1.0          8.65e-01                 \n",
      "s(3)                              [1000.]              10           1.0          7.54e-03     **          \n",
      "s(4)                              [1000.]              10           1.0          6.50e-01                 \n",
      "s(5)                              [1000.]              10           1.0          7.21e-01                 \n",
      "s(6)                              [1000.]              10           1.0          5.34e-01                 \n",
      "s(7)                              [1000.]              10           1.0          2.19e-01                 \n",
      "s(8)                              [1000.]              10           1.0          8.93e-01                 \n",
      "s(9)                              [1000.]              10           1.0          9.36e-01                 \n",
      "s(10)                             [1000.]              10           0.0          9.48e-01                 \n",
      "s(11)                             [1000.]              10           1.0          1.45e-01                 \n",
      "s(12)                             [1000.]              10           1.0          6.30e-01                 \n",
      "s(13)                             [1000.]              10           1.0          9.99e-01                 \n",
      "s(14)                             [1000.]              10           1.0          8.30e-01                 \n",
      "s(15)                             [1000.]              10           1.0          9.99e-01                 \n",
      "s(16)                             [1000.]              10           1.0          8.99e-01                 \n",
      "s(17)                             [1000.]              10           1.0          9.97e-01                 \n",
      "s(18)                             [1000.]              10           1.0          2.42e-01                 \n",
      "s(19)                             [1000.]              10           1.0          9.52e-01                 \n",
      "s(20)                             [1000.]              10           1.0          9.58e-01                 \n",
      "s(21)                             [1000.]              10           1.0          9.26e-01                 \n",
      "s(22)                             [1000.]              10           0.0          9.85e-01                 \n",
      "s(23)                             [1000.]              10           1.0          2.02e-01                 \n",
      "s(24)                             [1000.]              10           0.0          2.01e-01                 \n",
      "s(25)                             [1000.]              10           1.0          8.89e-01                 \n",
      "s(26)                             [1000.]              10           1.0          9.74e-01                 \n",
      "s(27)                             [1000.]              10           1.0          9.70e-01                 \n",
      "s(28)                             [1000.]              10           1.0          7.62e-01                 \n",
      "s(29)                             [1000.]              10           1.0          9.63e-01                 \n",
      "s(30)                             [1000.]              10           1.0          4.49e-01                 \n",
      "s(31)                             [1000.]              10           1.0          5.19e-01                 \n",
      "s(32)                             [1000.]              10           1.0          3.74e-01                 \n",
      "s(33)                             [1000.]              10           1.0          8.68e-01                 \n",
      "s(34)                             [1000.]              10           1.0          9.94e-01                 \n",
      "s(35)                             [1000.]              10           1.0          4.80e-01                 \n",
      "s(36)                             [1000.]              10           1.0          7.30e-01                 \n",
      "s(37)                             [1000.]              10           1.0          5.25e-01                 \n",
      "s(38)                             [1000.]              10           1.0          4.69e-01                 \n",
      "s(39)                             [1000.]              10           1.0          9.86e-01                 \n",
      "s(40)                             [1000.]              10           1.0          8.00e-01                 \n",
      "s(41)                             [1000.]              10           1.0          9.06e-01                 \n",
      "s(42)                             [1000.]              10           1.0          9.80e-01                 \n",
      "s(43)                             [1000.]              10           1.0          5.60e-01                 \n",
      "s(44)                             [1000.]              10           1.0          6.78e-01                 \n",
      "s(45)                             [1000.]              10           1.0          5.06e-01                 \n",
      "s(46)                             [1000.]              10           0.0          9.73e-01                 \n",
      "s(47)                             [1000.]              10           1.0          1.54e-01                 \n",
      "s(48)                             [1000.]              10           1.0          6.93e-01                 \n",
      "s(49)                             [1000.]              10           1.0          9.96e-01                 \n",
      "s(50)                             [1000.]              10           1.0          3.37e-01                 \n",
      "s(51)                             [1000.]              10           1.0          5.18e-01                 \n",
      "s(52)                             [1000.]              10           0.0          5.36e-01                 \n",
      "s(53)                             [1000.]              10           1.0          5.31e-01                 \n",
      "s(54)                             [1000.]              10           1.0          5.95e-01                 \n",
      "s(55)                             [1000.]              10           1.0          9.89e-01                 \n",
      "s(56)                             [1000.]              10           1.0          6.76e-01                 \n",
      "s(57)                             [1000.]              10           1.0          1.96e-01                 \n",
      "s(58)                             [1000.]              10           1.0          9.40e-01                 \n",
      "s(59)                             [1000.]              10           1.0          9.99e-01                 \n",
      "s(60)                             [1000.]              10           0.0          1.10e-02     *           \n",
      "s(61)                             [1000.]              10           1.0          3.82e-01                 \n",
      "s(62)                             [1000.]              10           1.0          4.75e-03     **          \n",
      "s(63)                             [1000.]              10           1.0          4.91e-02     *           \n",
      "s(64)                             [1000.]              10           1.0          9.63e-01                 \n",
      "s(65)                             [1000.]              10           1.0          8.52e-01                 \n",
      "s(66)                             [1000.]              10           1.0          8.71e-02     .           \n",
      "s(67)                             [1000.]              10           1.0          8.52e-01                 \n",
      "s(68)                             [1000.]              10           0.0          1.27e-02     *           \n",
      "s(69)                             [1000.]              10           2.5          5.89e-01                 \n",
      "s(70)                             [1000.]              10           1.9          1.11e-16     ***         \n",
      "intercept                                              1            0.0          4.13e-07     ***         \n",
      "==========================================================================================================\n",
      "Significance codes:  0 '***' 0.001 '**' 0.01 '*' 0.05 '.' 0.1 ' ' 1\n",
      "\n",
      "WARNING: Fitting splines and a linear function to a feature introduces a model identifiability problem\n",
      "         which can cause p-values to appear significant when they are not.\n",
      "\n",
      "WARNING: p-values calculated in this manner behave correctly for un-penalized models or models with\n",
      "         known smoothing parameters, but when smoothing parameters have been estimated, the p-values\n",
      "         are typically lower than they should be, meaning that the tests reject the null too readily.\n",
      "CPU times: user 9min 2s, sys: 29.9 s, total: 9min 32s\n",
      "Wall time: 3min 51s\n"
     ]
    },
    {
     "name": "stderr",
     "output_type": "stream",
     "text": [
      "/Users/poudel/opt/miniconda3/envs/gam/lib/python3.7/site-packages/ipykernel_launcher.py:2: UserWarning: KNOWN BUG: p-values computed in this summary are likely much smaller than they should be. \n",
      " \n",
      "Please do not make inferences based on these values! \n",
      "\n",
      "Collaborate on a solution, and stay up to date at: \n",
      "github.com/dswah/pyGAM/issues/163 \n",
      "\n",
      "  \n"
     ]
    }
   ],
   "source": [
    "%%time\n",
    "gam = pygam.LinearGAM(n_splines=10).gridsearch(X_train, y_train)\n",
    "gam.summary()"
   ]
  },
  {
   "cell_type": "markdown",
   "metadata": {},
   "source": [
    "# Model evaluation"
   ]
  },
  {
   "cell_type": "code",
   "execution_count": 51,
   "metadata": {
    "ExecuteTime": {
     "end_time": "2020-09-27T22:57:01.589828Z",
     "start_time": "2020-09-27T22:57:01.586591Z"
    }
   },
   "outputs": [],
   "source": [
    "from sklearn.metrics import mean_absolute_error, mean_squared_error, mean_tweedie_deviance\n",
    "from sklearn.metrics import auc"
   ]
  },
  {
   "cell_type": "code",
   "execution_count": 50,
   "metadata": {
    "ExecuteTime": {
     "end_time": "2020-09-27T22:56:38.787730Z",
     "start_time": "2020-09-27T22:56:34.243562Z"
    }
   },
   "outputs": [],
   "source": [
    "tr_preds = gam.predict(X_train)\n",
    "tx_preds = gam.predict(X_test)"
   ]
  },
  {
   "cell_type": "code",
   "execution_count": 54,
   "metadata": {
    "ExecuteTime": {
     "end_time": "2020-09-27T22:57:59.210272Z",
     "start_time": "2020-09-27T22:57:59.194900Z"
    }
   },
   "outputs": [
    {
     "data": {
      "text/html": [
       "<div>\n",
       "<style scoped>\n",
       "    .dataframe tbody tr th:only-of-type {\n",
       "        vertical-align: middle;\n",
       "    }\n",
       "\n",
       "    .dataframe tbody tr th {\n",
       "        vertical-align: top;\n",
       "    }\n",
       "\n",
       "    .dataframe thead th {\n",
       "        text-align: right;\n",
       "    }\n",
       "</style>\n",
       "<table border=\"1\" class=\"dataframe\">\n",
       "  <thead>\n",
       "    <tr style=\"text-align: right;\">\n",
       "      <th></th>\n",
       "      <th>train</th>\n",
       "      <th>test</th>\n",
       "    </tr>\n",
       "  </thead>\n",
       "  <tbody>\n",
       "    <tr>\n",
       "      <th>mean_absolute_error</th>\n",
       "      <td>1.686438e+02</td>\n",
       "      <td>1.655408e+02</td>\n",
       "    </tr>\n",
       "    <tr>\n",
       "      <th>mean_squared_error</th>\n",
       "      <td>1.785332e+06</td>\n",
       "      <td>1.647533e+06</td>\n",
       "    </tr>\n",
       "  </tbody>\n",
       "</table>\n",
       "</div>"
      ],
      "text/plain": [
       "                            train          test\n",
       "mean_absolute_error  1.686438e+02  1.655408e+02\n",
       "mean_squared_error   1.785332e+06  1.647533e+06"
      ]
     },
     "execution_count": 54,
     "metadata": {},
     "output_type": "execute_result"
    }
   ],
   "source": [
    "tr_mae = mean_absolute_error(y_train,tr_preds)\n",
    "tx_mae = mean_absolute_error(y_test,tx_preds)\n",
    "\n",
    "tr_mse = mean_squared_error(y_train, tr_preds)\n",
    "tx_mse = mean_squared_error(y_test,tx_preds)\n",
    "\n",
    "df_eval_gam = pd.DataFrame(\n",
    "{'train': [tr_mae, tr_mse],\n",
    "'test': [tx_mae, tx_mse]})\n",
    "\n",
    "df_eval_gam.index = ['mean_absolute_error','mean_squared_error']\n",
    "df_eval_gam"
   ]
  },
  {
   "cell_type": "code",
   "execution_count": null,
   "metadata": {},
   "outputs": [],
   "source": []
  }
 ],
 "metadata": {
  "colab": {
   "collapsed_sections": [],
   "name": "c02_xgboost_tweedie.ipynb",
   "provenance": []
  },
  "kernelspec": {
   "display_name": "Python37(gam)",
   "language": "python",
   "name": "gam"
  },
  "language_info": {
   "codemirror_mode": {
    "name": "ipython",
    "version": 3
   },
   "file_extension": ".py",
   "mimetype": "text/x-python",
   "name": "python",
   "nbconvert_exporter": "python",
   "pygments_lexer": "ipython3",
   "version": "3.7.9"
  },
  "toc": {
   "base_numbering": 1,
   "nav_menu": {},
   "number_sections": true,
   "sideBar": true,
   "skip_h1_title": false,
   "title_cell": "Table of Contents",
   "title_sidebar": "Contents",
   "toc_cell": true,
   "toc_position": {},
   "toc_section_display": true,
   "toc_window_display": false
  },
  "varInspector": {
   "cols": {
    "lenName": 16,
    "lenType": 16,
    "lenVar": 40
   },
   "kernels_config": {
    "python": {
     "delete_cmd_postfix": "",
     "delete_cmd_prefix": "del ",
     "library": "var_list.py",
     "varRefreshCmd": "print(var_dic_list())"
    },
    "r": {
     "delete_cmd_postfix": ") ",
     "delete_cmd_prefix": "rm(",
     "library": "var_list.r",
     "varRefreshCmd": "cat(var_dic_list()) "
    }
   },
   "types_to_exclude": [
    "module",
    "function",
    "builtin_function_or_method",
    "instance",
    "_Feature"
   ],
   "window_display": false
  }
 },
 "nbformat": 4,
 "nbformat_minor": 1
}
