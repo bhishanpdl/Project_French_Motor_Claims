{
 "cells": [
  {
   "cell_type": "markdown",
   "metadata": {
    "id": "o3Ss2zYb5khz",
    "toc": true
   },
   "source": [
    "<h1>Table of Contents<span class=\"tocSkip\"></span></h1>\n",
    "<div class=\"toc\"><ul class=\"toc-item\"><li><span><a href=\"#Colab\" data-toc-modified-id=\"Colab-1\"><span class=\"toc-item-num\">1&nbsp;&nbsp;</span>Colab</a></span></li><li><span><a href=\"#Load-the-libraries\" data-toc-modified-id=\"Load-the-libraries-2\"><span class=\"toc-item-num\">2&nbsp;&nbsp;</span>Load the libraries</a></span></li><li><span><a href=\"#Load-the-data\" data-toc-modified-id=\"Load-the-data-3\"><span class=\"toc-item-num\">3&nbsp;&nbsp;</span>Load the data</a></span></li><li><span><a href=\"#Train-Test-Split\" data-toc-modified-id=\"Train-Test-Split-4\"><span class=\"toc-item-num\">4&nbsp;&nbsp;</span>Train Test Split</a></span></li></ul></div>"
   ]
  },
  {
   "cell_type": "markdown",
   "metadata": {
    "id": "NlO4GQt8545m"
   },
   "source": [
    "# Colab"
   ]
  },
  {
   "cell_type": "code",
   "execution_count": 1,
   "metadata": {
    "ExecuteTime": {
     "end_time": "2020-09-26T15:34:48.510554Z",
     "start_time": "2020-09-26T15:34:48.505176Z"
    },
    "id": "9eo4liSR55Fm"
   },
   "outputs": [],
   "source": [
    "%%capture\n",
    "# capture will not print in notebook\n",
    "\n",
    "import os\n",
    "import sys\n",
    "ENV_COLAB = 'google.colab' in sys.modules\n",
    "\n",
    "if ENV_COLAB:\n",
    "    ## install modules\n",
    "    !pip install watermark\n",
    "    !pip install scikit-plot\n",
    "    !pip install -U scikit-learn # tweedie needs > 0.23\n",
    "\n",
    "    ## print\n",
    "    print('Environment: Google Colaboratory.')\n",
    "\n",
    "# NOTE: If we update modules in gcolab, we need to restart runtime."
   ]
  },
  {
   "cell_type": "code",
   "execution_count": 2,
   "metadata": {
    "ExecuteTime": {
     "end_time": "2020-09-26T15:34:50.640693Z",
     "start_time": "2020-09-26T15:34:49.490173Z"
    },
    "id": "fW5v0WyB6oXU"
   },
   "outputs": [],
   "source": [
    "import scikitplot as skplot"
   ]
  },
  {
   "cell_type": "code",
   "execution_count": 3,
   "metadata": {
    "ExecuteTime": {
     "end_time": "2020-09-26T15:34:51.403701Z",
     "start_time": "2020-09-26T15:34:51.387987Z"
    },
    "colab": {
     "base_uri": "https://localhost:8080/",
     "height": 34
    },
    "id": "PBf-mqLj698v",
    "outputId": "64e103f7-afce-4465-9e0a-93ad6cc19b0d"
   },
   "outputs": [
    {
     "name": "stdout",
     "output_type": "stream",
     "text": [
      "auto\n"
     ]
    }
   ],
   "source": [
    "TREE_METHOD = 'auto'\n",
    "try:\n",
    "    import tensorflow as tf\n",
    "    has_gpu = tf.test.gpu_device_name()\n",
    "    TREE_METHOD = 'gpu_hist' if has_gpu else 'auto'\n",
    "except:\n",
    "    TREE_METHOD = 'auto'\n",
    "\n",
    "print(TREE_METHOD)"
   ]
  },
  {
   "cell_type": "code",
   "execution_count": 4,
   "metadata": {
    "ExecuteTime": {
     "end_time": "2020-09-26T15:34:52.305698Z",
     "start_time": "2020-09-26T15:34:52.291193Z"
    },
    "id": "-7pBCkPD8o7r"
   },
   "outputs": [],
   "source": [
    "if ENV_COLAB:\n",
    "    !mkdir -p ../data/processed\n",
    "    !mkdir -p ../data/raw\n",
    "    !mkdir -p ../outputs\n",
    "\n",
    "    # raw\n",
    "    !wget -c \"https://github.com/bhishanpdl/Datasets/blob/master/Projects/French_Motor_Claims/raw/freMTPL2freq.csv?raw=true\" -o ../data/raw/freMTPL2freq.csv\n",
    "    !wget -c \"https://github.com/bhishanpdl/Datasets/blob/master/Projects/French_Motor_Claims/raw/freMTPL2sev.csv?raw=true\" -o ../data/raw/freMTPL2sev.csv\n",
    "\n",
    "    # processed\n",
    "    !wget -c \"https://github.com/bhishanpdl/Datasets/blob/master/Projects/French_Motor_Claims/processed/clean_data.csv.zip?raw=true\" -o ../data/processed/clean_data.csv.zip\n",
    "    !wget -c \"https://raw.githubusercontent.com/bhishanpdl/Datasets/master/Projects/French_Motor_Claims/processed/features.json\" -o ../data/processed/features.json\n",
    "    !wget -c \"https://github.com/bhishanpdl/Datasets/blob/master/Projects/French_Motor_Claims/processed/X.npz?raw=true\" -o ../data/processed/X.npz"
   ]
  },
  {
   "cell_type": "code",
   "execution_count": 5,
   "metadata": {
    "ExecuteTime": {
     "end_time": "2020-09-26T15:34:53.495201Z",
     "start_time": "2020-09-26T15:34:53.490317Z"
    },
    "colab": {
     "base_uri": "https://localhost:8080/",
     "height": 70
    },
    "id": "pGVForc8Ac22",
    "outputId": "4c955ce2-6c60-448e-de20-e21ef7a4c72e"
   },
   "outputs": [],
   "source": [
    "if  ENV_COLAB:\n",
    "    !ls ../data/raw\n",
    "    !echo \"processed\"\n",
    "    !ls ../data/processed"
   ]
  },
  {
   "cell_type": "markdown",
   "metadata": {
    "id": "1LSR7gK85kh7"
   },
   "source": [
    "# Load the libraries"
   ]
  },
  {
   "cell_type": "code",
   "execution_count": 6,
   "metadata": {
    "ExecuteTime": {
     "end_time": "2020-09-26T15:34:56.644012Z",
     "start_time": "2020-09-26T15:34:55.818271Z"
    },
    "colab": {
     "base_uri": "https://localhost:8080/",
     "height": 230
    },
    "id": "n9gXO0Hf5kh8",
    "outputId": "b3c6db07-c56d-4674-a60b-da8c02613f66"
   },
   "outputs": [
    {
     "name": "stdout",
     "output_type": "stream",
     "text": [
      "pandas     1.1.0\n",
      "joblib     0.16.0\n",
      "seaborn    0.11.0\n",
      "numpy      1.18.4\n",
      "sklearn    0.23.1\n",
      "json       2.0.9\n",
      "autopep8   1.5.2\n",
      "scikitplot 0.3.7\n",
      "scipy      1.4.1\n",
      "\n"
     ]
    }
   ],
   "source": [
    "import numpy as np\n",
    "import pandas as pd\n",
    "import seaborn as sns\n",
    "import os,sys,time\n",
    "import sklearn\n",
    "import scipy\n",
    "import matplotlib.pyplot as plt\n",
    "sns.set()\n",
    "\n",
    "import json\n",
    "import joblib\n",
    "from sklearn.model_selection import train_test_split\n",
    "from sklearn.metrics import mean_absolute_error, mean_squared_error, mean_tweedie_deviance\n",
    "from sklearn.metrics import auc\n",
    "\n",
    "SEED = 100\n",
    "pd.set_option('max_columns',100)\n",
    "pd.set_option('plotting.backend','matplotlib') # matplotlib, bokeh, altair, plotly\n",
    "%load_ext watermark\n",
    "%watermark -iv"
   ]
  },
  {
   "cell_type": "markdown",
   "metadata": {
    "id": "Nda3pttf5kiC"
   },
   "source": [
    "# Load the data"
   ]
  },
  {
   "cell_type": "code",
   "execution_count": 8,
   "metadata": {
    "ExecuteTime": {
     "end_time": "2020-09-26T15:35:54.980091Z",
     "start_time": "2020-09-26T15:35:54.739968Z"
    },
    "colab": {
     "base_uri": "https://localhost:8080/",
     "height": 442
    },
    "id": "-vStkQuJ5kiC",
    "outputId": "5af42fe4-ddd3-43ee-e2ce-8805e5e28948"
   },
   "outputs": [
    {
     "name": "stdout",
     "output_type": "stream",
     "text": [
      "(100000, 15)\n"
     ]
    },
    {
     "data": {
      "text/html": [
       "<div>\n",
       "<style scoped>\n",
       "    .dataframe tbody tr th:only-of-type {\n",
       "        vertical-align: middle;\n",
       "    }\n",
       "\n",
       "    .dataframe tbody tr th {\n",
       "        vertical-align: top;\n",
       "    }\n",
       "\n",
       "    .dataframe thead th {\n",
       "        text-align: right;\n",
       "    }\n",
       "</style>\n",
       "<table border=\"1\" class=\"dataframe\">\n",
       "  <thead>\n",
       "    <tr style=\"text-align: right;\">\n",
       "      <th></th>\n",
       "      <th>ClaimNb</th>\n",
       "      <th>Exposure</th>\n",
       "      <th>Area</th>\n",
       "      <th>VehPower</th>\n",
       "      <th>VehAge</th>\n",
       "      <th>DrivAge</th>\n",
       "      <th>BonusMalus</th>\n",
       "      <th>VehBrand</th>\n",
       "      <th>VehGas</th>\n",
       "      <th>Density</th>\n",
       "      <th>Region</th>\n",
       "      <th>ClaimAmount</th>\n",
       "      <th>PurePremium</th>\n",
       "      <th>Frequency</th>\n",
       "      <th>AvgClaimAmount</th>\n",
       "    </tr>\n",
       "  </thead>\n",
       "  <tbody>\n",
       "    <tr>\n",
       "      <th>0</th>\n",
       "      <td>0</td>\n",
       "      <td>0.10</td>\n",
       "      <td>D</td>\n",
       "      <td>5</td>\n",
       "      <td>0</td>\n",
       "      <td>55</td>\n",
       "      <td>50</td>\n",
       "      <td>B12</td>\n",
       "      <td>Regular</td>\n",
       "      <td>1217</td>\n",
       "      <td>R82</td>\n",
       "      <td>0.0</td>\n",
       "      <td>0.0</td>\n",
       "      <td>0.0</td>\n",
       "      <td>0.0</td>\n",
       "    </tr>\n",
       "    <tr>\n",
       "      <th>1</th>\n",
       "      <td>0</td>\n",
       "      <td>0.77</td>\n",
       "      <td>D</td>\n",
       "      <td>5</td>\n",
       "      <td>0</td>\n",
       "      <td>55</td>\n",
       "      <td>50</td>\n",
       "      <td>B12</td>\n",
       "      <td>Regular</td>\n",
       "      <td>1217</td>\n",
       "      <td>R82</td>\n",
       "      <td>0.0</td>\n",
       "      <td>0.0</td>\n",
       "      <td>0.0</td>\n",
       "      <td>0.0</td>\n",
       "    </tr>\n",
       "    <tr>\n",
       "      <th>99998</th>\n",
       "      <td>0</td>\n",
       "      <td>0.90</td>\n",
       "      <td>C</td>\n",
       "      <td>7</td>\n",
       "      <td>9</td>\n",
       "      <td>44</td>\n",
       "      <td>50</td>\n",
       "      <td>B1</td>\n",
       "      <td>Regular</td>\n",
       "      <td>191</td>\n",
       "      <td>R24</td>\n",
       "      <td>0.0</td>\n",
       "      <td>0.0</td>\n",
       "      <td>0.0</td>\n",
       "      <td>0.0</td>\n",
       "    </tr>\n",
       "    <tr>\n",
       "      <th>99999</th>\n",
       "      <td>0</td>\n",
       "      <td>0.90</td>\n",
       "      <td>E</td>\n",
       "      <td>4</td>\n",
       "      <td>12</td>\n",
       "      <td>53</td>\n",
       "      <td>50</td>\n",
       "      <td>B1</td>\n",
       "      <td>Regular</td>\n",
       "      <td>4116</td>\n",
       "      <td>R24</td>\n",
       "      <td>0.0</td>\n",
       "      <td>0.0</td>\n",
       "      <td>0.0</td>\n",
       "      <td>0.0</td>\n",
       "    </tr>\n",
       "  </tbody>\n",
       "</table>\n",
       "</div>"
      ],
      "text/plain": [
       "       ClaimNb  Exposure Area  VehPower  VehAge  DrivAge  BonusMalus VehBrand  \\\n",
       "0            0      0.10    D         5       0       55          50      B12   \n",
       "1            0      0.77    D         5       0       55          50      B12   \n",
       "99998        0      0.90    C         7       9       44          50       B1   \n",
       "99999        0      0.90    E         4      12       53          50       B1   \n",
       "\n",
       "        VehGas  Density Region  ClaimAmount  PurePremium  Frequency  \\\n",
       "0      Regular     1217    R82          0.0          0.0        0.0   \n",
       "1      Regular     1217    R82          0.0          0.0        0.0   \n",
       "99998  Regular      191    R24          0.0          0.0        0.0   \n",
       "99999  Regular     4116    R24          0.0          0.0        0.0   \n",
       "\n",
       "       AvgClaimAmount  \n",
       "0                 0.0  \n",
       "1                 0.0  \n",
       "99998             0.0  \n",
       "99999             0.0  "
      ]
     },
     "execution_count": 8,
     "metadata": {},
     "output_type": "execute_result"
    }
   ],
   "source": [
    "ifile = '../data/processed/clean_data.csv.zip'\n",
    "df = pd.read_csv(ifile, compression='zip')\n",
    "print(df.shape)\n",
    "df.head(2).append(df.tail(2))"
   ]
  },
  {
   "cell_type": "code",
   "execution_count": 14,
   "metadata": {
    "ExecuteTime": {
     "end_time": "2020-09-26T16:05:49.367862Z",
     "start_time": "2020-09-26T16:05:47.849319Z"
    },
    "colab": {
     "base_uri": "https://localhost:8080/",
     "height": 168
    },
    "id": "OGwqiUUx5kiJ",
    "outputId": "324cffe8-bab0-438e-a2b8-68498f90b9a6"
   },
   "outputs": [
    {
     "data": {
      "text/plain": [
       "(100000, 1)"
      ]
     },
     "execution_count": 14,
     "metadata": {},
     "output_type": "execute_result"
    }
   ],
   "source": [
    "X = pd.read_csv(\"../data/processed/X.csv.zip\",header=None,compression='zip')\n",
    "X.shape"
   ]
  },
  {
   "cell_type": "code",
   "execution_count": null,
   "metadata": {
    "ExecuteTime": {
     "end_time": "2020-09-25T22:56:50.113120Z",
     "start_time": "2020-09-25T22:56:50.098132Z"
    },
    "id": "FTiEbQaQ5kiO"
   },
   "outputs": [],
   "source": [
    "df.head(2)"
   ]
  },
  {
   "cell_type": "code",
   "execution_count": null,
   "metadata": {
    "ExecuteTime": {
     "end_time": "2020-09-25T22:56:50.124380Z",
     "start_time": "2020-09-25T22:56:50.115686Z"
    },
    "id": "OYXNpeGD5kiX"
   },
   "outputs": [],
   "source": [
    "np.array(X[0].todense())[0][-5:] # last elements of first row"
   ]
  },
  {
   "cell_type": "code",
   "execution_count": null,
   "metadata": {
    "ExecuteTime": {
     "end_time": "2020-09-25T22:56:50.136960Z",
     "start_time": "2020-09-25T22:56:50.131972Z"
    },
    "id": "ZFELdlza5kig"
   },
   "outputs": [],
   "source": [
    "with open(\"../data/processed/features.json\") as fi:\n",
    "    json_features = json.load(fi)"
   ]
  },
  {
   "cell_type": "code",
   "execution_count": null,
   "metadata": {
    "ExecuteTime": {
     "end_time": "2020-09-25T22:56:50.144132Z",
     "start_time": "2020-09-25T22:56:50.138992Z"
    },
    "id": "ls7K4Op25kii"
   },
   "outputs": [],
   "source": [
    "json_features.keys()"
   ]
  },
  {
   "cell_type": "markdown",
   "metadata": {
    "id": "I5a7CfG45ki4"
   },
   "source": [
    "# Train Test Split"
   ]
  },
  {
   "cell_type": "code",
   "execution_count": null,
   "metadata": {
    "ExecuteTime": {
     "end_time": "2020-09-25T22:56:50.179685Z",
     "start_time": "2020-09-25T22:56:50.175572Z"
    },
    "id": "mbCMBAK95ki4"
   },
   "outputs": [],
   "source": [
    "from sklearn.model_selection import train_test_split"
   ]
  },
  {
   "cell_type": "code",
   "execution_count": null,
   "metadata": {
    "ExecuteTime": {
     "end_time": "2020-09-25T22:56:50.242803Z",
     "start_time": "2020-09-25T22:56:50.184379Z"
    },
    "id": "t7j7noBB5ki8"
   },
   "outputs": [],
   "source": [
    "df_train, df_test, X_train, X_test = train_test_split(df, X, random_state=SEED)\n",
    "\n",
    "target = ['Frequency']\n",
    "\n",
    "y_train = df_train[target].to_numpy().ravel()\n",
    "y_test = df_test[target].to_numpy().ravel()\n",
    "\n",
    "df_train.shape, df_test.shape, X_train.shape, X_test.shape"
   ]
  }
 ],
 "metadata": {
  "colab": {
   "name": "c01_tweedie_xgboost.ipynb",
   "provenance": []
  },
  "kernelspec": {
   "display_name": "Python (dataSc)",
   "language": "python",
   "name": "datasc"
  },
  "language_info": {
   "codemirror_mode": {
    "name": "ipython",
    "version": 3
   },
   "file_extension": ".py",
   "mimetype": "text/x-python",
   "name": "python",
   "nbconvert_exporter": "python",
   "pygments_lexer": "ipython3",
   "version": "3.7.7"
  },
  "toc": {
   "base_numbering": 1,
   "nav_menu": {},
   "number_sections": true,
   "sideBar": true,
   "skip_h1_title": false,
   "title_cell": "Table of Contents",
   "title_sidebar": "Contents",
   "toc_cell": true,
   "toc_position": {},
   "toc_section_display": true,
   "toc_window_display": true
  },
  "varInspector": {
   "cols": {
    "lenName": 16,
    "lenType": 16,
    "lenVar": 40
   },
   "kernels_config": {
    "python": {
     "delete_cmd_postfix": "",
     "delete_cmd_prefix": "del ",
     "library": "var_list.py",
     "varRefreshCmd": "print(var_dic_list())"
    },
    "r": {
     "delete_cmd_postfix": ") ",
     "delete_cmd_prefix": "rm(",
     "library": "var_list.r",
     "varRefreshCmd": "cat(var_dic_list()) "
    }
   },
   "types_to_exclude": [
    "module",
    "function",
    "builtin_function_or_method",
    "instance",
    "_Feature"
   ],
   "window_display": false
  }
 },
 "nbformat": 4,
 "nbformat_minor": 1
}
