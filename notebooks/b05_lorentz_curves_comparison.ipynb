{
 "cells": [
  {
   "cell_type": "markdown",
   "metadata": {
    "toc": true
   },
   "source": [
    "<h1>Table of Contents<span class=\"tocSkip\"></span></h1>\n",
    "<div class=\"toc\"><ul class=\"toc-item\"><li><span><a href=\"#Load-the-libraries\" data-toc-modified-id=\"Load-the-libraries-1\"><span class=\"toc-item-num\">1&nbsp;&nbsp;</span>Load the libraries</a></span></li><li><span><a href=\"#Load-the-data\" data-toc-modified-id=\"Load-the-data-2\"><span class=\"toc-item-num\">2&nbsp;&nbsp;</span>Load the data</a></span></li><li><span><a href=\"#Train-Test-Split\" data-toc-modified-id=\"Train-Test-Split-3\"><span class=\"toc-item-num\">3&nbsp;&nbsp;</span>Train Test Split</a></span></li><li><span><a href=\"#Pure-Premium-Modelling-:-Tweedie-GLM\" data-toc-modified-id=\"Pure-Premium-Modelling-:-Tweedie-GLM-4\"><span class=\"toc-item-num\">4&nbsp;&nbsp;</span>Pure Premium Modelling : Tweedie GLM</a></span></li><li><span><a href=\"#Modelling:-Product-of-Frequency-and-Severity-Modelling\" data-toc-modified-id=\"Modelling:-Product-of-Frequency-and-Severity-Modelling-5\"><span class=\"toc-item-num\">5&nbsp;&nbsp;</span>Modelling: Product of Frequency and Severity Modelling</a></span></li><li><span><a href=\"#Lorentz-Curves\" data-toc-modified-id=\"Lorentz-Curves-6\"><span class=\"toc-item-num\">6&nbsp;&nbsp;</span>Lorentz Curves</a></span></li></ul></div>"
   ]
  },
  {
   "cell_type": "markdown",
   "metadata": {},
   "source": [
    "# Load the libraries"
   ]
  },
  {
   "cell_type": "code",
   "execution_count": 27,
   "metadata": {
    "ExecuteTime": {
     "end_time": "2020-09-25T23:07:43.915367Z",
     "start_time": "2020-09-25T23:07:43.903448Z"
    }
   },
   "outputs": [
    {
     "name": "stdout",
     "output_type": "stream",
     "text": [
      "The watermark extension is already loaded. To reload it, use:\n",
      "  %reload_ext watermark\n",
      "pandas   1.1.0\n",
      "autopep8 1.5.2\n",
      "json     2.0.9\n",
      "seaborn  0.11.0\n",
      "numpy    1.18.4\n",
      "joblib   0.16.0\n",
      "sklearn  0.23.1\n",
      "scipy    1.4.1\n",
      "\n"
     ]
    }
   ],
   "source": [
    "import numpy as np\n",
    "import pandas as pd\n",
    "import seaborn as sns\n",
    "import os,sys,time\n",
    "import sklearn\n",
    "import scipy\n",
    "import matplotlib.pyplot as plt\n",
    "sns.set()\n",
    "\n",
    "import json\n",
    "import joblib\n",
    "from sklearn.model_selection import train_test_split\n",
    "from sklearn.linear_model import PoissonRegressor, GammaRegressor, TweedieRegressor\n",
    "from sklearn.metrics import mean_absolute_error, mean_squared_error, mean_tweedie_deviance\n",
    "from sklearn.metrics import auc\n",
    "\n",
    "SEED = 100\n",
    "pd.set_option('max_columns',100)\n",
    "pd.set_option('plotting.backend','matplotlib') # matplotlib, bokeh, altair, plotly\n",
    "%load_ext watermark\n",
    "%watermark -iv"
   ]
  },
  {
   "cell_type": "markdown",
   "metadata": {},
   "source": [
    "# Load the data"
   ]
  },
  {
   "cell_type": "code",
   "execution_count": 2,
   "metadata": {
    "ExecuteTime": {
     "end_time": "2020-09-25T22:56:50.044545Z",
     "start_time": "2020-09-25T22:56:49.873114Z"
    }
   },
   "outputs": [
    {
     "name": "stdout",
     "output_type": "stream",
     "text": [
      "(100000, 15)\n"
     ]
    },
    {
     "data": {
      "text/html": [
       "<div>\n",
       "<style scoped>\n",
       "    .dataframe tbody tr th:only-of-type {\n",
       "        vertical-align: middle;\n",
       "    }\n",
       "\n",
       "    .dataframe tbody tr th {\n",
       "        vertical-align: top;\n",
       "    }\n",
       "\n",
       "    .dataframe thead th {\n",
       "        text-align: right;\n",
       "    }\n",
       "</style>\n",
       "<table border=\"1\" class=\"dataframe\">\n",
       "  <thead>\n",
       "    <tr style=\"text-align: right;\">\n",
       "      <th></th>\n",
       "      <th>ClaimNb</th>\n",
       "      <th>Exposure</th>\n",
       "      <th>Area</th>\n",
       "      <th>VehPower</th>\n",
       "      <th>VehAge</th>\n",
       "      <th>DrivAge</th>\n",
       "      <th>BonusMalus</th>\n",
       "      <th>VehBrand</th>\n",
       "      <th>VehGas</th>\n",
       "      <th>Density</th>\n",
       "      <th>Region</th>\n",
       "      <th>ClaimAmount</th>\n",
       "      <th>PurePremium</th>\n",
       "      <th>Frequency</th>\n",
       "      <th>AvgClaimAmount</th>\n",
       "    </tr>\n",
       "  </thead>\n",
       "  <tbody>\n",
       "    <tr>\n",
       "      <th>0</th>\n",
       "      <td>0</td>\n",
       "      <td>0.10</td>\n",
       "      <td>D</td>\n",
       "      <td>5</td>\n",
       "      <td>0</td>\n",
       "      <td>55</td>\n",
       "      <td>50</td>\n",
       "      <td>B12</td>\n",
       "      <td>Regular</td>\n",
       "      <td>1217</td>\n",
       "      <td>R82</td>\n",
       "      <td>0.0</td>\n",
       "      <td>0.0</td>\n",
       "      <td>0.0</td>\n",
       "      <td>0.0</td>\n",
       "    </tr>\n",
       "    <tr>\n",
       "      <th>1</th>\n",
       "      <td>0</td>\n",
       "      <td>0.77</td>\n",
       "      <td>D</td>\n",
       "      <td>5</td>\n",
       "      <td>0</td>\n",
       "      <td>55</td>\n",
       "      <td>50</td>\n",
       "      <td>B12</td>\n",
       "      <td>Regular</td>\n",
       "      <td>1217</td>\n",
       "      <td>R82</td>\n",
       "      <td>0.0</td>\n",
       "      <td>0.0</td>\n",
       "      <td>0.0</td>\n",
       "      <td>0.0</td>\n",
       "    </tr>\n",
       "    <tr>\n",
       "      <th>99998</th>\n",
       "      <td>0</td>\n",
       "      <td>0.90</td>\n",
       "      <td>C</td>\n",
       "      <td>7</td>\n",
       "      <td>9</td>\n",
       "      <td>44</td>\n",
       "      <td>50</td>\n",
       "      <td>B1</td>\n",
       "      <td>Regular</td>\n",
       "      <td>191</td>\n",
       "      <td>R24</td>\n",
       "      <td>0.0</td>\n",
       "      <td>0.0</td>\n",
       "      <td>0.0</td>\n",
       "      <td>0.0</td>\n",
       "    </tr>\n",
       "    <tr>\n",
       "      <th>99999</th>\n",
       "      <td>0</td>\n",
       "      <td>0.90</td>\n",
       "      <td>E</td>\n",
       "      <td>4</td>\n",
       "      <td>12</td>\n",
       "      <td>53</td>\n",
       "      <td>50</td>\n",
       "      <td>B1</td>\n",
       "      <td>Regular</td>\n",
       "      <td>4116</td>\n",
       "      <td>R24</td>\n",
       "      <td>0.0</td>\n",
       "      <td>0.0</td>\n",
       "      <td>0.0</td>\n",
       "      <td>0.0</td>\n",
       "    </tr>\n",
       "  </tbody>\n",
       "</table>\n",
       "</div>"
      ],
      "text/plain": [
       "       ClaimNb  Exposure Area  VehPower  VehAge  DrivAge  BonusMalus VehBrand  \\\n",
       "0            0      0.10    D         5       0       55          50      B12   \n",
       "1            0      0.77    D         5       0       55          50      B12   \n",
       "99998        0      0.90    C         7       9       44          50       B1   \n",
       "99999        0      0.90    E         4      12       53          50       B1   \n",
       "\n",
       "        VehGas  Density Region  ClaimAmount  PurePremium  Frequency  \\\n",
       "0      Regular     1217    R82          0.0          0.0        0.0   \n",
       "1      Regular     1217    R82          0.0          0.0        0.0   \n",
       "99998  Regular      191    R24          0.0          0.0        0.0   \n",
       "99999  Regular     4116    R24          0.0          0.0        0.0   \n",
       "\n",
       "       AvgClaimAmount  \n",
       "0                 0.0  \n",
       "1                 0.0  \n",
       "99998             0.0  \n",
       "99999             0.0  "
      ]
     },
     "execution_count": 2,
     "metadata": {},
     "output_type": "execute_result"
    }
   ],
   "source": [
    "df = pd.read_csv('../data/processed/clean_data.csv.zip', compression='zip')\n",
    "print(df.shape)\n",
    "df.head(2).append(df.tail(2))"
   ]
  },
  {
   "cell_type": "code",
   "execution_count": 3,
   "metadata": {
    "ExecuteTime": {
     "end_time": "2020-09-25T22:56:50.093550Z",
     "start_time": "2020-09-25T22:56:50.048414Z"
    }
   },
   "outputs": [],
   "source": [
    "X = scipy.sparse.load_npz(\"../data/processed/X.npz\")"
   ]
  },
  {
   "cell_type": "code",
   "execution_count": 4,
   "metadata": {
    "ExecuteTime": {
     "end_time": "2020-09-25T22:56:50.113120Z",
     "start_time": "2020-09-25T22:56:50.098132Z"
    }
   },
   "outputs": [
    {
     "data": {
      "text/html": [
       "<div>\n",
       "<style scoped>\n",
       "    .dataframe tbody tr th:only-of-type {\n",
       "        vertical-align: middle;\n",
       "    }\n",
       "\n",
       "    .dataframe tbody tr th {\n",
       "        vertical-align: top;\n",
       "    }\n",
       "\n",
       "    .dataframe thead th {\n",
       "        text-align: right;\n",
       "    }\n",
       "</style>\n",
       "<table border=\"1\" class=\"dataframe\">\n",
       "  <thead>\n",
       "    <tr style=\"text-align: right;\">\n",
       "      <th></th>\n",
       "      <th>ClaimNb</th>\n",
       "      <th>Exposure</th>\n",
       "      <th>Area</th>\n",
       "      <th>VehPower</th>\n",
       "      <th>VehAge</th>\n",
       "      <th>DrivAge</th>\n",
       "      <th>BonusMalus</th>\n",
       "      <th>VehBrand</th>\n",
       "      <th>VehGas</th>\n",
       "      <th>Density</th>\n",
       "      <th>Region</th>\n",
       "      <th>ClaimAmount</th>\n",
       "      <th>PurePremium</th>\n",
       "      <th>Frequency</th>\n",
       "      <th>AvgClaimAmount</th>\n",
       "    </tr>\n",
       "  </thead>\n",
       "  <tbody>\n",
       "    <tr>\n",
       "      <th>0</th>\n",
       "      <td>0</td>\n",
       "      <td>0.10</td>\n",
       "      <td>D</td>\n",
       "      <td>5</td>\n",
       "      <td>0</td>\n",
       "      <td>55</td>\n",
       "      <td>50</td>\n",
       "      <td>B12</td>\n",
       "      <td>Regular</td>\n",
       "      <td>1217</td>\n",
       "      <td>R82</td>\n",
       "      <td>0.0</td>\n",
       "      <td>0.0</td>\n",
       "      <td>0.0</td>\n",
       "      <td>0.0</td>\n",
       "    </tr>\n",
       "    <tr>\n",
       "      <th>1</th>\n",
       "      <td>0</td>\n",
       "      <td>0.77</td>\n",
       "      <td>D</td>\n",
       "      <td>5</td>\n",
       "      <td>0</td>\n",
       "      <td>55</td>\n",
       "      <td>50</td>\n",
       "      <td>B12</td>\n",
       "      <td>Regular</td>\n",
       "      <td>1217</td>\n",
       "      <td>R82</td>\n",
       "      <td>0.0</td>\n",
       "      <td>0.0</td>\n",
       "      <td>0.0</td>\n",
       "      <td>0.0</td>\n",
       "    </tr>\n",
       "  </tbody>\n",
       "</table>\n",
       "</div>"
      ],
      "text/plain": [
       "   ClaimNb  Exposure Area  VehPower  VehAge  DrivAge  BonusMalus VehBrand  \\\n",
       "0        0      0.10    D         5       0       55          50      B12   \n",
       "1        0      0.77    D         5       0       55          50      B12   \n",
       "\n",
       "    VehGas  Density Region  ClaimAmount  PurePremium  Frequency  \\\n",
       "0  Regular     1217    R82          0.0          0.0        0.0   \n",
       "1  Regular     1217    R82          0.0          0.0        0.0   \n",
       "\n",
       "   AvgClaimAmount  \n",
       "0             0.0  \n",
       "1             0.0  "
      ]
     },
     "execution_count": 4,
     "metadata": {},
     "output_type": "execute_result"
    }
   ],
   "source": [
    "df.head(2)"
   ]
  },
  {
   "cell_type": "code",
   "execution_count": 5,
   "metadata": {
    "ExecuteTime": {
     "end_time": "2020-09-25T22:56:50.124380Z",
     "start_time": "2020-09-25T22:56:50.115686Z"
    }
   },
   "outputs": [
    {
     "data": {
      "text/plain": [
       "array([ 0.        ,  1.        ,  0.        ,  0.69864446, 50.        ])"
      ]
     },
     "execution_count": 5,
     "metadata": {},
     "output_type": "execute_result"
    }
   ],
   "source": [
    "np.array(X[0].todense())[0][-5:] # last elements of first row"
   ]
  },
  {
   "cell_type": "code",
   "execution_count": 6,
   "metadata": {
    "ExecuteTime": {
     "end_time": "2020-09-25T22:56:50.136960Z",
     "start_time": "2020-09-25T22:56:50.131972Z"
    }
   },
   "outputs": [],
   "source": [
    "with open(\"../data/processed/features.json\") as fi:\n",
    "    json_features = json.load(fi)"
   ]
  },
  {
   "cell_type": "code",
   "execution_count": 7,
   "metadata": {
    "ExecuteTime": {
     "end_time": "2020-09-25T22:56:50.144132Z",
     "start_time": "2020-09-25T22:56:50.138992Z"
    }
   },
   "outputs": [
    {
     "data": {
      "text/plain": [
       "dict_keys(['cols_ohe_before', 'cols_kbin', 'cols_log_scale', 'cols_pass', 'feature_names_before', 'feature_names_after', 'desc'])"
      ]
     },
     "execution_count": 7,
     "metadata": {},
     "output_type": "execute_result"
    }
   ],
   "source": [
    "json_features.keys()"
   ]
  },
  {
   "cell_type": "markdown",
   "metadata": {},
   "source": [
    "# Train Test Split"
   ]
  },
  {
   "cell_type": "code",
   "execution_count": 8,
   "metadata": {
    "ExecuteTime": {
     "end_time": "2020-09-25T22:56:50.179685Z",
     "start_time": "2020-09-25T22:56:50.175572Z"
    }
   },
   "outputs": [],
   "source": [
    "from sklearn.model_selection import train_test_split"
   ]
  },
  {
   "cell_type": "code",
   "execution_count": 9,
   "metadata": {
    "ExecuteTime": {
     "end_time": "2020-09-25T22:56:50.242803Z",
     "start_time": "2020-09-25T22:56:50.184379Z"
    }
   },
   "outputs": [
    {
     "data": {
      "text/plain": [
       "((75000, 15), (25000, 15), (75000, 71), (25000, 71))"
      ]
     },
     "execution_count": 9,
     "metadata": {},
     "output_type": "execute_result"
    }
   ],
   "source": [
    "df_train, df_test, X_train, X_test = train_test_split(df, X, random_state=SEED)\n",
    "\n",
    "target = ['Frequency']\n",
    "\n",
    "y_train = df_train[target].to_numpy().ravel()\n",
    "y_test = df_test[target].to_numpy().ravel()\n",
    "\n",
    "df_train.shape, df_test.shape, X_train.shape, X_test.shape"
   ]
  },
  {
   "cell_type": "markdown",
   "metadata": {},
   "source": [
    "# Pure Premium Modelling : Tweedie GLM"
   ]
  },
  {
   "cell_type": "code",
   "execution_count": 10,
   "metadata": {
    "ExecuteTime": {
     "end_time": "2020-09-25T22:56:50.253085Z",
     "start_time": "2020-09-25T22:56:50.247733Z"
    }
   },
   "outputs": [],
   "source": [
    "from sklearn.linear_model import PoissonRegressor, GammaRegressor, TweedieRegressor\n",
    "from sklearn.metrics import mean_absolute_error, mean_squared_error, mean_tweedie_deviance"
   ]
  },
  {
   "cell_type": "code",
   "execution_count": 11,
   "metadata": {
    "ExecuteTime": {
     "end_time": "2020-09-25T22:56:50.263764Z",
     "start_time": "2020-09-25T22:56:50.260218Z"
    }
   },
   "outputs": [],
   "source": [
    "# TweedieRegressor?"
   ]
  },
  {
   "cell_type": "code",
   "execution_count": 12,
   "metadata": {
    "ExecuteTime": {
     "end_time": "2020-09-25T22:56:52.316038Z",
     "start_time": "2020-09-25T22:56:50.266261Z"
    }
   },
   "outputs": [
    {
     "data": {
      "text/plain": [
       "TweedieRegressor(alpha=0.1, max_iter=10000, power=1.9)"
      ]
     },
     "execution_count": 12,
     "metadata": {},
     "output_type": "execute_result"
    }
   ],
   "source": [
    "glm_twd = TweedieRegressor(power=1.9, alpha=.1, max_iter=10_000)\n",
    "\n",
    "glm_twd.fit(X_train, df_train[\"PurePremium\"],\n",
    "                     sample_weight=df_train[\"Exposure\"])"
   ]
  },
  {
   "cell_type": "code",
   "execution_count": 13,
   "metadata": {
    "ExecuteTime": {
     "end_time": "2020-09-25T22:56:52.377658Z",
     "start_time": "2020-09-25T22:56:52.318142Z"
    }
   },
   "outputs": [
    {
     "data": {
      "text/html": [
       "<div>\n",
       "<style scoped>\n",
       "    .dataframe tbody tr th:only-of-type {\n",
       "        vertical-align: middle;\n",
       "    }\n",
       "\n",
       "    .dataframe tbody tr th {\n",
       "        vertical-align: top;\n",
       "    }\n",
       "\n",
       "    .dataframe thead th {\n",
       "        text-align: right;\n",
       "    }\n",
       "</style>\n",
       "<table border=\"1\" class=\"dataframe\">\n",
       "  <thead>\n",
       "    <tr style=\"text-align: right;\">\n",
       "      <th></th>\n",
       "      <th>train</th>\n",
       "      <th>test</th>\n",
       "    </tr>\n",
       "  </thead>\n",
       "  <tbody>\n",
       "    <tr>\n",
       "      <th>D2</th>\n",
       "      <td>0.020186</td>\n",
       "      <td>0.013533</td>\n",
       "    </tr>\n",
       "    <tr>\n",
       "      <th>mean_absolute_error</th>\n",
       "      <td>182.982035</td>\n",
       "      <td>179.520763</td>\n",
       "    </tr>\n",
       "    <tr>\n",
       "      <th>mean_squared_error</th>\n",
       "      <td>142995.523138</td>\n",
       "      <td>69103.013696</td>\n",
       "    </tr>\n",
       "  </tbody>\n",
       "</table>\n",
       "</div>"
      ],
      "text/plain": [
       "                             train          test\n",
       "D2                        0.020186      0.013533\n",
       "mean_absolute_error     182.982035    179.520763\n",
       "mean_squared_error   142995.523138  69103.013696"
      ]
     },
     "execution_count": 13,
     "metadata": {},
     "output_type": "execute_result"
    }
   ],
   "source": [
    "tr_preds = glm_twd.predict(X_train)\n",
    "tx_preds = glm_twd.predict(X_test)"
   ]
  },
  {
   "cell_type": "markdown",
   "metadata": {},
   "source": [
    "# Modelling: Product of Frequency and Severity Modelling"
   ]
  },
  {
   "cell_type": "code",
   "execution_count": 14,
   "metadata": {
    "ExecuteTime": {
     "end_time": "2020-09-25T22:56:54.025897Z",
     "start_time": "2020-09-25T22:56:52.379975Z"
    }
   },
   "outputs": [],
   "source": [
    "# freq model: possion\n",
    "glm_freq = PoissonRegressor(alpha=1e-3, max_iter=400)\n",
    "glm_freq.fit(X_train, df_train[\"Frequency\"],\n",
    "             sample_weight=df_train[\"Exposure\"])\n",
    "\n",
    "tr_preds_freq = glm_freq.predict(X_train)\n",
    "tx_preds_freq = glm_freq.predict(X_test)"
   ]
  },
  {
   "cell_type": "code",
   "execution_count": 15,
   "metadata": {
    "ExecuteTime": {
     "end_time": "2020-09-25T22:56:54.068853Z",
     "start_time": "2020-09-25T22:56:54.027979Z"
    }
   },
   "outputs": [],
   "source": [
    "# severity model: gamma\n",
    "mask_train = (df_train[\"ClaimAmount\"] > 0).to_numpy().ravel()\n",
    "mask_test = (df_test[\"ClaimAmount\"] > 0).to_numpy().ravel()\n",
    "\n",
    "glm_sev = GammaRegressor(alpha=10., max_iter=10_000)\n",
    "\n",
    "glm_sev.fit(\n",
    "    X_train[mask_train],\n",
    "    df_train.loc[mask_train, \"AvgClaimAmount\"],\n",
    "    sample_weight=df_train.loc[mask_train, \"ClaimNb\"],\n",
    ")\n",
    "\n",
    "tr_preds_sev = glm_sev.predict(X_train)\n",
    "tx_preds_sev = glm_sev.predict(X_test)"
   ]
  },
  {
   "cell_type": "code",
   "execution_count": 16,
   "metadata": {
    "ExecuteTime": {
     "end_time": "2020-09-25T22:56:54.075055Z",
     "start_time": "2020-09-25T22:56:54.071010Z"
    }
   },
   "outputs": [],
   "source": [
    "# product of prediction of freq and severity\n",
    "\n",
    "tr_preds = tr_preds_freq * tr_preds_sev\n",
    "tx_preds  = tx_preds_freq * tx_preds_sev"
   ]
  },
  {
   "cell_type": "markdown",
   "metadata": {
    "ExecuteTime": {
     "end_time": "2020-09-25T22:56:54.106761Z",
     "start_time": "2020-09-25T22:56:54.096003Z"
    }
   },
   "source": [
    "# Lorentz Curves\n",
    "\n",
    "Reference: https://scikit-learn.org/stable/auto_examples/linear_model/plot_tweedie_regression_insurance_claims.html#sphx-glr-auto-examples-linear-model-plot-tweedie-regression-insurance-claims-py\n",
    "\n",
    "\n",
    "To compare the models, we can plot the Lorentz curve.\n",
    "- For each model, the policyholders are ranked from safest to riskiest and the fraction of observed total cumulated claims is plotted on the y axis.\n",
    "\n",
    "- The Gini coefficient (based on the area under the curve) can be used as a model selection metric.\n",
    "- The gini coefficient metric does not reflect the ability of the models to make accurate predictions in terms of absolute value of total claim amounts but only in terms of relative amounts as a ranking metric.\n",
    "\n",
    "- Both models are able to rank policyholders by risky-ness significantly better than chance although they are also both far from perfect due to the natural difficulty of the prediction problem from few features.\n",
    "\n",
    "- Note that the Gini index only characterize the ranking performance of the model but not its calibration: any monotonic transformation of the predictions leaves the Gini index of the model unchanged.\n",
    "\n",
    "- Finally one should highlight that the Compound Poisson Gamma model that is directly fit on the pure premium is operationally simpler to develop and maintain as it consists in a single scikit-learn estimator instead of a pair of models, each with its own set of hyperparameters.\n",
    "\n"
   ]
  },
  {
   "cell_type": "code",
   "execution_count": 23,
   "metadata": {
    "ExecuteTime": {
     "end_time": "2020-09-25T23:04:48.619492Z",
     "start_time": "2020-09-25T23:04:48.616100Z"
    }
   },
   "outputs": [],
   "source": [
    "from sklearn.metrics import mean_absolute_error, mean_squared_error, auc"
   ]
  },
  {
   "cell_type": "code",
   "execution_count": 24,
   "metadata": {
    "ExecuteTime": {
     "end_time": "2020-09-25T23:04:49.708434Z",
     "start_time": "2020-09-25T23:04:49.703971Z"
    }
   },
   "outputs": [],
   "source": [
    "def lorenz_curve(y_true, y_pred, exposure):\n",
    "    y_true, y_pred = np.asarray(y_true), np.asarray(y_pred)\n",
    "    exposure = np.asarray(exposure)\n",
    "\n",
    "    # order samples by increasing predicted risk:\n",
    "    ranking = np.argsort(y_pred)\n",
    "    ranked_exposure = exposure[ranking]\n",
    "    ranked_pure_premium = y_true[ranking]\n",
    "    cumulated_claim_amount = np.cumsum(ranked_pure_premium * ranked_exposure)\n",
    "    cumulated_claim_amount /= cumulated_claim_amount[-1]\n",
    "    cumulated_samples = np.linspace(0, 1, len(cumulated_claim_amount))\n",
    "    return cumulated_samples, cumulated_claim_amount"
   ]
  },
  {
   "cell_type": "code",
   "execution_count": 25,
   "metadata": {
    "ExecuteTime": {
     "end_time": "2020-09-25T23:04:50.282378Z",
     "start_time": "2020-09-25T23:04:50.275005Z"
    }
   },
   "outputs": [],
   "source": [
    "y_pred_product = glm_freq.predict(X_test) * glm_sev.predict(X_test)\n",
    "y_pred_total = glm_twd.predict(X_test)"
   ]
  },
  {
   "cell_type": "code",
   "execution_count": 26,
   "metadata": {
    "ExecuteTime": {
     "end_time": "2020-09-25T23:04:51.133852Z",
     "start_time": "2020-09-25T23:04:50.812801Z"
    }
   },
   "outputs": [
    {
     "data": {
      "text/plain": [
       "[]"
      ]
     },
     "execution_count": 26,
     "metadata": {},
     "output_type": "execute_result"
    },
    {
     "data": {
      "image/png": "[encoded data removed]",
      "text/plain": [
       "<Figure size 576x576 with 1 Axes>"
      ]
     },
     "metadata": {},
     "output_type": "display_data"
    }
   ],
   "source": [
    "fig, ax = plt.subplots(figsize=(8, 8))\n",
    "\n",
    "for label, y_pred in [(\"Frequency * Severity model\", y_pred_product),\n",
    "                      (\"Compound Poisson Gamma\", y_pred_total)]:\n",
    "    ordered_samples, cum_claims = lorenz_curve(\n",
    "        df_test[\"PurePremium\"], y_pred, df_test[\"Exposure\"])\n",
    "    gini = 1 - 2 * auc(ordered_samples, cum_claims)\n",
    "    label += \" (Gini index: {:.3f})\".format(gini)\n",
    "    ax.plot(ordered_samples, cum_claims, linestyle=\"-\", label=label)\n",
    "\n",
    "# Oracle model: y_pred == y_test\n",
    "ordered_samples, cum_claims = lorenz_curve(\n",
    "    df_test[\"PurePremium\"], df_test[\"PurePremium\"], df_test[\"Exposure\"])\n",
    "gini = 1 - 2 * auc(ordered_samples, cum_claims)\n",
    "label = \"Oracle (Gini index: {:.3f})\".format(gini)\n",
    "ax.plot(ordered_samples, cum_claims, linestyle=\"-.\", color=\"gray\",\n",
    "        label=label)\n",
    "\n",
    "# Random baseline\n",
    "ax.plot([0, 1], [0, 1], linestyle=\"--\", color=\"black\",\n",
    "        label=\"Random baseline\")\n",
    "ax.set(\n",
    "    title=\"Lorenz Curves\",\n",
    "    xlabel=('Fraction of policyholders\\n'\n",
    "            '(ordered by model from safest to riskiest)'),\n",
    "    ylabel='Fraction of total claim amount'\n",
    ")\n",
    "ax.legend(loc=\"upper left\")\n",
    "plt.plot()"
   ]
  },
  {
   "cell_type": "code",
   "execution_count": null,
   "metadata": {},
   "outputs": [],
   "source": []
  }
 ],
 "metadata": {
  "kernelspec": {
   "display_name": "Python (dataSc)",
   "language": "python",
   "name": "datasc"
  },
  "language_info": {
   "codemirror_mode": {
    "name": "ipython",
    "version": 3
   },
   "file_extension": ".py",
   "mimetype": "text/x-python",
   "name": "python",
   "nbconvert_exporter": "python",
   "pygments_lexer": "ipython3",
   "version": "3.7.7"
  },
  "toc": {
   "base_numbering": 1,
   "nav_menu": {},
   "number_sections": true,
   "sideBar": true,
   "skip_h1_title": false,
   "title_cell": "Table of Contents",
   "title_sidebar": "Contents",
   "toc_cell": true,
   "toc_position": {},
   "toc_section_display": true,
   "toc_window_display": true
  },
  "varInspector": {
   "cols": {
    "lenName": 16,
    "lenType": 16,
    "lenVar": 40
   },
   "kernels_config": {
    "python": {
     "delete_cmd_postfix": "",
     "delete_cmd_prefix": "del ",
     "library": "var_list.py",
     "varRefreshCmd": "print(var_dic_list())"
    },
    "r": {
     "delete_cmd_postfix": ") ",
     "delete_cmd_prefix": "rm(",
     "library": "var_list.r",
     "varRefreshCmd": "cat(var_dic_list()) "
    }
   },
   "types_to_exclude": [
    "module",
    "function",
    "builtin_function_or_method",
    "instance",
    "_Feature"
   ],
   "window_display": false
  }
 },
 "nbformat": 4,
 "nbformat_minor": 4
}
