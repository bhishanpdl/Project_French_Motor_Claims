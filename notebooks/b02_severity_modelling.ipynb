{
 "cells": [
  {
   "cell_type": "markdown",
   "metadata": {
    "toc": true
   },
   "source": [
    "<h1>Table of Contents<span class=\"tocSkip\"></span></h1>\n",
    "<div class=\"toc\"><ul class=\"toc-item\"><li><span><a href=\"#Load-the-libraries\" data-toc-modified-id=\"Load-the-libraries-1\"><span class=\"toc-item-num\">1&nbsp;&nbsp;</span>Load the libraries</a></span></li><li><span><a href=\"#Load-the-data\" data-toc-modified-id=\"Load-the-data-2\"><span class=\"toc-item-num\">2&nbsp;&nbsp;</span>Load the data</a></span></li><li><span><a href=\"#Train-Test-Split\" data-toc-modified-id=\"Train-Test-Split-3\"><span class=\"toc-item-num\">3&nbsp;&nbsp;</span>Train Test Split</a></span></li><li><span><a href=\"#Frequency-model-:-Gamma-distribution\" data-toc-modified-id=\"Frequency-model-:-Gamma-distribution-4\"><span class=\"toc-item-num\">4&nbsp;&nbsp;</span>Frequency model : Gamma distribution</a></span></li><li><span><a href=\"#Model-Evaluation\" data-toc-modified-id=\"Model-Evaluation-5\"><span class=\"toc-item-num\">5&nbsp;&nbsp;</span>Model Evaluation</a></span></li></ul></div>"
   ]
  },
  {
   "cell_type": "markdown",
   "metadata": {},
   "source": [
    "# Load the libraries"
   ]
  },
  {
   "cell_type": "code",
   "execution_count": 11,
   "metadata": {
    "ExecuteTime": {
     "end_time": "2020-09-24T22:56:45.008583Z",
     "start_time": "2020-09-24T22:56:44.995001Z"
    }
   },
   "outputs": [
    {
     "name": "stdout",
     "output_type": "stream",
     "text": [
      "The watermark extension is already loaded. To reload it, use:\n",
      "  %reload_ext watermark\n",
      "seaborn  0.11.0\n",
      "sklearn  0.23.1\n",
      "pandas   1.1.0\n",
      "json     2.0.9\n",
      "numpy    1.18.4\n",
      "scipy    1.4.1\n",
      "autopep8 1.5.2\n",
      "\n"
     ]
    }
   ],
   "source": [
    "import numpy as np\n",
    "import pandas as pd\n",
    "import seaborn as sns\n",
    "import os,sys,time\n",
    "import sklearn\n",
    "import scipy\n",
    "import matplotlib.pyplot as plt\n",
    "sns.set()\n",
    "\n",
    "\n",
    "SEED = 100\n",
    "pd.set_option('max_columns',100)\n",
    "pd.set_option('plotting.backend','matplotlib') # matplotlib, bokeh, altair, plotly\n",
    "%load_ext watermark\n",
    "%watermark -iv"
   ]
  },
  {
   "cell_type": "markdown",
   "metadata": {},
   "source": [
    "# Load the data"
   ]
  },
  {
   "cell_type": "code",
   "execution_count": 12,
   "metadata": {
    "ExecuteTime": {
     "end_time": "2020-09-24T22:56:45.191290Z",
     "start_time": "2020-09-24T22:56:45.014516Z"
    }
   },
   "outputs": [
    {
     "name": "stdout",
     "output_type": "stream",
     "text": [
      "(100000, 15)\n"
     ]
    },
    {
     "data": {
      "text/html": [
       "<div>\n",
       "<style scoped>\n",
       "    .dataframe tbody tr th:only-of-type {\n",
       "        vertical-align: middle;\n",
       "    }\n",
       "\n",
       "    .dataframe tbody tr th {\n",
       "        vertical-align: top;\n",
       "    }\n",
       "\n",
       "    .dataframe thead th {\n",
       "        text-align: right;\n",
       "    }\n",
       "</style>\n",
       "<table border=\"1\" class=\"dataframe\">\n",
       "  <thead>\n",
       "    <tr style=\"text-align: right;\">\n",
       "      <th></th>\n",
       "      <th>ClaimNb</th>\n",
       "      <th>Exposure</th>\n",
       "      <th>Area</th>\n",
       "      <th>VehPower</th>\n",
       "      <th>VehAge</th>\n",
       "      <th>DrivAge</th>\n",
       "      <th>BonusMalus</th>\n",
       "      <th>VehBrand</th>\n",
       "      <th>VehGas</th>\n",
       "      <th>Density</th>\n",
       "      <th>Region</th>\n",
       "      <th>ClaimAmount</th>\n",
       "      <th>PurePremium</th>\n",
       "      <th>Frequency</th>\n",
       "      <th>AvgClaimAmount</th>\n",
       "    </tr>\n",
       "  </thead>\n",
       "  <tbody>\n",
       "    <tr>\n",
       "      <th>0</th>\n",
       "      <td>0</td>\n",
       "      <td>0.10</td>\n",
       "      <td>D</td>\n",
       "      <td>5</td>\n",
       "      <td>0</td>\n",
       "      <td>55</td>\n",
       "      <td>50</td>\n",
       "      <td>B12</td>\n",
       "      <td>Regular</td>\n",
       "      <td>1217</td>\n",
       "      <td>R82</td>\n",
       "      <td>0.0</td>\n",
       "      <td>0.0</td>\n",
       "      <td>0.0</td>\n",
       "      <td>0.0</td>\n",
       "    </tr>\n",
       "    <tr>\n",
       "      <th>1</th>\n",
       "      <td>0</td>\n",
       "      <td>0.77</td>\n",
       "      <td>D</td>\n",
       "      <td>5</td>\n",
       "      <td>0</td>\n",
       "      <td>55</td>\n",
       "      <td>50</td>\n",
       "      <td>B12</td>\n",
       "      <td>Regular</td>\n",
       "      <td>1217</td>\n",
       "      <td>R82</td>\n",
       "      <td>0.0</td>\n",
       "      <td>0.0</td>\n",
       "      <td>0.0</td>\n",
       "      <td>0.0</td>\n",
       "    </tr>\n",
       "    <tr>\n",
       "      <th>99998</th>\n",
       "      <td>0</td>\n",
       "      <td>0.90</td>\n",
       "      <td>C</td>\n",
       "      <td>7</td>\n",
       "      <td>9</td>\n",
       "      <td>44</td>\n",
       "      <td>50</td>\n",
       "      <td>B1</td>\n",
       "      <td>Regular</td>\n",
       "      <td>191</td>\n",
       "      <td>R24</td>\n",
       "      <td>0.0</td>\n",
       "      <td>0.0</td>\n",
       "      <td>0.0</td>\n",
       "      <td>0.0</td>\n",
       "    </tr>\n",
       "    <tr>\n",
       "      <th>99999</th>\n",
       "      <td>0</td>\n",
       "      <td>0.90</td>\n",
       "      <td>E</td>\n",
       "      <td>4</td>\n",
       "      <td>12</td>\n",
       "      <td>53</td>\n",
       "      <td>50</td>\n",
       "      <td>B1</td>\n",
       "      <td>Regular</td>\n",
       "      <td>4116</td>\n",
       "      <td>R24</td>\n",
       "      <td>0.0</td>\n",
       "      <td>0.0</td>\n",
       "      <td>0.0</td>\n",
       "      <td>0.0</td>\n",
       "    </tr>\n",
       "  </tbody>\n",
       "</table>\n",
       "</div>"
      ],
      "text/plain": [
       "       ClaimNb  Exposure Area  VehPower  VehAge  DrivAge  BonusMalus VehBrand  \\\n",
       "0            0      0.10    D         5       0       55          50      B12   \n",
       "1            0      0.77    D         5       0       55          50      B12   \n",
       "99998        0      0.90    C         7       9       44          50       B1   \n",
       "99999        0      0.90    E         4      12       53          50       B1   \n",
       "\n",
       "        VehGas  Density Region  ClaimAmount  PurePremium  Frequency  \\\n",
       "0      Regular     1217    R82          0.0          0.0        0.0   \n",
       "1      Regular     1217    R82          0.0          0.0        0.0   \n",
       "99998  Regular      191    R24          0.0          0.0        0.0   \n",
       "99999  Regular     4116    R24          0.0          0.0        0.0   \n",
       "\n",
       "       AvgClaimAmount  \n",
       "0                 0.0  \n",
       "1                 0.0  \n",
       "99998             0.0  \n",
       "99999             0.0  "
      ]
     },
     "execution_count": 12,
     "metadata": {},
     "output_type": "execute_result"
    }
   ],
   "source": [
    "df = pd.read_csv('../data/processed/clean_data.csv.zip', compression='zip')\n",
    "print(df.shape)\n",
    "df.head(2).append(df.tail(2))"
   ]
  },
  {
   "cell_type": "code",
   "execution_count": 13,
   "metadata": {
    "ExecuteTime": {
     "end_time": "2020-09-24T22:56:45.241853Z",
     "start_time": "2020-09-24T22:56:45.196112Z"
    }
   },
   "outputs": [],
   "source": [
    "X = scipy.sparse.load_npz(\"../data/processed/X.npz\")"
   ]
  },
  {
   "cell_type": "code",
   "execution_count": 14,
   "metadata": {
    "ExecuteTime": {
     "end_time": "2020-09-24T22:56:45.262609Z",
     "start_time": "2020-09-24T22:56:45.244731Z"
    }
   },
   "outputs": [
    {
     "data": {
      "text/html": [
       "<div>\n",
       "<style scoped>\n",
       "    .dataframe tbody tr th:only-of-type {\n",
       "        vertical-align: middle;\n",
       "    }\n",
       "\n",
       "    .dataframe tbody tr th {\n",
       "        vertical-align: top;\n",
       "    }\n",
       "\n",
       "    .dataframe thead th {\n",
       "        text-align: right;\n",
       "    }\n",
       "</style>\n",
       "<table border=\"1\" class=\"dataframe\">\n",
       "  <thead>\n",
       "    <tr style=\"text-align: right;\">\n",
       "      <th></th>\n",
       "      <th>ClaimNb</th>\n",
       "      <th>Exposure</th>\n",
       "      <th>Area</th>\n",
       "      <th>VehPower</th>\n",
       "      <th>VehAge</th>\n",
       "      <th>DrivAge</th>\n",
       "      <th>BonusMalus</th>\n",
       "      <th>VehBrand</th>\n",
       "      <th>VehGas</th>\n",
       "      <th>Density</th>\n",
       "      <th>Region</th>\n",
       "      <th>ClaimAmount</th>\n",
       "      <th>PurePremium</th>\n",
       "      <th>Frequency</th>\n",
       "      <th>AvgClaimAmount</th>\n",
       "    </tr>\n",
       "  </thead>\n",
       "  <tbody>\n",
       "    <tr>\n",
       "      <th>0</th>\n",
       "      <td>0</td>\n",
       "      <td>0.10</td>\n",
       "      <td>D</td>\n",
       "      <td>5</td>\n",
       "      <td>0</td>\n",
       "      <td>55</td>\n",
       "      <td>50</td>\n",
       "      <td>B12</td>\n",
       "      <td>Regular</td>\n",
       "      <td>1217</td>\n",
       "      <td>R82</td>\n",
       "      <td>0.0</td>\n",
       "      <td>0.0</td>\n",
       "      <td>0.0</td>\n",
       "      <td>0.0</td>\n",
       "    </tr>\n",
       "    <tr>\n",
       "      <th>1</th>\n",
       "      <td>0</td>\n",
       "      <td>0.77</td>\n",
       "      <td>D</td>\n",
       "      <td>5</td>\n",
       "      <td>0</td>\n",
       "      <td>55</td>\n",
       "      <td>50</td>\n",
       "      <td>B12</td>\n",
       "      <td>Regular</td>\n",
       "      <td>1217</td>\n",
       "      <td>R82</td>\n",
       "      <td>0.0</td>\n",
       "      <td>0.0</td>\n",
       "      <td>0.0</td>\n",
       "      <td>0.0</td>\n",
       "    </tr>\n",
       "  </tbody>\n",
       "</table>\n",
       "</div>"
      ],
      "text/plain": [
       "   ClaimNb  Exposure Area  VehPower  VehAge  DrivAge  BonusMalus VehBrand  \\\n",
       "0        0      0.10    D         5       0       55          50      B12   \n",
       "1        0      0.77    D         5       0       55          50      B12   \n",
       "\n",
       "    VehGas  Density Region  ClaimAmount  PurePremium  Frequency  \\\n",
       "0  Regular     1217    R82          0.0          0.0        0.0   \n",
       "1  Regular     1217    R82          0.0          0.0        0.0   \n",
       "\n",
       "   AvgClaimAmount  \n",
       "0             0.0  \n",
       "1             0.0  "
      ]
     },
     "execution_count": 14,
     "metadata": {},
     "output_type": "execute_result"
    }
   ],
   "source": [
    "df.head(2)"
   ]
  },
  {
   "cell_type": "code",
   "execution_count": 15,
   "metadata": {
    "ExecuteTime": {
     "end_time": "2020-09-24T22:56:45.274494Z",
     "start_time": "2020-09-24T22:56:45.265025Z"
    }
   },
   "outputs": [
    {
     "data": {
      "text/plain": [
       "array([ 0.        ,  1.        ,  0.        ,  0.69864446, 50.        ])"
      ]
     },
     "execution_count": 15,
     "metadata": {},
     "output_type": "execute_result"
    }
   ],
   "source": [
    "np.array(X[0].todense())[0][-5:] # last elements of first row"
   ]
  },
  {
   "cell_type": "code",
   "execution_count": 16,
   "metadata": {
    "ExecuteTime": {
     "end_time": "2020-09-24T22:56:45.283347Z",
     "start_time": "2020-09-24T22:56:45.279043Z"
    }
   },
   "outputs": [],
   "source": [
    "with open(\"../data/processed/features.json\") as fi:\n",
    "    json_features = json.load(fi)"
   ]
  },
  {
   "cell_type": "code",
   "execution_count": 17,
   "metadata": {
    "ExecuteTime": {
     "end_time": "2020-09-24T22:56:45.314687Z",
     "start_time": "2020-09-24T22:56:45.291207Z"
    }
   },
   "outputs": [
    {
     "data": {
      "text/plain": [
       "dict_keys(['cols_ohe_before', 'cols_kbin', 'cols_log_scale', 'cols_pass', 'feature_names_before', 'feature_names_after', 'desc'])"
      ]
     },
     "execution_count": 17,
     "metadata": {},
     "output_type": "execute_result"
    }
   ],
   "source": [
    "json_features.keys()"
   ]
  },
  {
   "cell_type": "markdown",
   "metadata": {},
   "source": [
    "# Train Test Split"
   ]
  },
  {
   "cell_type": "code",
   "execution_count": 18,
   "metadata": {
    "ExecuteTime": {
     "end_time": "2020-09-24T22:56:45.383758Z",
     "start_time": "2020-09-24T22:56:45.323246Z"
    }
   },
   "outputs": [],
   "source": [
    "from sklearn.model_selection import train_test_split"
   ]
  },
  {
   "cell_type": "code",
   "execution_count": 19,
   "metadata": {
    "ExecuteTime": {
     "end_time": "2020-09-24T22:56:45.432058Z",
     "start_time": "2020-09-24T22:56:45.390312Z"
    }
   },
   "outputs": [
    {
     "data": {
      "text/plain": [
       "((75000, 15), (25000, 15), (75000, 71), (25000, 71))"
      ]
     },
     "execution_count": 19,
     "metadata": {},
     "output_type": "execute_result"
    }
   ],
   "source": [
    "df_train, df_test, X_train, X_test = train_test_split(df, X, random_state=SEED)\n",
    "\n",
    "target = ['Frequency']\n",
    "\n",
    "y_train = df_train[target].to_numpy().ravel()\n",
    "y_test = df_test[target].to_numpy().ravel()\n",
    "\n",
    "df_train.shape, df_test.shape, X_train.shape, X_test.shape"
   ]
  },
  {
   "cell_type": "markdown",
   "metadata": {},
   "source": [
    "# Frequency model : Gamma distribution\n",
    "- We have created new feature `AvgClaimAmount` which approximately follows Gamma Distribution.\n",
    "- We take only ClaimAmount > 0 as the Gamma distribution has support on (0,infinity) , not [0,infinity) .\n",
    "\n",
    "- We use `sample_weight = ClaimNb` to account for policies that contain more than one claim."
   ]
  },
  {
   "cell_type": "code",
   "execution_count": 28,
   "metadata": {
    "ExecuteTime": {
     "end_time": "2020-09-24T23:03:08.357326Z",
     "start_time": "2020-09-24T23:03:08.352418Z"
    }
   },
   "outputs": [],
   "source": [
    "from sklearn.linear_model import PoissonRegressor, GammaRegressor\n",
    "from sklearn.metrics import mean_absolute_error, mean_squared_error, mean_tweedie_deviance"
   ]
  },
  {
   "cell_type": "code",
   "execution_count": 23,
   "metadata": {
    "ExecuteTime": {
     "end_time": "2020-09-24T23:00:20.849505Z",
     "start_time": "2020-09-24T23:00:20.834133Z"
    }
   },
   "outputs": [
    {
     "data": {
      "text/html": [
       "<div>\n",
       "<style scoped>\n",
       "    .dataframe tbody tr th:only-of-type {\n",
       "        vertical-align: middle;\n",
       "    }\n",
       "\n",
       "    .dataframe tbody tr th {\n",
       "        vertical-align: top;\n",
       "    }\n",
       "\n",
       "    .dataframe thead th {\n",
       "        text-align: right;\n",
       "    }\n",
       "</style>\n",
       "<table border=\"1\" class=\"dataframe\">\n",
       "  <thead>\n",
       "    <tr style=\"text-align: right;\">\n",
       "      <th></th>\n",
       "      <th>ClaimNb</th>\n",
       "      <th>Exposure</th>\n",
       "      <th>Area</th>\n",
       "      <th>VehPower</th>\n",
       "      <th>VehAge</th>\n",
       "      <th>DrivAge</th>\n",
       "      <th>BonusMalus</th>\n",
       "      <th>VehBrand</th>\n",
       "      <th>VehGas</th>\n",
       "      <th>Density</th>\n",
       "      <th>Region</th>\n",
       "      <th>ClaimAmount</th>\n",
       "      <th>PurePremium</th>\n",
       "      <th>Frequency</th>\n",
       "      <th>AvgClaimAmount</th>\n",
       "    </tr>\n",
       "  </thead>\n",
       "  <tbody>\n",
       "    <tr>\n",
       "      <th>0</th>\n",
       "      <td>0</td>\n",
       "      <td>0.10</td>\n",
       "      <td>D</td>\n",
       "      <td>5</td>\n",
       "      <td>0</td>\n",
       "      <td>55</td>\n",
       "      <td>50</td>\n",
       "      <td>B12</td>\n",
       "      <td>Regular</td>\n",
       "      <td>1217</td>\n",
       "      <td>R82</td>\n",
       "      <td>0.0</td>\n",
       "      <td>0.0</td>\n",
       "      <td>0.0</td>\n",
       "      <td>0.0</td>\n",
       "    </tr>\n",
       "    <tr>\n",
       "      <th>1</th>\n",
       "      <td>0</td>\n",
       "      <td>0.77</td>\n",
       "      <td>D</td>\n",
       "      <td>5</td>\n",
       "      <td>0</td>\n",
       "      <td>55</td>\n",
       "      <td>50</td>\n",
       "      <td>B12</td>\n",
       "      <td>Regular</td>\n",
       "      <td>1217</td>\n",
       "      <td>R82</td>\n",
       "      <td>0.0</td>\n",
       "      <td>0.0</td>\n",
       "      <td>0.0</td>\n",
       "      <td>0.0</td>\n",
       "    </tr>\n",
       "  </tbody>\n",
       "</table>\n",
       "</div>"
      ],
      "text/plain": [
       "   ClaimNb  Exposure Area  VehPower  VehAge  DrivAge  BonusMalus VehBrand  \\\n",
       "0        0      0.10    D         5       0       55          50      B12   \n",
       "1        0      0.77    D         5       0       55          50      B12   \n",
       "\n",
       "    VehGas  Density Region  ClaimAmount  PurePremium  Frequency  \\\n",
       "0  Regular     1217    R82          0.0          0.0        0.0   \n",
       "1  Regular     1217    R82          0.0          0.0        0.0   \n",
       "\n",
       "   AvgClaimAmount  \n",
       "0             0.0  \n",
       "1             0.0  "
      ]
     },
     "execution_count": 23,
     "metadata": {},
     "output_type": "execute_result"
    }
   ],
   "source": [
    "df.head(2)"
   ]
  },
  {
   "cell_type": "code",
   "execution_count": 33,
   "metadata": {
    "ExecuteTime": {
     "end_time": "2020-09-24T23:12:14.200845Z",
     "start_time": "2020-09-24T23:12:14.151318Z"
    }
   },
   "outputs": [
    {
     "data": {
      "text/plain": [
       "GammaRegressor(alpha=10.0, max_iter=10000)"
      ]
     },
     "execution_count": 33,
     "metadata": {},
     "output_type": "execute_result"
    }
   ],
   "source": [
    "mask_train = (df_train[\"ClaimAmount\"] > 0).to_numpy().ravel()\n",
    "mask_test = (df_test[\"ClaimAmount\"] > 0).to_numpy().ravel()\n",
    "\n",
    "glm_sev = GammaRegressor(alpha=10., max_iter=10_000)\n",
    "\n",
    "glm_sev.fit(\n",
    "    X_train[mask_train],\n",
    "    df_train.loc[mask_train, \"AvgClaimAmount\"],\n",
    "    sample_weight=df_train.loc[mask_train, \"ClaimNb\"],\n",
    ")"
   ]
  },
  {
   "cell_type": "code",
   "execution_count": 34,
   "metadata": {
    "ExecuteTime": {
     "end_time": "2020-09-24T23:12:15.057276Z",
     "start_time": "2020-09-24T23:12:15.054373Z"
    }
   },
   "outputs": [],
   "source": [
    "# glm_sev.score?"
   ]
  },
  {
   "cell_type": "code",
   "execution_count": 36,
   "metadata": {
    "ExecuteTime": {
     "end_time": "2020-09-24T23:12:27.025621Z",
     "start_time": "2020-09-24T23:12:26.975539Z"
    }
   },
   "outputs": [
    {
     "data": {
      "text/html": [
       "<div>\n",
       "<style scoped>\n",
       "    .dataframe tbody tr th:only-of-type {\n",
       "        vertical-align: middle;\n",
       "    }\n",
       "\n",
       "    .dataframe tbody tr th {\n",
       "        vertical-align: top;\n",
       "    }\n",
       "\n",
       "    .dataframe thead th {\n",
       "        text-align: right;\n",
       "    }\n",
       "</style>\n",
       "<table border=\"1\" class=\"dataframe\">\n",
       "  <thead>\n",
       "    <tr style=\"text-align: right;\">\n",
       "      <th></th>\n",
       "      <th>train</th>\n",
       "      <th>test</th>\n",
       "    </tr>\n",
       "  </thead>\n",
       "  <tbody>\n",
       "    <tr>\n",
       "      <th>D2</th>\n",
       "      <td>3.638157e-03</td>\n",
       "      <td>-4.747382e-04</td>\n",
       "    </tr>\n",
       "    <tr>\n",
       "      <th>mean_absolute_error</th>\n",
       "      <td>1.869329e+03</td>\n",
       "      <td>1.868959e+03</td>\n",
       "    </tr>\n",
       "    <tr>\n",
       "      <th>mean_squared_error</th>\n",
       "      <td>3.496896e+06</td>\n",
       "      <td>3.495441e+06</td>\n",
       "    </tr>\n",
       "  </tbody>\n",
       "</table>\n",
       "</div>"
      ],
      "text/plain": [
       "                            train          test\n",
       "D2                   3.638157e-03 -4.747382e-04\n",
       "mean_absolute_error  1.869329e+03  1.868959e+03\n",
       "mean_squared_error   3.496896e+06  3.495441e+06"
      ]
     },
     "execution_count": 36,
     "metadata": {},
     "output_type": "execute_result"
    }
   ],
   "source": [
    "tr_D2 = glm_sev.score(X_train[mask_train],\n",
    "                      df_train.loc[mask_train, 'AvgClaimAmount'],\n",
    "                      sample_weight=df_train.loc[mask_train, 'ClaimNb'])\n",
    "\n",
    "tx_D2 = glm_sev.score(X_test[mask_test],\n",
    "                      df_test.loc[mask_test, 'AvgClaimAmount'],\n",
    "                      sample_weight=df_test.loc[mask_test, 'ClaimNb'])\n",
    "\n",
    "\n",
    "tr_preds = glm_sev.predict(X_train)\n",
    "tx_preds = glm_sev.predict(X_test)\n",
    "\n",
    "tr_mae = mean_absolute_error(y_train,tr_preds)\n",
    "tx_mae = mean_absolute_error(y_test,tx_preds)\n",
    "\n",
    "tr_mse = mean_squared_error(y_train, tr_preds)\n",
    "tx_mse = mean_squared_error(y_test,tx_preds)\n",
    "\n",
    "\n",
    "df_eval_sev = pd.DataFrame(\n",
    "{'train': [tr_D2, tr_mae, tr_mse],\n",
    "'test': [tx_D2, tx_mae, tx_mse]})\n",
    "\n",
    "df_eval_sev.index = ['D2','mean_absolute_error','mean_squared_error']\n",
    "df_eval_sev"
   ]
  },
  {
   "cell_type": "code",
   "execution_count": 38,
   "metadata": {
    "ExecuteTime": {
     "end_time": "2020-09-24T23:16:54.598968Z",
     "start_time": "2020-09-24T23:16:54.595435Z"
    }
   },
   "outputs": [],
   "source": [
    "# NOTE\n",
    "note = \"\"\"\n",
    "Here the D-squared value for test is too bad. This is because when doing train\n",
    "modelling we have masked values with claim amount greater than 0, not zero.\n",
    "\n",
    "The test results are for average claims per claim.\n",
    "We can not use this model to predict the average claim amount per policy.\n",
    "\n",
    "\n",
    "\"\"\""
   ]
  },
  {
   "cell_type": "code",
   "execution_count": 39,
   "metadata": {
    "ExecuteTime": {
     "end_time": "2020-09-24T23:17:08.435974Z",
     "start_time": "2020-09-24T23:17:08.425650Z"
    }
   },
   "outputs": [
    {
     "name": "stdout",
     "output_type": "stream",
     "text": [
      "Mean AvgClaim Amount per policy:              88.51 \n",
      "Mean AvgClaim Amount | NbClaim > 0:           1879.52\n",
      "Predicted Mean AvgClaim Amount | NbClaim > 0: 1869.48\n"
     ]
    }
   ],
   "source": [
    "print(\"Mean AvgClaim Amount per policy:              %.2f \"\n",
    "      % df_train[\"AvgClaimAmount\"].mean())\n",
    "print(\"Mean AvgClaim Amount | NbClaim > 0:           %.2f\"\n",
    "      % df_train[\"AvgClaimAmount\"][df_train[\"AvgClaimAmount\"] > 0].mean())\n",
    "print(\"Predicted Mean AvgClaim Amount | NbClaim > 0: %.2f\"\n",
    "      % glm_sev.predict(X_train).mean())"
   ]
  },
  {
   "cell_type": "markdown",
   "metadata": {},
   "source": [
    "# Model Evaluation"
   ]
  },
  {
   "cell_type": "code",
   "execution_count": 57,
   "metadata": {
    "ExecuteTime": {
     "end_time": "2020-09-24T23:37:44.045837Z",
     "start_time": "2020-09-24T23:37:43.994011Z"
    }
   },
   "outputs": [
    {
     "data": {
      "text/html": [
       "<div>\n",
       "<style scoped>\n",
       "    .dataframe tbody tr th:only-of-type {\n",
       "        vertical-align: middle;\n",
       "    }\n",
       "\n",
       "    .dataframe tbody tr th {\n",
       "        vertical-align: top;\n",
       "    }\n",
       "\n",
       "    .dataframe thead th {\n",
       "        text-align: right;\n",
       "    }\n",
       "</style>\n",
       "<table border=\"1\" class=\"dataframe\">\n",
       "  <thead>\n",
       "    <tr style=\"text-align: right;\">\n",
       "      <th></th>\n",
       "      <th>ClaimNb</th>\n",
       "      <th>observed</th>\n",
       "      <th>predicted</th>\n",
       "    </tr>\n",
       "    <tr>\n",
       "      <th>DrivAge</th>\n",
       "      <th></th>\n",
       "      <th></th>\n",
       "      <th></th>\n",
       "    </tr>\n",
       "  </thead>\n",
       "  <tbody>\n",
       "    <tr>\n",
       "      <th>18</th>\n",
       "      <td>12</td>\n",
       "      <td>885.574167</td>\n",
       "      <td>1974.728947</td>\n",
       "    </tr>\n",
       "    <tr>\n",
       "      <th>19</th>\n",
       "      <td>48</td>\n",
       "      <td>3429.702083</td>\n",
       "      <td>1967.724569</td>\n",
       "    </tr>\n",
       "    <tr>\n",
       "      <th>20</th>\n",
       "      <td>49</td>\n",
       "      <td>3223.072041</td>\n",
       "      <td>1996.077413</td>\n",
       "    </tr>\n",
       "    <tr>\n",
       "      <th>21</th>\n",
       "      <td>47</td>\n",
       "      <td>1693.798723</td>\n",
       "      <td>1998.675510</td>\n",
       "    </tr>\n",
       "    <tr>\n",
       "      <th>22</th>\n",
       "      <td>62</td>\n",
       "      <td>2423.892258</td>\n",
       "      <td>1982.059970</td>\n",
       "    </tr>\n",
       "  </tbody>\n",
       "</table>\n",
       "</div>"
      ],
      "text/plain": [
       "         ClaimNb     observed    predicted\n",
       "DrivAge                                   \n",
       "18            12   885.574167  1974.728947\n",
       "19            48  3429.702083  1967.724569\n",
       "20            49  3223.072041  1996.077413\n",
       "21            47  1693.798723  1998.675510\n",
       "22            62  2423.892258  1982.059970"
      ]
     },
     "execution_count": 57,
     "metadata": {},
     "output_type": "execute_result"
    }
   ],
   "source": [
    "feature = 'DrivAge'\n",
    "df_ = df_train\n",
    "preds = tr_preds\n",
    "\n",
    "observed = 'AvgClaimAmount' # Frequency for freq-modelling\n",
    "weight = 'ClaimNb'\n",
    "\n",
    "dfx = df_.loc[:, [feature, weight]].copy()\n",
    "dfx[\"observed\"]  = df_[observed] * df_[weight]\n",
    "dfx[\"predicted\"] = preds * df_[weight]\n",
    "\n",
    "dfx = (\n",
    "    dfx.groupby([feature])[[weight, \"observed\", \"predicted\"]]\n",
    "    .sum()\n",
    "    .assign(observed=lambda x: x[\"observed\"] / x[weight])\n",
    "    .assign(predicted=lambda x: x[\"predicted\"] / x[weight])\n",
    "    .dropna(how='any')\n",
    ")\n",
    "\n",
    "dfx.head()"
   ]
  },
  {
   "cell_type": "code",
   "execution_count": 59,
   "metadata": {
    "ExecuteTime": {
     "end_time": "2020-09-24T23:37:51.869994Z",
     "start_time": "2020-09-24T23:37:51.648756Z"
    }
   },
   "outputs": [
    {
     "name": "stdout",
     "output_type": "stream",
     "text": [
      "y_max = 7352.7015\n"
     ]
    },
    {
     "data": {
      "image/png": "[encoded data removed]",
      "text/plain": [
       "<Figure size 864x432 with 1 Axes>"
      ]
     },
     "metadata": {},
     "output_type": "display_data"
    }
   ],
   "source": [
    "fig,ax = plt.subplots(figsize=(12,6))\n",
    "\n",
    "ax = dfx.loc[:, [\"observed\", \"predicted\"]].plot(style=\".\", ax=ax)\n",
    "plt.ylabel('Average Claim Frequency')\n",
    "\n",
    "# fill feature distribution\n",
    "y_max = dfx.loc[:, [\"observed\", \"predicted\"]].values.max()\n",
    "print(f\"y_max = {y_max:.4f}\")\n",
    "p2 = ax.fill_between(\n",
    "    dfx.index,\n",
    "    0,\n",
    "    y_max * dfx[weight] / dfx[weight].values.max()  , # fill between 0 to this.\n",
    "    color=\"g\",\n",
    "    alpha=0.1,\n",
    ")\n",
    "\n",
    "plt.xticks(range(10,110,10))\n",
    "plt.title(f\"Train: predictions for {feature}\");"
   ]
  },
  {
   "cell_type": "code",
   "execution_count": 53,
   "metadata": {
    "ExecuteTime": {
     "end_time": "2020-09-24T23:35:54.347811Z",
     "start_time": "2020-09-24T23:35:54.344433Z"
    }
   },
   "outputs": [],
   "source": [
    "_ = \"\"\"\n",
    "Here, The predicted line is almost flat.\n",
    "We can see that driver age (DrivAge) has not much impact on Average Claim Frequency.\n",
    "\n",
    "\n",
    "\"\"\""
   ]
  },
  {
   "cell_type": "code",
   "execution_count": null,
   "metadata": {},
   "outputs": [],
   "source": []
  }
 ],
 "metadata": {
  "kernelspec": {
   "display_name": "Python (dataSc)",
   "language": "python",
   "name": "datasc"
  },
  "language_info": {
   "codemirror_mode": {
    "name": "ipython",
    "version": 3
   },
   "file_extension": ".py",
   "mimetype": "text/x-python",
   "name": "python",
   "nbconvert_exporter": "python",
   "pygments_lexer": "ipython3",
   "version": "3.7.7"
  },
  "toc": {
   "base_numbering": 1,
   "nav_menu": {},
   "number_sections": true,
   "sideBar": true,
   "skip_h1_title": false,
   "title_cell": "Table of Contents",
   "title_sidebar": "Contents",
   "toc_cell": true,
   "toc_position": {},
   "toc_section_display": true,
   "toc_window_display": true
  },
  "varInspector": {
   "cols": {
    "lenName": 16,
    "lenType": 16,
    "lenVar": 40
   },
   "kernels_config": {
    "python": {
     "delete_cmd_postfix": "",
     "delete_cmd_prefix": "del ",
     "library": "var_list.py",
     "varRefreshCmd": "print(var_dic_list())"
    },
    "r": {
     "delete_cmd_postfix": ") ",
     "delete_cmd_prefix": "rm(",
     "library": "var_list.r",
     "varRefreshCmd": "cat(var_dic_list()) "
    }
   },
   "types_to_exclude": [
    "module",
    "function",
    "builtin_function_or_method",
    "instance",
    "_Feature"
   ],
   "window_display": false
  }
 },
 "nbformat": 4,
 "nbformat_minor": 4
}
