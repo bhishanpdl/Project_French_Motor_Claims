{
  "nbformat": 4,
  "nbformat_minor": 0,
  "metadata": {
    "kernelspec": {
      "display_name": "Python (dataSc)",
      "language": "python",
      "name": "datasc"
    },
    "language_info": {
      "codemirror_mode": {
        "name": "ipython",
        "version": 3
      },
      "file_extension": ".py",
      "mimetype": "text/x-python",
      "name": "python",
      "nbconvert_exporter": "python",
      "pygments_lexer": "ipython3",
      "version": "3.7.7"
    },
    "toc": {
      "base_numbering": 1,
      "nav_menu": {},
      "number_sections": true,
      "sideBar": true,
      "skip_h1_title": false,
      "title_cell": "Table of Contents",
      "title_sidebar": "Contents",
      "toc_cell": true,
      "toc_position": {},
      "toc_section_display": true,
      "toc_window_display": true
    },
    "varInspector": {
      "cols": {
        "lenName": 16,
        "lenType": 16,
        "lenVar": 40
      },
      "kernels_config": {
        "python": {
          "delete_cmd_postfix": "",
          "delete_cmd_prefix": "del ",
          "library": "var_list.py",
          "varRefreshCmd": "print(var_dic_list())"
        },
        "r": {
          "delete_cmd_postfix": ") ",
          "delete_cmd_prefix": "rm(",
          "library": "var_list.r",
          "varRefreshCmd": "cat(var_dic_list()) "
        }
      },
      "types_to_exclude": [
        "module",
        "function",
        "builtin_function_or_method",
        "instance",
        "_Feature"
      ],
      "window_display": false
    },
    "colab": {
      "name": "c02_xgboost_tweedie.ipynb",
      "provenance": [],
      "collapsed_sections": []
    }
  },
  "cells": [
    {
      "cell_type": "markdown",
      "metadata": {
        "toc": true,
        "id": "o3Ss2zYb5khz"
      },
      "source": [
        "<h1>Table of Contents<span class=\"tocSkip\"></span></h1>\n",
        "<div class=\"toc\"><ul class=\"toc-item\"><li><span><a href=\"#Load-the-libraries\" data-toc-modified-id=\"Load-the-libraries-1\"><span class=\"toc-item-num\">1&nbsp;&nbsp;</span>Load the libraries</a></span></li><li><span><a href=\"#Load-the-data\" data-toc-modified-id=\"Load-the-data-2\"><span class=\"toc-item-num\">2&nbsp;&nbsp;</span>Load the data</a></span></li><li><span><a href=\"#Train-Test-Split\" data-toc-modified-id=\"Train-Test-Split-3\"><span class=\"toc-item-num\">3&nbsp;&nbsp;</span>Train Test Split</a></span></li><li><span><a href=\"#Pure-Premium-Modelling-:-Tweedie-GLM\" data-toc-modified-id=\"Pure-Premium-Modelling-:-Tweedie-GLM-4\"><span class=\"toc-item-num\">4&nbsp;&nbsp;</span>Pure Premium Modelling : Tweedie GLM</a></span></li><li><span><a href=\"#Modelling:-Product-of-Frequency-and-Severity-Modelling\" data-toc-modified-id=\"Modelling:-Product-of-Frequency-and-Severity-Modelling-5\"><span class=\"toc-item-num\">5&nbsp;&nbsp;</span>Modelling: Product of Frequency and Severity Modelling</a></span></li><li><span><a href=\"#Lorentz-Curves\" data-toc-modified-id=\"Lorentz-Curves-6\"><span class=\"toc-item-num\">6&nbsp;&nbsp;</span>Lorentz Curves</a></span></li></ul></div>"
      ]
    },
    {
      "cell_type": "markdown",
      "metadata": {
        "id": "NlO4GQt8545m"
      },
      "source": [
        "# Colab"
      ]
    },
    {
      "cell_type": "code",
      "metadata": {
        "id": "9eo4liSR55Fm"
      },
      "source": [
        "%%capture\n",
        "# capture will not print in notebook\n",
        "\n",
        "import os\n",
        "import sys\n",
        "ENV_COLAB = 'google.colab' in sys.modules\n",
        "\n",
        "if ENV_COLAB:\n",
        "    ## install modules\n",
        "    !pip install watermark\n",
        "    !pip install scikit-plot\n",
        "    !pip install -U scikit-learn # tweedie needs > 0.23\n",
        "\n",
        "    ## print\n",
        "    print('Environment: Google Colaboratory.')\n",
        "\n",
        "# NOTE: If we update modules in gcolab, we need to restart runtime."
      ],
      "execution_count": 1,
      "outputs": []
    },
    {
      "cell_type": "code",
      "metadata": {
        "id": "fW5v0WyB6oXU"
      },
      "source": [
        "import scikitplot as skplot"
      ],
      "execution_count": 2,
      "outputs": []
    },
    {
      "cell_type": "code",
      "metadata": {
        "id": "PBf-mqLj698v",
        "outputId": "31685d25-4d91-40bf-8ba7-2a7c137caf4d",
        "colab": {
          "base_uri": "https://localhost:8080/",
          "height": 34
        }
      },
      "source": [
        "TREE_METHOD = 'auto'\n",
        "try:\n",
        "    import tensorflow as tf\n",
        "    has_gpu = tf.test.gpu_device_name()\n",
        "    TREE_METHOD = 'gpu_hist' if has_gpu else 'auto'\n",
        "except:\n",
        "    TREE_METHOD = 'auto'\n",
        "\n",
        "print(TREE_METHOD)"
      ],
      "execution_count": 3,
      "outputs": [
        {
          "output_type": "stream",
          "text": [
            "auto\n"
          ],
          "name": "stdout"
        }
      ]
    },
    {
      "cell_type": "code",
      "metadata": {
        "id": "SLXB7ROwvZjQ",
        "outputId": "a12cd688-ed88-403b-fbcc-a8b9612eafde",
        "colab": {
          "base_uri": "https://localhost:8080/",
          "height": 52
        }
      },
      "source": [
        "!pwd\n",
        "!ls"
      ],
      "execution_count": 4,
      "outputs": [
        {
          "output_type": "stream",
          "text": [
            "/content\n",
            "sample_data\n"
          ],
          "name": "stdout"
        }
      ]
    },
    {
      "cell_type": "code",
      "metadata": {
        "id": "9OnRiro9xOVl",
        "outputId": "d27a8652-e824-4c11-c85d-40798681ad17",
        "colab": {
          "base_uri": "https://localhost:8080/",
          "height": 1000
        }
      },
      "source": [
        "if ENV_COLAB:\n",
        "    # raw\n",
        "    !wget -c \"https://github.com/bhishanpdl/Datasets/blob/master/Projects/French_Motor_Claims/raw/freMTPL2freq.csv?raw=true\"\n",
        "    !wget -c \"https://github.com/bhishanpdl/Datasets/blob/master/Projects/French_Motor_Claims/raw/freMTPL2sev.csv?raw=true\"\n",
        "\n",
        "    # processed\n",
        "    !wget -c \"https://github.com/bhishanpdl/Datasets/blob/master/Projects/French_Motor_Claims/processed/clean_data.csv.zip?raw=true\"\n",
        "    !wget -c \"https://raw.githubusercontent.com/bhishanpdl/Datasets/master/Projects/French_Motor_Claims/processed/features.json\"\n",
        "    !wget -c \"https://github.com/bhishanpdl/Datasets/blob/master/Projects/French_Motor_Claims/processed/X.csv.zip?raw=true\"\n",
        "    !wget -c \"https://github.com/bhishanpdl/Datasets/blob/master/Projects/French_Motor_Claims/processed/X.npz?raw=true\"\n"
      ],
      "execution_count": 5,
      "outputs": [
        {
          "output_type": "stream",
          "text": [
            "--2020-09-27 15:07:11--  https://github.com/bhishanpdl/Datasets/blob/master/Projects/French_Motor_Claims/raw/freMTPL2freq.csv?raw=true\n",
            "Resolving github.com (github.com)... 140.82.112.3\n",
            "Connecting to github.com (github.com)|140.82.112.3|:443... connected.\n",
            "HTTP request sent, awaiting response... 302 Found\n",
            "Location: https://github.com/bhishanpdl/Datasets/raw/master/Projects/French_Motor_Claims/raw/freMTPL2freq.csv [following]\n",
            "--2020-09-27 15:07:11--  https://github.com/bhishanpdl/Datasets/raw/master/Projects/French_Motor_Claims/raw/freMTPL2freq.csv\n",
            "Reusing existing connection to github.com:443.\n",
            "HTTP request sent, awaiting response... 302 Found\n",
            "Location: https://raw.githubusercontent.com/bhishanpdl/Datasets/master/Projects/French_Motor_Claims/raw/freMTPL2freq.csv [following]\n",
            "--2020-09-27 15:07:11--  https://raw.githubusercontent.com/bhishanpdl/Datasets/master/Projects/French_Motor_Claims/raw/freMTPL2freq.csv\n",
            "Resolving raw.githubusercontent.com (raw.githubusercontent.com)... 151.101.0.133, 151.101.64.133, 151.101.128.133, ...\n",
            "Connecting to raw.githubusercontent.com (raw.githubusercontent.com)|151.101.0.133|:443... connected.\n",
            "HTTP request sent, awaiting response... 200 OK\n",
            "Length: 31528920 (30M) [text/plain]\n",
            "Saving to: ‘freMTPL2freq.csv?raw=true’\n",
            "\n",
            "freMTPL2freq.csv?ra 100%[===================>]  30.07M  39.2MB/s    in 0.8s    \n",
            "\n",
            "2020-09-27 15:07:12 (39.2 MB/s) - ‘freMTPL2freq.csv?raw=true’ saved [31528920/31528920]\n",
            "\n",
            "--2020-09-27 15:07:12--  https://github.com/bhishanpdl/Datasets/blob/master/Projects/French_Motor_Claims/raw/freMTPL2sev.csv?raw=true\n",
            "Resolving github.com (github.com)... 140.82.113.3\n",
            "Connecting to github.com (github.com)|140.82.113.3|:443... connected.\n",
            "HTTP request sent, awaiting response... 302 Found\n",
            "Location: https://github.com/bhishanpdl/Datasets/raw/master/Projects/French_Motor_Claims/raw/freMTPL2sev.csv [following]\n",
            "--2020-09-27 15:07:12--  https://github.com/bhishanpdl/Datasets/raw/master/Projects/French_Motor_Claims/raw/freMTPL2sev.csv\n",
            "Reusing existing connection to github.com:443.\n",
            "HTTP request sent, awaiting response... 302 Found\n",
            "Location: https://raw.githubusercontent.com/bhishanpdl/Datasets/master/Projects/French_Motor_Claims/raw/freMTPL2sev.csv [following]\n",
            "--2020-09-27 15:07:12--  https://raw.githubusercontent.com/bhishanpdl/Datasets/master/Projects/French_Motor_Claims/raw/freMTPL2sev.csv\n",
            "Resolving raw.githubusercontent.com (raw.githubusercontent.com)... 151.101.0.133, 151.101.64.133, 151.101.128.133, ...\n",
            "Connecting to raw.githubusercontent.com (raw.githubusercontent.com)|151.101.0.133|:443... connected.\n",
            "HTTP request sent, awaiting response... 200 OK\n",
            "Length: 376493 (368K) [text/plain]\n",
            "Saving to: ‘freMTPL2sev.csv?raw=true’\n",
            "\n",
            "freMTPL2sev.csv?raw 100%[===================>] 367.67K  --.-KB/s    in 0.05s   \n",
            "\n",
            "2020-09-27 15:07:13 (6.66 MB/s) - ‘freMTPL2sev.csv?raw=true’ saved [376493/376493]\n",
            "\n",
            "--2020-09-27 15:07:13--  https://github.com/bhishanpdl/Datasets/blob/master/Projects/French_Motor_Claims/processed/clean_data.csv.zip?raw=true\n",
            "Resolving github.com (github.com)... 140.82.113.3\n",
            "Connecting to github.com (github.com)|140.82.113.3|:443... connected.\n",
            "HTTP request sent, awaiting response... 302 Found\n",
            "Location: https://github.com/bhishanpdl/Datasets/raw/master/Projects/French_Motor_Claims/processed/clean_data.csv.zip [following]\n",
            "--2020-09-27 15:07:13--  https://github.com/bhishanpdl/Datasets/raw/master/Projects/French_Motor_Claims/processed/clean_data.csv.zip\n",
            "Reusing existing connection to github.com:443.\n",
            "HTTP request sent, awaiting response... 302 Found\n",
            "Location: https://raw.githubusercontent.com/bhishanpdl/Datasets/master/Projects/French_Motor_Claims/processed/clean_data.csv.zip [following]\n",
            "--2020-09-27 15:07:13--  https://raw.githubusercontent.com/bhishanpdl/Datasets/master/Projects/French_Motor_Claims/processed/clean_data.csv.zip\n",
            "Resolving raw.githubusercontent.com (raw.githubusercontent.com)... 151.101.0.133, 151.101.64.133, 151.101.128.133, ...\n",
            "Connecting to raw.githubusercontent.com (raw.githubusercontent.com)|151.101.0.133|:443... connected.\n",
            "HTTP request sent, awaiting response... 200 OK\n",
            "Length: 902582 (881K) [application/zip]\n",
            "Saving to: ‘clean_data.csv.zip?raw=true’\n",
            "\n",
            "clean_data.csv.zip? 100%[===================>] 881.43K  --.-KB/s    in 0.1s    \n",
            "\n",
            "2020-09-27 15:07:14 (7.44 MB/s) - ‘clean_data.csv.zip?raw=true’ saved [902582/902582]\n",
            "\n",
            "--2020-09-27 15:07:14--  https://raw.githubusercontent.com/bhishanpdl/Datasets/master/Projects/French_Motor_Claims/processed/features.json\n",
            "Resolving raw.githubusercontent.com (raw.githubusercontent.com)... 151.101.0.133, 151.101.64.133, 151.101.128.133, ...\n",
            "Connecting to raw.githubusercontent.com (raw.githubusercontent.com)|151.101.0.133|:443... connected.\n",
            "HTTP request sent, awaiting response... 200 OK\n",
            "Length: 1272 (1.2K) [text/plain]\n",
            "Saving to: ‘features.json’\n",
            "\n",
            "features.json       100%[===================>]   1.24K  --.-KB/s    in 0s      \n",
            "\n",
            "2020-09-27 15:07:14 (72.3 MB/s) - ‘features.json’ saved [1272/1272]\n",
            "\n",
            "--2020-09-27 15:07:14--  https://github.com/bhishanpdl/Datasets/blob/master/Projects/French_Motor_Claims/processed/X.csv.zip?raw=true\n",
            "Resolving github.com (github.com)... 140.82.112.3\n",
            "Connecting to github.com (github.com)|140.82.112.3|:443... connected.\n",
            "HTTP request sent, awaiting response... 302 Found\n",
            "Location: https://github.com/bhishanpdl/Datasets/raw/master/Projects/French_Motor_Claims/processed/X.csv.zip [following]\n",
            "--2020-09-27 15:07:14--  https://github.com/bhishanpdl/Datasets/raw/master/Projects/French_Motor_Claims/processed/X.csv.zip\n",
            "Reusing existing connection to github.com:443.\n",
            "HTTP request sent, awaiting response... 302 Found\n",
            "Location: https://raw.githubusercontent.com/bhishanpdl/Datasets/master/Projects/French_Motor_Claims/processed/X.csv.zip [following]\n",
            "--2020-09-27 15:07:14--  https://raw.githubusercontent.com/bhishanpdl/Datasets/master/Projects/French_Motor_Claims/processed/X.csv.zip\n",
            "Resolving raw.githubusercontent.com (raw.githubusercontent.com)... 151.101.0.133, 151.101.64.133, 151.101.128.133, ...\n",
            "Connecting to raw.githubusercontent.com (raw.githubusercontent.com)|151.101.0.133|:443... connected.\n",
            "HTTP request sent, awaiting response... 200 OK\n",
            "Length: 1369068 (1.3M) [application/zip]\n",
            "Saving to: ‘X.csv.zip?raw=true’\n",
            "\n",
            "X.csv.zip?raw=true  100%[===================>]   1.30M  --.-KB/s    in 0.1s    \n",
            "\n",
            "2020-09-27 15:07:14 (11.3 MB/s) - ‘X.csv.zip?raw=true’ saved [1369068/1369068]\n",
            "\n",
            "--2020-09-27 15:07:15--  https://github.com/bhishanpdl/Datasets/blob/master/Projects/French_Motor_Claims/processed/X.npz?raw=true\n",
            "Resolving github.com (github.com)... 140.82.114.4\n",
            "Connecting to github.com (github.com)|140.82.114.4|:443... connected.\n",
            "HTTP request sent, awaiting response... 302 Found\n",
            "Location: https://github.com/bhishanpdl/Datasets/raw/master/Projects/French_Motor_Claims/processed/X.npz [following]\n",
            "--2020-09-27 15:07:15--  https://github.com/bhishanpdl/Datasets/raw/master/Projects/French_Motor_Claims/processed/X.npz\n",
            "Reusing existing connection to github.com:443.\n",
            "HTTP request sent, awaiting response... 302 Found\n",
            "Location: https://raw.githubusercontent.com/bhishanpdl/Datasets/master/Projects/French_Motor_Claims/processed/X.npz [following]\n",
            "--2020-09-27 15:07:15--  https://raw.githubusercontent.com/bhishanpdl/Datasets/master/Projects/French_Motor_Claims/processed/X.npz\n",
            "Resolving raw.githubusercontent.com (raw.githubusercontent.com)... 151.101.0.133, 151.101.64.133, 151.101.128.133, ...\n",
            "Connecting to raw.githubusercontent.com (raw.githubusercontent.com)|151.101.0.133|:443... connected.\n",
            "HTTP request sent, awaiting response... 200 OK\n",
            "Length: 1030881 (1007K) [application/octet-stream]\n",
            "Saving to: ‘X.npz?raw=true’\n",
            "\n",
            "X.npz?raw=true      100%[===================>]   1007K  --.-KB/s    in 0.09s   \n",
            "\n",
            "2020-09-27 15:07:15 (10.7 MB/s) - ‘X.npz?raw=true’ saved [1030881/1030881]\n",
            "\n"
          ],
          "name": "stdout"
        }
      ]
    },
    {
      "cell_type": "code",
      "metadata": {
        "id": "iKJ3QiCjxe8Z",
        "outputId": "fc84aba8-5ccd-4b02-b7b6-b5f6a0468575",
        "colab": {
          "base_uri": "https://localhost:8080/",
          "height": 70
        }
      },
      "source": [
        "!ls"
      ],
      "execution_count": 6,
      "outputs": [
        {
          "output_type": "stream",
          "text": [
            "'clean_data.csv.zip?raw=true'  'freMTPL2sev.csv?raw=true'  'X.npz?raw=true'\n",
            " features.json\t\t        sample_data\n",
            "'freMTPL2freq.csv?raw=true'    'X.csv.zip?raw=true'\n"
          ],
          "name": "stdout"
        }
      ]
    },
    {
      "cell_type": "code",
      "metadata": {
        "id": "g-7MKEFUxHjq"
      },
      "source": [
        "if ENV_COLAB:\n",
        "\n",
        "    # clean old dir\n",
        "    !rm -rf ../data\n",
        "\n",
        "    !mkdir -p ../data/processed\n",
        "    !mkdir -p ../data/raw\n",
        "    !mkdir -p ../outputs\n",
        "\n",
        "    !mv freMTPL2freq.csv?raw=true ../data/raw/freMTPL2freq.csv\n",
        "    !mv freMTPL2sev.csv?raw=true ../data/raw/freMTPL2sev.csv\n",
        "\n",
        "    !mv features.json ../data/processed/features.json\n",
        "    !mv clean_data.csv.zip?raw=true ../data/processed/clean_data.csv.zip\n",
        "    !mv X.csv.zip?raw=true ../data/processed/X.csv.zip\n",
        "    !mv X.npz?raw=true ../data/processed/X.npz"
      ],
      "execution_count": 7,
      "outputs": []
    },
    {
      "cell_type": "code",
      "metadata": {
        "id": "-7pBCkPD8o7r",
        "outputId": "c3056a6e-2a6d-4405-b69b-72449adb673f",
        "colab": {
          "base_uri": "https://localhost:8080/",
          "height": 34
        }
      },
      "source": [
        "!ls"
      ],
      "execution_count": 8,
      "outputs": [
        {
          "output_type": "stream",
          "text": [
            "sample_data\n"
          ],
          "name": "stdout"
        }
      ]
    },
    {
      "cell_type": "code",
      "metadata": {
        "id": "vQaGCJOUynES",
        "outputId": "58c8be6a-2fc1-4250-c5cd-710e2c274d85",
        "colab": {
          "base_uri": "https://localhost:8080/",
          "height": 34
        }
      },
      "source": [
        "!ls ../data/raw"
      ],
      "execution_count": 9,
      "outputs": [
        {
          "output_type": "stream",
          "text": [
            "freMTPL2freq.csv  freMTPL2sev.csv\n"
          ],
          "name": "stdout"
        }
      ]
    },
    {
      "cell_type": "code",
      "metadata": {
        "id": "Kt1I3HEKyogK",
        "outputId": "e7c43bab-5f62-4544-ef25-b13d827ce44e",
        "colab": {
          "base_uri": "https://localhost:8080/",
          "height": 34
        }
      },
      "source": [
        "!ls ../data/processed"
      ],
      "execution_count": 10,
      "outputs": [
        {
          "output_type": "stream",
          "text": [
            "clean_data.csv.zip  features.json  X.csv.zip  X.npz\n"
          ],
          "name": "stdout"
        }
      ]
    },
    {
      "cell_type": "markdown",
      "metadata": {
        "id": "1LSR7gK85kh7"
      },
      "source": [
        "# Load the libraries"
      ]
    },
    {
      "cell_type": "code",
      "metadata": {
        "ExecuteTime": {
          "end_time": "2020-09-25T23:07:43.915367Z",
          "start_time": "2020-09-25T23:07:43.903448Z"
        },
        "id": "n9gXO0Hf5kh8",
        "outputId": "3f591461-5297-4c10-d7a5-f313016abb65",
        "colab": {
          "base_uri": "https://localhost:8080/",
          "height": 250
        }
      },
      "source": [
        "import numpy as np\n",
        "import pandas as pd\n",
        "import seaborn as sns\n",
        "import os,sys,time\n",
        "import sklearn\n",
        "import scipy\n",
        "import matplotlib.pyplot as plt\n",
        "sns.set()\n",
        "\n",
        "import json\n",
        "import joblib\n",
        "from sklearn.model_selection import train_test_split\n",
        "from sklearn.metrics import mean_absolute_error, mean_squared_error, mean_tweedie_deviance\n",
        "from sklearn.metrics import auc\n",
        "\n",
        "SEED = 100\n",
        "pd.set_option('max_columns',100)\n",
        "pd.set_option('plotting.backend','matplotlib') # matplotlib, bokeh, altair, plotly\n",
        "%load_ext watermark\n",
        "%watermark -iv"
      ],
      "execution_count": 11,
      "outputs": [
        {
          "output_type": "stream",
          "text": [
            "numpy      1.18.5\n",
            "pandas     1.0.5\n",
            "scikitplot 0.3.7\n",
            "seaborn    0.10.1\n",
            "sklearn    0.23.2\n",
            "scipy      1.4.1\n",
            "joblib     0.16.0\n",
            "json       2.0.9\n",
            "tensorflow 2.3.0\n",
            "\n"
          ],
          "name": "stdout"
        },
        {
          "output_type": "stream",
          "text": [
            "/usr/local/lib/python3.6/dist-packages/statsmodels/tools/_testing.py:19: FutureWarning: pandas.util.testing is deprecated. Use the functions in the public API at pandas.testing instead.\n",
            "  import pandas.util.testing as tm\n"
          ],
          "name": "stderr"
        }
      ]
    },
    {
      "cell_type": "markdown",
      "metadata": {
        "id": "Nda3pttf5kiC"
      },
      "source": [
        "# Load the data"
      ]
    },
    {
      "cell_type": "code",
      "metadata": {
        "id": "6nSdAjVlk1zC",
        "outputId": "7ead34cd-e9e3-4a43-f5d6-f2e26a8821ee",
        "colab": {
          "base_uri": "https://localhost:8080/",
          "height": 34
        }
      },
      "source": [
        "%%bash\n",
        "pwd"
      ],
      "execution_count": 12,
      "outputs": [
        {
          "output_type": "stream",
          "text": [
            "/content\n"
          ],
          "name": "stdout"
        }
      ]
    },
    {
      "cell_type": "code",
      "metadata": {
        "id": "S4vNS7f8lI3Q"
      },
      "source": [
        ""
      ],
      "execution_count": 12,
      "outputs": []
    },
    {
      "cell_type": "code",
      "metadata": {
        "id": "MQVMs63gdvyU"
      },
      "source": [
        "ifile = '../data/processed/clean_data.csv.zip'\n",
        "# ifile = \"https://github.com/bhishanpdl/Datasets/blob/master/Projects/French_Motor_Claims/processed/clean_data.csv.zip?raw=true\""
      ],
      "execution_count": 13,
      "outputs": []
    },
    {
      "cell_type": "code",
      "metadata": {
        "ExecuteTime": {
          "end_time": "2020-09-25T22:56:50.044545Z",
          "start_time": "2020-09-25T22:56:49.873114Z"
        },
        "id": "-vStkQuJ5kiC",
        "outputId": "a761cda6-c480-4f41-be94-a12b27af6ca2",
        "colab": {
          "base_uri": "https://localhost:8080/",
          "height": 205
        }
      },
      "source": [
        "df = pd.read_csv(ifile, compression='zip')\n",
        "print(df.shape)\n",
        "df.head(2).append(df.tail(2))"
      ],
      "execution_count": 14,
      "outputs": [
        {
          "output_type": "stream",
          "text": [
            "(100000, 15)\n"
          ],
          "name": "stdout"
        },
        {
          "output_type": "execute_result",
          "data": {
            "text/html": [
              "<div>\n",
              "<style scoped>\n",
              "    .dataframe tbody tr th:only-of-type {\n",
              "        vertical-align: middle;\n",
              "    }\n",
              "\n",
              "    .dataframe tbody tr th {\n",
              "        vertical-align: top;\n",
              "    }\n",
              "\n",
              "    .dataframe thead th {\n",
              "        text-align: right;\n",
              "    }\n",
              "</style>\n",
              "<table border=\"1\" class=\"dataframe\">\n",
              "  <thead>\n",
              "    <tr style=\"text-align: right;\">\n",
              "      <th></th>\n",
              "      <th>ClaimNb</th>\n",
              "      <th>Exposure</th>\n",
              "      <th>Area</th>\n",
              "      <th>VehPower</th>\n",
              "      <th>VehAge</th>\n",
              "      <th>DrivAge</th>\n",
              "      <th>BonusMalus</th>\n",
              "      <th>VehBrand</th>\n",
              "      <th>VehGas</th>\n",
              "      <th>Density</th>\n",
              "      <th>Region</th>\n",
              "      <th>ClaimAmount</th>\n",
              "      <th>PurePremium</th>\n",
              "      <th>Frequency</th>\n",
              "      <th>AvgClaimAmount</th>\n",
              "    </tr>\n",
              "  </thead>\n",
              "  <tbody>\n",
              "    <tr>\n",
              "      <th>0</th>\n",
              "      <td>0</td>\n",
              "      <td>0.10</td>\n",
              "      <td>D</td>\n",
              "      <td>5</td>\n",
              "      <td>0</td>\n",
              "      <td>55</td>\n",
              "      <td>50</td>\n",
              "      <td>B12</td>\n",
              "      <td>Regular</td>\n",
              "      <td>1217</td>\n",
              "      <td>R82</td>\n",
              "      <td>0.0</td>\n",
              "      <td>0.0</td>\n",
              "      <td>0.0</td>\n",
              "      <td>0.0</td>\n",
              "    </tr>\n",
              "    <tr>\n",
              "      <th>1</th>\n",
              "      <td>0</td>\n",
              "      <td>0.77</td>\n",
              "      <td>D</td>\n",
              "      <td>5</td>\n",
              "      <td>0</td>\n",
              "      <td>55</td>\n",
              "      <td>50</td>\n",
              "      <td>B12</td>\n",
              "      <td>Regular</td>\n",
              "      <td>1217</td>\n",
              "      <td>R82</td>\n",
              "      <td>0.0</td>\n",
              "      <td>0.0</td>\n",
              "      <td>0.0</td>\n",
              "      <td>0.0</td>\n",
              "    </tr>\n",
              "    <tr>\n",
              "      <th>99998</th>\n",
              "      <td>0</td>\n",
              "      <td>0.90</td>\n",
              "      <td>C</td>\n",
              "      <td>7</td>\n",
              "      <td>9</td>\n",
              "      <td>44</td>\n",
              "      <td>50</td>\n",
              "      <td>B1</td>\n",
              "      <td>Regular</td>\n",
              "      <td>191</td>\n",
              "      <td>R24</td>\n",
              "      <td>0.0</td>\n",
              "      <td>0.0</td>\n",
              "      <td>0.0</td>\n",
              "      <td>0.0</td>\n",
              "    </tr>\n",
              "    <tr>\n",
              "      <th>99999</th>\n",
              "      <td>0</td>\n",
              "      <td>0.90</td>\n",
              "      <td>E</td>\n",
              "      <td>4</td>\n",
              "      <td>12</td>\n",
              "      <td>53</td>\n",
              "      <td>50</td>\n",
              "      <td>B1</td>\n",
              "      <td>Regular</td>\n",
              "      <td>4116</td>\n",
              "      <td>R24</td>\n",
              "      <td>0.0</td>\n",
              "      <td>0.0</td>\n",
              "      <td>0.0</td>\n",
              "      <td>0.0</td>\n",
              "    </tr>\n",
              "  </tbody>\n",
              "</table>\n",
              "</div>"
            ],
            "text/plain": [
              "       ClaimNb  Exposure Area  VehPower  VehAge  DrivAge  BonusMalus VehBrand  \\\n",
              "0            0      0.10    D         5       0       55          50      B12   \n",
              "1            0      0.77    D         5       0       55          50      B12   \n",
              "99998        0      0.90    C         7       9       44          50       B1   \n",
              "99999        0      0.90    E         4      12       53          50       B1   \n",
              "\n",
              "        VehGas  Density Region  ClaimAmount  PurePremium  Frequency  \\\n",
              "0      Regular     1217    R82          0.0          0.0        0.0   \n",
              "1      Regular     1217    R82          0.0          0.0        0.0   \n",
              "99998  Regular      191    R24          0.0          0.0        0.0   \n",
              "99999  Regular     4116    R24          0.0          0.0        0.0   \n",
              "\n",
              "       AvgClaimAmount  \n",
              "0                 0.0  \n",
              "1                 0.0  \n",
              "99998             0.0  \n",
              "99999             0.0  "
            ]
          },
          "metadata": {
            "tags": []
          },
          "execution_count": 14
        }
      ]
    },
    {
      "cell_type": "code",
      "metadata": {
        "ExecuteTime": {
          "end_time": "2020-09-25T22:56:50.093550Z",
          "start_time": "2020-09-25T22:56:50.048414Z"
        },
        "id": "OGwqiUUx5kiJ",
        "outputId": "84accc2a-1d3c-4786-e001-51eeaf75b600",
        "colab": {
          "base_uri": "https://localhost:8080/",
          "height": 34
        }
      },
      "source": [
        "X = scipy.sparse.load_npz(\"../data/processed/X.npz\")\n",
        "X.shape, type(X)"
      ],
      "execution_count": 15,
      "outputs": [
        {
          "output_type": "execute_result",
          "data": {
            "text/plain": [
              "((100000, 71), scipy.sparse.csr.csr_matrix)"
            ]
          },
          "metadata": {
            "tags": []
          },
          "execution_count": 15
        }
      ]
    },
    {
      "cell_type": "code",
      "metadata": {
        "id": "dBMBUVpnFf1K"
      },
      "source": [
        "# ifile = '../data/processed/X.csv.zip'\n",
        "# df_X = pd.read_csv(ifile, compression='zip')\n",
        "# print(df_X.shape)\n",
        "# df_X.head(2).append(df_X.tail(2))\n",
        "\n",
        "# columns\n",
        "\"\"\"\n",
        "x0_B1\tx0_B10\tx0_B11\tx0_B12\tx0_B13\tx0_B14\tx0_B2\tx0_B3\tx0_B4\tx0_B5\n",
        "x0_B6\tx1_4\tx1_5\tx1_6\tx1_7\tx1_8\tx1_9\tx1_10\tx1_11\tx1_12\n",
        "x1_13\tx1_14\tx1_15\tx2_Diesel\tx2_Regular\tx3_R11\tx3_R21\tx3_R22\tx3_R23\n",
        "x3_R24\tx3_R25\tx3_R26\tx3_R31\tx3_R41\tx3_R42\tx3_R43\tx3_R52\tx3_R53\tx3_R54\n",
        "x3_R72\tx3_R73\tx3_R74\tx3_R82\tx3_R83\tx3_R91\tx3_R93\tx3_R94\tx4_A\tx4_B\n",
        "x4_C\tx4_D\tx4_E\tx4_F\tVehAge_0\tVehAge_1\tVehAge_2\tVehAge_3\n",
        "VehAge_4\tVehAge_5\tVehAge_6\tVehAge_7\tDrivAge_0\tDrivAge_1\tDrivAge_2\t\n",
        "DrivAge_3\tDrivAge_4\tDrivAge_5\tDrivAge_6\tDrivAge_7\tDensity\tBonusMalus\n",
        "\n",
        "X only have transformed version of these columns\n",
        "cols_ohe_before = [\"VehBrand\", \"VehPower\", \"VehGas\", \"Region\", \"Area\"]\n",
        "cols_kbin_before = [\"VehAge\", \"DrivAge\"]\n",
        "cols_log_scale = [\"Density\"]\n",
        "cols_pass =  [\"BonusMalus\"]\n",
        "\"\"\";"
      ],
      "execution_count": 16,
      "outputs": []
    },
    {
      "cell_type": "code",
      "metadata": {
        "ExecuteTime": {
          "end_time": "2020-09-25T22:56:50.113120Z",
          "start_time": "2020-09-25T22:56:50.098132Z"
        },
        "id": "FTiEbQaQ5kiO",
        "outputId": "89c17535-7e31-488b-e4c8-755cf9021309",
        "colab": {
          "base_uri": "https://localhost:8080/",
          "height": 127
        }
      },
      "source": [
        "df.head(2)"
      ],
      "execution_count": 17,
      "outputs": [
        {
          "output_type": "execute_result",
          "data": {
            "text/html": [
              "<div>\n",
              "<style scoped>\n",
              "    .dataframe tbody tr th:only-of-type {\n",
              "        vertical-align: middle;\n",
              "    }\n",
              "\n",
              "    .dataframe tbody tr th {\n",
              "        vertical-align: top;\n",
              "    }\n",
              "\n",
              "    .dataframe thead th {\n",
              "        text-align: right;\n",
              "    }\n",
              "</style>\n",
              "<table border=\"1\" class=\"dataframe\">\n",
              "  <thead>\n",
              "    <tr style=\"text-align: right;\">\n",
              "      <th></th>\n",
              "      <th>ClaimNb</th>\n",
              "      <th>Exposure</th>\n",
              "      <th>Area</th>\n",
              "      <th>VehPower</th>\n",
              "      <th>VehAge</th>\n",
              "      <th>DrivAge</th>\n",
              "      <th>BonusMalus</th>\n",
              "      <th>VehBrand</th>\n",
              "      <th>VehGas</th>\n",
              "      <th>Density</th>\n",
              "      <th>Region</th>\n",
              "      <th>ClaimAmount</th>\n",
              "      <th>PurePremium</th>\n",
              "      <th>Frequency</th>\n",
              "      <th>AvgClaimAmount</th>\n",
              "    </tr>\n",
              "  </thead>\n",
              "  <tbody>\n",
              "    <tr>\n",
              "      <th>0</th>\n",
              "      <td>0</td>\n",
              "      <td>0.10</td>\n",
              "      <td>D</td>\n",
              "      <td>5</td>\n",
              "      <td>0</td>\n",
              "      <td>55</td>\n",
              "      <td>50</td>\n",
              "      <td>B12</td>\n",
              "      <td>Regular</td>\n",
              "      <td>1217</td>\n",
              "      <td>R82</td>\n",
              "      <td>0.0</td>\n",
              "      <td>0.0</td>\n",
              "      <td>0.0</td>\n",
              "      <td>0.0</td>\n",
              "    </tr>\n",
              "    <tr>\n",
              "      <th>1</th>\n",
              "      <td>0</td>\n",
              "      <td>0.77</td>\n",
              "      <td>D</td>\n",
              "      <td>5</td>\n",
              "      <td>0</td>\n",
              "      <td>55</td>\n",
              "      <td>50</td>\n",
              "      <td>B12</td>\n",
              "      <td>Regular</td>\n",
              "      <td>1217</td>\n",
              "      <td>R82</td>\n",
              "      <td>0.0</td>\n",
              "      <td>0.0</td>\n",
              "      <td>0.0</td>\n",
              "      <td>0.0</td>\n",
              "    </tr>\n",
              "  </tbody>\n",
              "</table>\n",
              "</div>"
            ],
            "text/plain": [
              "   ClaimNb  Exposure Area  VehPower  VehAge  DrivAge  BonusMalus VehBrand  \\\n",
              "0        0      0.10    D         5       0       55          50      B12   \n",
              "1        0      0.77    D         5       0       55          50      B12   \n",
              "\n",
              "    VehGas  Density Region  ClaimAmount  PurePremium  Frequency  \\\n",
              "0  Regular     1217    R82          0.0          0.0        0.0   \n",
              "1  Regular     1217    R82          0.0          0.0        0.0   \n",
              "\n",
              "   AvgClaimAmount  \n",
              "0             0.0  \n",
              "1             0.0  "
            ]
          },
          "metadata": {
            "tags": []
          },
          "execution_count": 17
        }
      ]
    },
    {
      "cell_type": "code",
      "metadata": {
        "ExecuteTime": {
          "end_time": "2020-09-25T22:56:50.124380Z",
          "start_time": "2020-09-25T22:56:50.115686Z"
        },
        "id": "OYXNpeGD5kiX",
        "outputId": "aa62bd20-bd3b-4167-f947-7da13479df0b",
        "colab": {
          "base_uri": "https://localhost:8080/",
          "height": 34
        }
      },
      "source": [
        "np.array(X[0].todense())[0][-5:] # last elements of first row"
      ],
      "execution_count": 18,
      "outputs": [
        {
          "output_type": "execute_result",
          "data": {
            "text/plain": [
              "array([ 0.        ,  1.        ,  0.        ,  0.69864446, 50.        ])"
            ]
          },
          "metadata": {
            "tags": []
          },
          "execution_count": 18
        }
      ]
    },
    {
      "cell_type": "code",
      "metadata": {
        "ExecuteTime": {
          "end_time": "2020-09-25T22:56:50.136960Z",
          "start_time": "2020-09-25T22:56:50.131972Z"
        },
        "id": "ZFELdlza5kig"
      },
      "source": [
        "with open(\"../data/processed/features.json\") as fi:\n",
        "    json_features = json.load(fi)"
      ],
      "execution_count": 19,
      "outputs": []
    },
    {
      "cell_type": "code",
      "metadata": {
        "ExecuteTime": {
          "end_time": "2020-09-25T22:56:50.144132Z",
          "start_time": "2020-09-25T22:56:50.138992Z"
        },
        "id": "ls7K4Op25kii",
        "outputId": "c9941ae9-17bf-4eb4-f6f5-b80ba57a8b4c",
        "colab": {
          "base_uri": "https://localhost:8080/",
          "height": 54
        }
      },
      "source": [
        "json_features.keys()"
      ],
      "execution_count": 20,
      "outputs": [
        {
          "output_type": "execute_result",
          "data": {
            "text/plain": [
              "dict_keys(['cols_ohe_before', 'cols_kbin', 'cols_log_scale', 'cols_pass', 'feature_names_before', 'feature_names_after', 'desc'])"
            ]
          },
          "metadata": {
            "tags": []
          },
          "execution_count": 20
        }
      ]
    },
    {
      "cell_type": "markdown",
      "metadata": {
        "id": "I5a7CfG45ki4"
      },
      "source": [
        "# Train Test Split"
      ]
    },
    {
      "cell_type": "code",
      "metadata": {
        "ExecuteTime": {
          "end_time": "2020-09-25T22:56:50.179685Z",
          "start_time": "2020-09-25T22:56:50.175572Z"
        },
        "id": "mbCMBAK95ki4"
      },
      "source": [
        "from sklearn.model_selection import train_test_split"
      ],
      "execution_count": 21,
      "outputs": []
    },
    {
      "cell_type": "code",
      "metadata": {
        "ExecuteTime": {
          "end_time": "2020-09-25T22:56:50.242803Z",
          "start_time": "2020-09-25T22:56:50.184379Z"
        },
        "id": "t7j7noBB5ki8",
        "outputId": "62554528-50ff-4f43-ca28-4f4e146259ab",
        "colab": {
          "base_uri": "https://localhost:8080/",
          "height": 34
        }
      },
      "source": [
        "df_train, df_test, X_train, X_test = train_test_split(df, X, random_state=SEED)\n",
        "\n",
        "df_train.shape, df_test.shape, X_train.shape, X_test.shape"
      ],
      "execution_count": 22,
      "outputs": [
        {
          "output_type": "execute_result",
          "data": {
            "text/plain": [
              "((75000, 15), (25000, 15), (75000, 71), (25000, 71))"
            ]
          },
          "metadata": {
            "tags": []
          },
          "execution_count": 22
        }
      ]
    },
    {
      "cell_type": "markdown",
      "metadata": {
        "id": "s6CSTwdJ1J_9"
      },
      "source": [
        "# Modelling: Xgboost Tweedie regressor"
      ]
    },
    {
      "cell_type": "code",
      "metadata": {
        "id": "8wx10tit9n-D"
      },
      "source": [
        "import xgboost as xgb"
      ],
      "execution_count": 23,
      "outputs": []
    },
    {
      "cell_type": "code",
      "metadata": {
        "id": "E72Vgi5o9tbE"
      },
      "source": [
        "target = 'PurePremium'\n",
        "\n",
        "y_train = df_train[target].to_numpy().ravel()\n",
        "y_test = df_test[target].to_numpy().ravel()\n",
        "\n",
        "dtrain = xgb.DMatrix(data=X_train.todense(),label=y_train)\n",
        "dtest = xgb.DMatrix(data=X_test.todense(), label=y_test)"
      ],
      "execution_count": 24,
      "outputs": []
    },
    {
      "cell_type": "code",
      "metadata": {
        "id": "mATrT0nF94HB"
      },
      "source": [
        "# apply offsets\n",
        "# Ref: https://towardsdatascience.com/offsetting-the-model-logic-to-implementation-7e333bc25798\n",
        "# there are different ways to apply offsets for different modules.\n",
        "# statsmodel: exposure\n",
        "# xgboost: set_base_margin with log\n",
        "# lightgbm: set_init_score()\n",
        "dtrain.set_base_margin(np.log(df_train['Exposure'].to_numpy()))\n",
        "dtest.set_base_margin(np.log(df_test['Exposure'].to_numpy()))"
      ],
      "execution_count": 25,
      "outputs": []
    },
    {
      "cell_type": "code",
      "metadata": {
        "id": "2Q6V4atU-FNj",
        "outputId": "b8370b1f-a0c2-416e-dc1e-7c8101cb0a5c",
        "colab": {
          "base_uri": "https://localhost:8080/",
          "height": 52
        }
      },
      "source": [
        "%%time\n",
        "params = {\n",
        "    'objective':'reg:tweedie',\n",
        "    'colsample_bytree': 1.0,\n",
        "    'learning_rate': 0.01,\n",
        "    'gamma':1.5,\n",
        "    'max_depth': 2,\n",
        "    'subsample':0.6, \n",
        "    'reg_alpha': 0,\n",
        "    'reg_lambda':1,\n",
        "    'min_child_weight':5,\n",
        "    'n_estimators':2000,\n",
        "    'tweedie_variance_power':1.9}\n",
        "\n",
        "model_xgb = xgb.train(params=params, dtrain=dtrain, num_boost_round=1000)"
      ],
      "execution_count": 26,
      "outputs": [
        {
          "output_type": "stream",
          "text": [
            "CPU times: user 3min 2s, sys: 250 ms, total: 3min 2s\n",
            "Wall time: 1min 32s\n"
          ],
          "name": "stdout"
        }
      ]
    },
    {
      "cell_type": "code",
      "metadata": {
        "id": "OK0nCBty-kJn"
      },
      "source": [
        "tr_preds = model_xgb.predict(dtrain)\n",
        "tx_preds = model_xgb.predict(dtest)"
      ],
      "execution_count": 27,
      "outputs": []
    },
    {
      "cell_type": "code",
      "metadata": {
        "id": "cGYXMM2b_U24",
        "outputId": "20a08e8a-7ca0-4673-e919-b91ec649f994",
        "colab": {
          "base_uri": "https://localhost:8080/",
          "height": 137
        }
      },
      "source": [
        "tr_mae = mean_absolute_error(y_train,tr_preds)\n",
        "tx_mae = mean_absolute_error(y_test,tx_preds)\n",
        "\n",
        "tr_mse = mean_squared_error(y_train, tr_preds)\n",
        "tx_mse = mean_squared_error(y_test,tx_preds)\n",
        "\n",
        "df_eval_twd = pd.DataFrame(\n",
        "{'train': [np.nan, tr_mae, tr_mse],\n",
        "'test': [np.nan, tx_mae, tx_mse]})\n",
        "\n",
        "df_eval_twd.index = ['D2','mean_absolute_error','mean_squared_error']\n",
        "df_eval_twd"
      ],
      "execution_count": 28,
      "outputs": [
        {
          "output_type": "execute_result",
          "data": {
            "text/html": [
              "<div>\n",
              "<style scoped>\n",
              "    .dataframe tbody tr th:only-of-type {\n",
              "        vertical-align: middle;\n",
              "    }\n",
              "\n",
              "    .dataframe tbody tr th {\n",
              "        vertical-align: top;\n",
              "    }\n",
              "\n",
              "    .dataframe thead th {\n",
              "        text-align: right;\n",
              "    }\n",
              "</style>\n",
              "<table border=\"1\" class=\"dataframe\">\n",
              "  <thead>\n",
              "    <tr style=\"text-align: right;\">\n",
              "      <th></th>\n",
              "      <th>train</th>\n",
              "      <th>test</th>\n",
              "    </tr>\n",
              "  </thead>\n",
              "  <tbody>\n",
              "    <tr>\n",
              "      <th>D2</th>\n",
              "      <td>NaN</td>\n",
              "      <td>NaN</td>\n",
              "    </tr>\n",
              "    <tr>\n",
              "      <th>mean_absolute_error</th>\n",
              "      <td>1.760538e+03</td>\n",
              "      <td>1.588351e+03</td>\n",
              "    </tr>\n",
              "    <tr>\n",
              "      <th>mean_squared_error</th>\n",
              "      <td>1.481952e+09</td>\n",
              "      <td>1.659363e+08</td>\n",
              "    </tr>\n",
              "  </tbody>\n",
              "</table>\n",
              "</div>"
            ],
            "text/plain": [
              "                            train          test\n",
              "D2                            NaN           NaN\n",
              "mean_absolute_error  1.760538e+03  1.588351e+03\n",
              "mean_squared_error   1.481952e+09  1.659363e+08"
            ]
          },
          "metadata": {
            "tags": []
          },
          "execution_count": 28
        }
      ]
    },
    {
      "cell_type": "code",
      "metadata": {
        "id": "3rTvE3kI_dE-",
        "outputId": "cbac9842-843a-4ea2-bc9f-c01408e445a6",
        "colab": {
          "base_uri": "https://localhost:8080/",
          "height": 52
        }
      },
      "source": [
        "%%time\n",
        "cv_results = xgb.cv(dtrain=dtrain, params=params, nfold=3,\n",
        "                    num_boost_round=2000,\n",
        "                    early_stopping_rounds=10,\n",
        "                    metrics=\"rmse\",\n",
        "                    as_pandas=True,\n",
        "                    seed=SEED)"
      ],
      "execution_count": 29,
      "outputs": [
        {
          "output_type": "stream",
          "text": [
            "CPU times: user 3min 13s, sys: 341 ms, total: 3min 13s\n",
            "Wall time: 1min 38s\n"
          ],
          "name": "stdout"
        }
      ]
    },
    {
      "cell_type": "code",
      "metadata": {
        "id": "HkIQPRJ-_vsH",
        "outputId": "44f0c56b-fc7f-4206-8cd1-6839b6507843",
        "colab": {
          "base_uri": "https://localhost:8080/",
          "height": 34
        }
      },
      "source": [
        "cv_results.shape"
      ],
      "execution_count": 30,
      "outputs": [
        {
          "output_type": "execute_result",
          "data": {
            "text/plain": [
              "(448, 4)"
            ]
          },
          "metadata": {
            "tags": []
          },
          "execution_count": 30
        }
      ]
    },
    {
      "cell_type": "code",
      "metadata": {
        "id": "A406wTBNAXsM",
        "outputId": "26394c1c-b1cd-403a-cb17-4ef3b1d36300",
        "colab": {
          "base_uri": "https://localhost:8080/",
          "height": 197
        }
      },
      "source": [
        "cv_results.tail()"
      ],
      "execution_count": 31,
      "outputs": [
        {
          "output_type": "execute_result",
          "data": {
            "text/html": [
              "<div>\n",
              "<style scoped>\n",
              "    .dataframe tbody tr th:only-of-type {\n",
              "        vertical-align: middle;\n",
              "    }\n",
              "\n",
              "    .dataframe tbody tr th {\n",
              "        vertical-align: top;\n",
              "    }\n",
              "\n",
              "    .dataframe thead th {\n",
              "        text-align: right;\n",
              "    }\n",
              "</style>\n",
              "<table border=\"1\" class=\"dataframe\">\n",
              "  <thead>\n",
              "    <tr style=\"text-align: right;\">\n",
              "      <th></th>\n",
              "      <th>train-rmse-mean</th>\n",
              "      <th>train-rmse-std</th>\n",
              "      <th>test-rmse-mean</th>\n",
              "      <th>test-rmse-std</th>\n",
              "    </tr>\n",
              "  </thead>\n",
              "  <tbody>\n",
              "    <tr>\n",
              "      <th>443</th>\n",
              "      <td>34847.445312</td>\n",
              "      <td>16248.746864</td>\n",
              "      <td>28785.776855</td>\n",
              "      <td>25490.221577</td>\n",
              "    </tr>\n",
              "    <tr>\n",
              "      <th>444</th>\n",
              "      <td>34847.441732</td>\n",
              "      <td>16248.751926</td>\n",
              "      <td>28785.770670</td>\n",
              "      <td>25490.226078</td>\n",
              "    </tr>\n",
              "    <tr>\n",
              "      <th>445</th>\n",
              "      <td>34847.438151</td>\n",
              "      <td>16248.754184</td>\n",
              "      <td>28785.763672</td>\n",
              "      <td>25490.228446</td>\n",
              "    </tr>\n",
              "    <tr>\n",
              "      <th>446</th>\n",
              "      <td>34847.434245</td>\n",
              "      <td>16248.756901</td>\n",
              "      <td>28785.758463</td>\n",
              "      <td>25490.232558</td>\n",
              "    </tr>\n",
              "    <tr>\n",
              "      <th>447</th>\n",
              "      <td>34847.427409</td>\n",
              "      <td>16248.758325</td>\n",
              "      <td>28785.754232</td>\n",
              "      <td>25490.235459</td>\n",
              "    </tr>\n",
              "  </tbody>\n",
              "</table>\n",
              "</div>"
            ],
            "text/plain": [
              "     train-rmse-mean  train-rmse-std  test-rmse-mean  test-rmse-std\n",
              "443     34847.445312    16248.746864    28785.776855   25490.221577\n",
              "444     34847.441732    16248.751926    28785.770670   25490.226078\n",
              "445     34847.438151    16248.754184    28785.763672   25490.228446\n",
              "446     34847.434245    16248.756901    28785.758463   25490.232558\n",
              "447     34847.427409    16248.758325    28785.754232   25490.235459"
            ]
          },
          "metadata": {
            "tags": []
          },
          "execution_count": 31
        }
      ]
    },
    {
      "cell_type": "code",
      "metadata": {
        "id": "crLuqKHWJgC5"
      },
      "source": [
        ""
      ],
      "execution_count": 31,
      "outputs": []
    }
  ]
}