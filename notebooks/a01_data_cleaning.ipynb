{
 "cells": [
  {
   "cell_type": "markdown",
   "metadata": {
    "toc": true
   },
   "source": [
    "<h1>Table of Contents<span class=\"tocSkip\"></span></h1>\n",
    "<div class=\"toc\"><ul class=\"toc-item\"><li><span><a href=\"#Description\" data-toc-modified-id=\"Description-1\"><span class=\"toc-item-num\">1&nbsp;&nbsp;</span>Description</a></span></li><li><span><a href=\"#Load-the-libraries\" data-toc-modified-id=\"Load-the-libraries-2\"><span class=\"toc-item-num\">2&nbsp;&nbsp;</span>Load the libraries</a></span></li><li><span><a href=\"#Load-the-data\" data-toc-modified-id=\"Load-the-data-3\"><span class=\"toc-item-num\">3&nbsp;&nbsp;</span>Load the data</a></span></li><li><span><a href=\"#Data-Cleaning\" data-toc-modified-id=\"Data-Cleaning-4\"><span class=\"toc-item-num\">4&nbsp;&nbsp;</span>Data Cleaning</a></span></li><li><span><a href=\"#Data-Profiling\" data-toc-modified-id=\"Data-Profiling-5\"><span class=\"toc-item-num\">5&nbsp;&nbsp;</span>Data Profiling</a></span></li><li><span><a href=\"#Data-Processing-for-Modelling\" data-toc-modified-id=\"Data-Processing-for-Modelling-6\"><span class=\"toc-item-num\">6&nbsp;&nbsp;</span>Data Processing for Modelling</a></span></li><li><span><a href=\"#Save-the-clean-data\" data-toc-modified-id=\"Save-the-clean-data-7\"><span class=\"toc-item-num\">7&nbsp;&nbsp;</span>Save the clean data</a></span></li></ul></div>"
   ]
  },
  {
   "cell_type": "markdown",
   "metadata": {},
   "source": [
    "# Description\n",
    "In this project we use the openml dataset of French Motor Vehicle Insurance Claims.\n",
    "\n",
    "Data Source  \n",
    "- [Frequency Data](https://www.openml.org/d/41214)\n",
    "- [Severence Data](https://www.openml.org/d/41215)\n",
    "\n",
    "The frequency dataset has 12 columns and 678,013 rows.  \n",
    "The severence dataset has 2 columns and 26,639 rows.  \n",
    "\n",
    "![](../images/freq_01.png)\n",
    "![](../images/freq_02.png)\n",
    "![](../images/sev_01.png)\n"
   ]
  },
  {
   "cell_type": "markdown",
   "metadata": {},
   "source": [
    "# Load the libraries"
   ]
  },
  {
   "cell_type": "code",
   "execution_count": 82,
   "metadata": {
    "ExecuteTime": {
     "end_time": "2020-09-26T16:08:49.847295Z",
     "start_time": "2020-09-26T16:08:49.837614Z"
    }
   },
   "outputs": [
    {
     "name": "stdout",
     "output_type": "stream",
     "text": [
      "The watermark extension is already loaded. To reload it, use:\n",
      "  %reload_ext watermark\n",
      "pandas           1.1.0\n",
      "numpy            1.18.4\n",
      "pandas_profiling 2.9.0\n",
      "scipy            1.4.1\n",
      "autopep8         1.5.2\n",
      "json             2.0.9\n",
      "sklearn          0.23.1\n",
      "seaborn          0.11.0\n",
      "\n"
     ]
    }
   ],
   "source": [
    "import numpy as np\n",
    "import pandas as pd\n",
    "import seaborn as sns\n",
    "import os,sys,time\n",
    "import sklearn\n",
    "import matplotlib.pyplot as plt\n",
    "sns.set()\n",
    "\n",
    "SEED = 100\n",
    "pd.set_option('max_columns',100)\n",
    "pd.set_option('plotting.backend','matplotlib') # matplotlib, bokeh, altair, plotly\n",
    "%load_ext watermark\n",
    "%watermark -iv"
   ]
  },
  {
   "cell_type": "markdown",
   "metadata": {},
   "source": [
    "# Load the data"
   ]
  },
  {
   "cell_type": "code",
   "execution_count": 83,
   "metadata": {
    "ExecuteTime": {
     "end_time": "2020-09-26T16:08:51.690310Z",
     "start_time": "2020-09-26T16:08:51.579807Z"
    }
   },
   "outputs": [
    {
     "name": "stdout",
     "output_type": "stream",
     "text": [
      "(100000, 12)\n"
     ]
    },
    {
     "data": {
      "text/html": [
       "<div>\n",
       "<style scoped>\n",
       "    .dataframe tbody tr th:only-of-type {\n",
       "        vertical-align: middle;\n",
       "    }\n",
       "\n",
       "    .dataframe tbody tr th {\n",
       "        vertical-align: top;\n",
       "    }\n",
       "\n",
       "    .dataframe thead th {\n",
       "        text-align: right;\n",
       "    }\n",
       "</style>\n",
       "<table border=\"1\" class=\"dataframe\">\n",
       "  <thead>\n",
       "    <tr style=\"text-align: right;\">\n",
       "      <th></th>\n",
       "      <th>IDpol</th>\n",
       "      <th>ClaimNb</th>\n",
       "      <th>Exposure</th>\n",
       "      <th>Area</th>\n",
       "      <th>VehPower</th>\n",
       "      <th>VehAge</th>\n",
       "      <th>DrivAge</th>\n",
       "      <th>BonusMalus</th>\n",
       "      <th>VehBrand</th>\n",
       "      <th>VehGas</th>\n",
       "      <th>Density</th>\n",
       "      <th>Region</th>\n",
       "    </tr>\n",
       "  </thead>\n",
       "  <tbody>\n",
       "    <tr>\n",
       "      <th>0</th>\n",
       "      <td>1.0</td>\n",
       "      <td>1</td>\n",
       "      <td>0.10</td>\n",
       "      <td>D</td>\n",
       "      <td>5</td>\n",
       "      <td>0</td>\n",
       "      <td>55</td>\n",
       "      <td>50</td>\n",
       "      <td>B12</td>\n",
       "      <td>Regular</td>\n",
       "      <td>1217</td>\n",
       "      <td>R82</td>\n",
       "    </tr>\n",
       "    <tr>\n",
       "      <th>1</th>\n",
       "      <td>3.0</td>\n",
       "      <td>1</td>\n",
       "      <td>0.77</td>\n",
       "      <td>D</td>\n",
       "      <td>5</td>\n",
       "      <td>0</td>\n",
       "      <td>55</td>\n",
       "      <td>50</td>\n",
       "      <td>B12</td>\n",
       "      <td>Regular</td>\n",
       "      <td>1217</td>\n",
       "      <td>R82</td>\n",
       "    </tr>\n",
       "    <tr>\n",
       "      <th>99998</th>\n",
       "      <td>1019554.0</td>\n",
       "      <td>0</td>\n",
       "      <td>1.00</td>\n",
       "      <td>C</td>\n",
       "      <td>7</td>\n",
       "      <td>9</td>\n",
       "      <td>44</td>\n",
       "      <td>50</td>\n",
       "      <td>B1</td>\n",
       "      <td>Regular</td>\n",
       "      <td>191</td>\n",
       "      <td>R24</td>\n",
       "    </tr>\n",
       "    <tr>\n",
       "      <th>99999</th>\n",
       "      <td>1019556.0</td>\n",
       "      <td>0</td>\n",
       "      <td>1.00</td>\n",
       "      <td>E</td>\n",
       "      <td>4</td>\n",
       "      <td>12</td>\n",
       "      <td>53</td>\n",
       "      <td>50</td>\n",
       "      <td>B1</td>\n",
       "      <td>Regular</td>\n",
       "      <td>4116</td>\n",
       "      <td>R24</td>\n",
       "    </tr>\n",
       "  </tbody>\n",
       "</table>\n",
       "</div>"
      ],
      "text/plain": [
       "           IDpol  ClaimNb  Exposure Area  VehPower  VehAge  DrivAge  \\\n",
       "0            1.0        1      0.10    D         5       0       55   \n",
       "1            3.0        1      0.77    D         5       0       55   \n",
       "99998  1019554.0        0      1.00    C         7       9       44   \n",
       "99999  1019556.0        0      1.00    E         4      12       53   \n",
       "\n",
       "       BonusMalus VehBrand   VehGas  Density Region  \n",
       "0              50      B12  Regular     1217    R82  \n",
       "1              50      B12  Regular     1217    R82  \n",
       "99998          50       B1  Regular      191    R24  \n",
       "99999          50       B1  Regular     4116    R24  "
      ]
     },
     "execution_count": 83,
     "metadata": {},
     "output_type": "execute_result"
    }
   ],
   "source": [
    "df_freq = pd.read_csv('../data/raw/freMTPL2freq.csv', nrows=100_000)\n",
    "print(df_freq.shape)\n",
    "df_freq.head(2).append(df_freq.tail(2))"
   ]
  },
  {
   "cell_type": "code",
   "execution_count": 84,
   "metadata": {
    "ExecuteTime": {
     "end_time": "2020-09-26T16:08:55.299455Z",
     "start_time": "2020-09-26T16:08:55.293731Z"
    }
   },
   "outputs": [],
   "source": [
    "# we need to make id column integer and set as index\n",
    "\n",
    "df_freq['IDpol'] = df_freq['IDpol'].astype(np.int)\n",
    "df_freq.set_index('IDpol', inplace=True)"
   ]
  },
  {
   "cell_type": "code",
   "execution_count": 85,
   "metadata": {
    "ExecuteTime": {
     "end_time": "2020-09-26T16:08:56.255521Z",
     "start_time": "2020-09-26T16:08:56.243889Z"
    }
   },
   "outputs": [
    {
     "data": {
      "text/html": [
       "<div>\n",
       "<style scoped>\n",
       "    .dataframe tbody tr th:only-of-type {\n",
       "        vertical-align: middle;\n",
       "    }\n",
       "\n",
       "    .dataframe tbody tr th {\n",
       "        vertical-align: top;\n",
       "    }\n",
       "\n",
       "    .dataframe thead th {\n",
       "        text-align: right;\n",
       "    }\n",
       "</style>\n",
       "<table border=\"1\" class=\"dataframe\">\n",
       "  <thead>\n",
       "    <tr style=\"text-align: right;\">\n",
       "      <th></th>\n",
       "      <th>ClaimNb</th>\n",
       "      <th>Exposure</th>\n",
       "      <th>Area</th>\n",
       "      <th>VehPower</th>\n",
       "      <th>VehAge</th>\n",
       "      <th>DrivAge</th>\n",
       "      <th>BonusMalus</th>\n",
       "      <th>VehBrand</th>\n",
       "      <th>VehGas</th>\n",
       "      <th>Density</th>\n",
       "      <th>Region</th>\n",
       "    </tr>\n",
       "    <tr>\n",
       "      <th>IDpol</th>\n",
       "      <th></th>\n",
       "      <th></th>\n",
       "      <th></th>\n",
       "      <th></th>\n",
       "      <th></th>\n",
       "      <th></th>\n",
       "      <th></th>\n",
       "      <th></th>\n",
       "      <th></th>\n",
       "      <th></th>\n",
       "      <th></th>\n",
       "    </tr>\n",
       "  </thead>\n",
       "  <tbody>\n",
       "    <tr>\n",
       "      <th>1</th>\n",
       "      <td>1</td>\n",
       "      <td>0.10</td>\n",
       "      <td>D</td>\n",
       "      <td>5</td>\n",
       "      <td>0</td>\n",
       "      <td>55</td>\n",
       "      <td>50</td>\n",
       "      <td>B12</td>\n",
       "      <td>Regular</td>\n",
       "      <td>1217</td>\n",
       "      <td>R82</td>\n",
       "    </tr>\n",
       "    <tr>\n",
       "      <th>3</th>\n",
       "      <td>1</td>\n",
       "      <td>0.77</td>\n",
       "      <td>D</td>\n",
       "      <td>5</td>\n",
       "      <td>0</td>\n",
       "      <td>55</td>\n",
       "      <td>50</td>\n",
       "      <td>B12</td>\n",
       "      <td>Regular</td>\n",
       "      <td>1217</td>\n",
       "      <td>R82</td>\n",
       "    </tr>\n",
       "  </tbody>\n",
       "</table>\n",
       "</div>"
      ],
      "text/plain": [
       "       ClaimNb  Exposure Area  VehPower  VehAge  DrivAge  BonusMalus VehBrand  \\\n",
       "IDpol                                                                           \n",
       "1            1      0.10    D         5       0       55          50      B12   \n",
       "3            1      0.77    D         5       0       55          50      B12   \n",
       "\n",
       "        VehGas  Density Region  \n",
       "IDpol                           \n",
       "1      Regular     1217    R82  \n",
       "3      Regular     1217    R82  "
      ]
     },
     "execution_count": 85,
     "metadata": {},
     "output_type": "execute_result"
    }
   ],
   "source": [
    "df_freq.head(2)"
   ]
  },
  {
   "cell_type": "code",
   "execution_count": 86,
   "metadata": {
    "ExecuteTime": {
     "end_time": "2020-09-26T16:08:57.159997Z",
     "start_time": "2020-09-26T16:08:57.157274Z"
    }
   },
   "outputs": [],
   "source": [
    "# now we will read severity data."
   ]
  },
  {
   "cell_type": "code",
   "execution_count": 87,
   "metadata": {
    "ExecuteTime": {
     "end_time": "2020-09-26T16:08:58.033765Z",
     "start_time": "2020-09-26T16:08:58.013047Z"
    }
   },
   "outputs": [
    {
     "name": "stdout",
     "output_type": "stream",
     "text": [
      "(26639, 2)\n"
     ]
    },
    {
     "data": {
      "text/html": [
       "<div>\n",
       "<style scoped>\n",
       "    .dataframe tbody tr th:only-of-type {\n",
       "        vertical-align: middle;\n",
       "    }\n",
       "\n",
       "    .dataframe tbody tr th {\n",
       "        vertical-align: top;\n",
       "    }\n",
       "\n",
       "    .dataframe thead th {\n",
       "        text-align: right;\n",
       "    }\n",
       "</style>\n",
       "<table border=\"1\" class=\"dataframe\">\n",
       "  <thead>\n",
       "    <tr style=\"text-align: right;\">\n",
       "      <th></th>\n",
       "      <th>IDpol</th>\n",
       "      <th>ClaimAmount</th>\n",
       "    </tr>\n",
       "  </thead>\n",
       "  <tbody>\n",
       "    <tr>\n",
       "      <th>0</th>\n",
       "      <td>1552</td>\n",
       "      <td>995.20</td>\n",
       "    </tr>\n",
       "    <tr>\n",
       "      <th>1</th>\n",
       "      <td>1010996</td>\n",
       "      <td>1128.12</td>\n",
       "    </tr>\n",
       "    <tr>\n",
       "      <th>26637</th>\n",
       "      <td>2222064</td>\n",
       "      <td>767.55</td>\n",
       "    </tr>\n",
       "    <tr>\n",
       "      <th>26638</th>\n",
       "      <td>2254065</td>\n",
       "      <td>1500.00</td>\n",
       "    </tr>\n",
       "  </tbody>\n",
       "</table>\n",
       "</div>"
      ],
      "text/plain": [
       "         IDpol  ClaimAmount\n",
       "0         1552       995.20\n",
       "1      1010996      1128.12\n",
       "26637  2222064       767.55\n",
       "26638  2254065      1500.00"
      ]
     },
     "execution_count": 87,
     "metadata": {},
     "output_type": "execute_result"
    }
   ],
   "source": [
    "df_sev = pd.read_csv('../data/raw/freMTPL2sev.csv')\n",
    "print(df_sev.shape)\n",
    "df_sev.head(2).append(df_sev.tail(2))"
   ]
  },
  {
   "cell_type": "code",
   "execution_count": 88,
   "metadata": {
    "ExecuteTime": {
     "end_time": "2020-09-26T16:08:59.026020Z",
     "start_time": "2020-09-26T16:08:59.012863Z"
    }
   },
   "outputs": [
    {
     "data": {
      "text/plain": [
       "(24950, 1)"
      ]
     },
     "execution_count": 88,
     "metadata": {},
     "output_type": "execute_result"
    }
   ],
   "source": [
    "# we will sum insurance claim per policy ID\n",
    "df_sev = df_sev.groupby('IDpol').sum()\n",
    "df_sev.shape"
   ]
  },
  {
   "cell_type": "code",
   "execution_count": 89,
   "metadata": {
    "ExecuteTime": {
     "end_time": "2020-09-26T16:08:59.860038Z",
     "start_time": "2020-09-26T16:08:59.852311Z"
    }
   },
   "outputs": [
    {
     "data": {
      "text/html": [
       "<div>\n",
       "<style scoped>\n",
       "    .dataframe tbody tr th:only-of-type {\n",
       "        vertical-align: middle;\n",
       "    }\n",
       "\n",
       "    .dataframe tbody tr th {\n",
       "        vertical-align: top;\n",
       "    }\n",
       "\n",
       "    .dataframe thead th {\n",
       "        text-align: right;\n",
       "    }\n",
       "</style>\n",
       "<table border=\"1\" class=\"dataframe\">\n",
       "  <thead>\n",
       "    <tr style=\"text-align: right;\">\n",
       "      <th></th>\n",
       "      <th>ClaimAmount</th>\n",
       "    </tr>\n",
       "    <tr>\n",
       "      <th>IDpol</th>\n",
       "      <th></th>\n",
       "    </tr>\n",
       "  </thead>\n",
       "  <tbody>\n",
       "    <tr>\n",
       "      <th>139</th>\n",
       "      <td>303.00</td>\n",
       "    </tr>\n",
       "    <tr>\n",
       "      <th>190</th>\n",
       "      <td>1981.84</td>\n",
       "    </tr>\n",
       "  </tbody>\n",
       "</table>\n",
       "</div>"
      ],
      "text/plain": [
       "       ClaimAmount\n",
       "IDpol             \n",
       "139         303.00\n",
       "190        1981.84"
      ]
     },
     "execution_count": 89,
     "metadata": {},
     "output_type": "execute_result"
    }
   ],
   "source": [
    "df_sev.head(2)"
   ]
  },
  {
   "cell_type": "code",
   "execution_count": 90,
   "metadata": {
    "ExecuteTime": {
     "end_time": "2020-09-26T16:09:00.734389Z",
     "start_time": "2020-09-26T16:09:00.731437Z"
    }
   },
   "outputs": [],
   "source": [
    "# join the freq and severity data"
   ]
  },
  {
   "cell_type": "code",
   "execution_count": 91,
   "metadata": {
    "ExecuteTime": {
     "end_time": "2020-09-26T16:09:01.607397Z",
     "start_time": "2020-09-26T16:09:01.571343Z"
    }
   },
   "outputs": [
    {
     "data": {
      "text/html": [
       "<div>\n",
       "<style scoped>\n",
       "    .dataframe tbody tr th:only-of-type {\n",
       "        vertical-align: middle;\n",
       "    }\n",
       "\n",
       "    .dataframe tbody tr th {\n",
       "        vertical-align: top;\n",
       "    }\n",
       "\n",
       "    .dataframe thead th {\n",
       "        text-align: right;\n",
       "    }\n",
       "</style>\n",
       "<table border=\"1\" class=\"dataframe\">\n",
       "  <thead>\n",
       "    <tr style=\"text-align: right;\">\n",
       "      <th></th>\n",
       "      <th>ClaimNb</th>\n",
       "      <th>Exposure</th>\n",
       "      <th>Area</th>\n",
       "      <th>VehPower</th>\n",
       "      <th>VehAge</th>\n",
       "      <th>DrivAge</th>\n",
       "      <th>BonusMalus</th>\n",
       "      <th>VehBrand</th>\n",
       "      <th>VehGas</th>\n",
       "      <th>Density</th>\n",
       "      <th>Region</th>\n",
       "      <th>ClaimAmount</th>\n",
       "    </tr>\n",
       "    <tr>\n",
       "      <th>IDpol</th>\n",
       "      <th></th>\n",
       "      <th></th>\n",
       "      <th></th>\n",
       "      <th></th>\n",
       "      <th></th>\n",
       "      <th></th>\n",
       "      <th></th>\n",
       "      <th></th>\n",
       "      <th></th>\n",
       "      <th></th>\n",
       "      <th></th>\n",
       "      <th></th>\n",
       "    </tr>\n",
       "  </thead>\n",
       "  <tbody>\n",
       "    <tr>\n",
       "      <th>1</th>\n",
       "      <td>1</td>\n",
       "      <td>0.10</td>\n",
       "      <td>D</td>\n",
       "      <td>5</td>\n",
       "      <td>0</td>\n",
       "      <td>55</td>\n",
       "      <td>50</td>\n",
       "      <td>B12</td>\n",
       "      <td>Regular</td>\n",
       "      <td>1217</td>\n",
       "      <td>R82</td>\n",
       "      <td>NaN</td>\n",
       "    </tr>\n",
       "    <tr>\n",
       "      <th>3</th>\n",
       "      <td>1</td>\n",
       "      <td>0.77</td>\n",
       "      <td>D</td>\n",
       "      <td>5</td>\n",
       "      <td>0</td>\n",
       "      <td>55</td>\n",
       "      <td>50</td>\n",
       "      <td>B12</td>\n",
       "      <td>Regular</td>\n",
       "      <td>1217</td>\n",
       "      <td>R82</td>\n",
       "      <td>NaN</td>\n",
       "    </tr>\n",
       "  </tbody>\n",
       "</table>\n",
       "</div>"
      ],
      "text/plain": [
       "       ClaimNb  Exposure Area  VehPower  VehAge  DrivAge  BonusMalus VehBrand  \\\n",
       "IDpol                                                                           \n",
       "1            1      0.10    D         5       0       55          50      B12   \n",
       "3            1      0.77    D         5       0       55          50      B12   \n",
       "\n",
       "        VehGas  Density Region  ClaimAmount  \n",
       "IDpol                                        \n",
       "1      Regular     1217    R82          NaN  \n",
       "3      Regular     1217    R82          NaN  "
      ]
     },
     "execution_count": 91,
     "metadata": {},
     "output_type": "execute_result"
    }
   ],
   "source": [
    "df = df_freq.join(df_sev, how='left')\n",
    "df.head(2)"
   ]
  },
  {
   "cell_type": "markdown",
   "metadata": {},
   "source": [
    "# Data Cleaning"
   ]
  },
  {
   "cell_type": "code",
   "execution_count": 92,
   "metadata": {
    "ExecuteTime": {
     "end_time": "2020-09-26T16:09:03.143031Z",
     "start_time": "2020-09-26T16:09:03.139386Z"
    }
   },
   "outputs": [],
   "source": [
    "df['ClaimAmount'] = df['ClaimAmount'].fillna(0)"
   ]
  },
  {
   "cell_type": "code",
   "execution_count": 93,
   "metadata": {
    "ExecuteTime": {
     "end_time": "2020-09-26T16:09:03.934047Z",
     "start_time": "2020-09-26T16:09:03.909561Z"
    }
   },
   "outputs": [
    {
     "data": {
      "text/html": [
       "<div>\n",
       "<style scoped>\n",
       "    .dataframe tbody tr th:only-of-type {\n",
       "        vertical-align: middle;\n",
       "    }\n",
       "\n",
       "    .dataframe tbody tr th {\n",
       "        vertical-align: top;\n",
       "    }\n",
       "\n",
       "    .dataframe thead th {\n",
       "        text-align: right;\n",
       "    }\n",
       "</style>\n",
       "<table border=\"1\" class=\"dataframe\">\n",
       "  <thead>\n",
       "    <tr style=\"text-align: right;\">\n",
       "      <th></th>\n",
       "      <th>ClaimNb</th>\n",
       "      <th>Exposure</th>\n",
       "      <th>Area</th>\n",
       "      <th>VehPower</th>\n",
       "      <th>VehAge</th>\n",
       "      <th>DrivAge</th>\n",
       "      <th>BonusMalus</th>\n",
       "      <th>VehBrand</th>\n",
       "      <th>VehGas</th>\n",
       "      <th>Density</th>\n",
       "      <th>Region</th>\n",
       "      <th>ClaimAmount</th>\n",
       "    </tr>\n",
       "  </thead>\n",
       "  <tbody>\n",
       "    <tr>\n",
       "      <th>0</th>\n",
       "      <td>1</td>\n",
       "      <td>0.1</td>\n",
       "      <td>D</td>\n",
       "      <td>5</td>\n",
       "      <td>0</td>\n",
       "      <td>55</td>\n",
       "      <td>50</td>\n",
       "      <td>B12</td>\n",
       "      <td>Regular</td>\n",
       "      <td>1217</td>\n",
       "      <td>R82</td>\n",
       "      <td>0</td>\n",
       "    </tr>\n",
       "    <tr>\n",
       "      <th>1</th>\n",
       "      <td>1</td>\n",
       "      <td>0.77</td>\n",
       "      <td>D</td>\n",
       "      <td>5</td>\n",
       "      <td>0</td>\n",
       "      <td>55</td>\n",
       "      <td>50</td>\n",
       "      <td>B12</td>\n",
       "      <td>Regular</td>\n",
       "      <td>1217</td>\n",
       "      <td>R82</td>\n",
       "      <td>0</td>\n",
       "    </tr>\n",
       "    <tr>\n",
       "      <th>2</th>\n",
       "      <td>0</td>\n",
       "      <td>1</td>\n",
       "      <td>C</td>\n",
       "      <td>7</td>\n",
       "      <td>9</td>\n",
       "      <td>44</td>\n",
       "      <td>50</td>\n",
       "      <td>B1</td>\n",
       "      <td>Regular</td>\n",
       "      <td>191</td>\n",
       "      <td>R24</td>\n",
       "      <td>0</td>\n",
       "    </tr>\n",
       "    <tr>\n",
       "      <th>3</th>\n",
       "      <td>0</td>\n",
       "      <td>1</td>\n",
       "      <td>E</td>\n",
       "      <td>4</td>\n",
       "      <td>12</td>\n",
       "      <td>53</td>\n",
       "      <td>50</td>\n",
       "      <td>B1</td>\n",
       "      <td>Regular</td>\n",
       "      <td>4116</td>\n",
       "      <td>R24</td>\n",
       "      <td>0</td>\n",
       "    </tr>\n",
       "    <tr>\n",
       "      <th>4</th>\n",
       "      <td>int64</td>\n",
       "      <td>float64</td>\n",
       "      <td>object</td>\n",
       "      <td>int64</td>\n",
       "      <td>int64</td>\n",
       "      <td>int64</td>\n",
       "      <td>int64</td>\n",
       "      <td>object</td>\n",
       "      <td>object</td>\n",
       "      <td>int64</td>\n",
       "      <td>object</td>\n",
       "      <td>float64</td>\n",
       "    </tr>\n",
       "  </tbody>\n",
       "</table>\n",
       "</div>"
      ],
      "text/plain": [
       "  ClaimNb Exposure    Area VehPower VehAge DrivAge BonusMalus VehBrand  \\\n",
       "0       1      0.1       D        5      0      55         50      B12   \n",
       "1       1     0.77       D        5      0      55         50      B12   \n",
       "2       0        1       C        7      9      44         50       B1   \n",
       "3       0        1       E        4     12      53         50       B1   \n",
       "4   int64  float64  object    int64  int64   int64      int64   object   \n",
       "\n",
       "    VehGas Density  Region ClaimAmount  \n",
       "0  Regular    1217     R82           0  \n",
       "1  Regular    1217     R82           0  \n",
       "2  Regular     191     R24           0  \n",
       "3  Regular    4116     R24           0  \n",
       "4   object   int64  object     float64  "
      ]
     },
     "execution_count": 93,
     "metadata": {},
     "output_type": "execute_result"
    }
   ],
   "source": [
    "df.head(2).append(df.tail(2)).append(df.dtypes,ignore_index=True)"
   ]
  },
  {
   "cell_type": "code",
   "execution_count": 94,
   "metadata": {
    "ExecuteTime": {
     "end_time": "2020-09-26T16:09:04.701850Z",
     "start_time": "2020-09-26T16:09:04.678226Z"
    }
   },
   "outputs": [],
   "source": [
    "# severity model needs claimAmount > 0 (stritctly positive)\n",
    "# make all claim numbers 0 if claim amount is 0\n",
    "\n",
    "df.loc[(df[\"ClaimAmount\"] == 0) & (df[\"ClaimNb\"] >= 1), \"ClaimNb\"] = 0"
   ]
  },
  {
   "cell_type": "code",
   "execution_count": 95,
   "metadata": {
    "ExecuteTime": {
     "end_time": "2020-09-26T16:09:05.477875Z",
     "start_time": "2020-09-26T16:09:05.469829Z"
    }
   },
   "outputs": [
    {
     "data": {
      "text/plain": [
       "0    95262\n",
       "1     4544\n",
       "2      183\n",
       "3        9\n",
       "4        1\n",
       "5        1\n",
       "Name: ClaimNb, dtype: int64"
      ]
     },
     "execution_count": 95,
     "metadata": {},
     "output_type": "execute_result"
    }
   ],
   "source": [
    "# clip possible outlier values and wrong data entries\n",
    "df[\"ClaimNb\"].value_counts().sort_index()"
   ]
  },
  {
   "cell_type": "code",
   "execution_count": 96,
   "metadata": {
    "ExecuteTime": {
     "end_time": "2020-09-26T16:09:06.235494Z",
     "start_time": "2020-09-26T16:09:06.229923Z"
    }
   },
   "outputs": [],
   "source": [
    "df['ClaimNb'] = df['ClaimNb'].clip(upper=4)"
   ]
  },
  {
   "cell_type": "code",
   "execution_count": 97,
   "metadata": {
    "ExecuteTime": {
     "end_time": "2020-09-26T16:09:07.359895Z",
     "start_time": "2020-09-26T16:09:06.940786Z"
    }
   },
   "outputs": [
    {
     "data": {
      "image/png": "[encoded data removed]",
      "text/plain": [
       "<Figure size 432x288 with 1 Axes>"
      ]
     },
     "metadata": {},
     "output_type": "display_data"
    }
   ],
   "source": [
    "sns.kdeplot(df.Exposure)\n",
    "plt.xticks(np.arange(-0.2,1.3,0.1));"
   ]
  },
  {
   "cell_type": "code",
   "execution_count": 98,
   "metadata": {
    "ExecuteTime": {
     "end_time": "2020-09-26T16:09:07.938645Z",
     "start_time": "2020-09-26T16:09:07.700738Z"
    }
   },
   "outputs": [
    {
     "data": {
      "text/plain": [
       "<matplotlib.axes._subplots.AxesSubplot at 0x7fe7767dce50>"
      ]
     },
     "execution_count": 98,
     "metadata": {},
     "output_type": "execute_result"
    },
    {
     "data": {
      "image/png": "[encoded data removed]",
      "text/plain": [
       "<Figure size 432x288 with 1 Axes>"
      ]
     },
     "metadata": {},
     "output_type": "display_data"
    }
   ],
   "source": [
    "df['Exposure'].plot.hist(bins=10)"
   ]
  },
  {
   "cell_type": "code",
   "execution_count": 99,
   "metadata": {
    "ExecuteTime": {
     "end_time": "2020-09-26T16:09:08.480252Z",
     "start_time": "2020-09-26T16:09:08.468369Z"
    }
   },
   "outputs": [
    {
     "data": {
      "text/plain": [
       "count    100000.000000\n",
       "mean          0.583756\n",
       "std           0.367475\n",
       "min           0.002732\n",
       "25%           0.220000\n",
       "50%           0.590000\n",
       "75%           1.000000\n",
       "max           1.000000\n",
       "Name: Exposure, dtype: float64"
      ]
     },
     "execution_count": 99,
     "metadata": {},
     "output_type": "execute_result"
    }
   ],
   "source": [
    "df.Exposure.describe()\n",
    "# unlike kde plot shows, exposure has NO NEGATIVE values."
   ]
  },
  {
   "cell_type": "code",
   "execution_count": 100,
   "metadata": {
    "ExecuteTime": {
     "end_time": "2020-09-26T16:09:09.262558Z",
     "start_time": "2020-09-26T16:09:09.259721Z"
    }
   },
   "outputs": [],
   "source": [
    "# we will clip upper values from 0.9"
   ]
  },
  {
   "cell_type": "code",
   "execution_count": 101,
   "metadata": {
    "ExecuteTime": {
     "end_time": "2020-09-26T16:09:10.002072Z",
     "start_time": "2020-09-26T16:09:09.995481Z"
    }
   },
   "outputs": [],
   "source": [
    "df['Exposure'] = df['Exposure'].clip(upper=0.9)"
   ]
  },
  {
   "cell_type": "code",
   "execution_count": 102,
   "metadata": {
    "ExecuteTime": {
     "end_time": "2020-09-26T16:09:10.766926Z",
     "start_time": "2020-09-26T16:09:10.756206Z"
    }
   },
   "outputs": [
    {
     "data": {
      "text/plain": [
       "count    1.000000e+05\n",
       "mean     1.098624e+02\n",
       "std      4.793431e+03\n",
       "min      0.000000e+00\n",
       "25%      0.000000e+00\n",
       "50%      0.000000e+00\n",
       "75%      0.000000e+00\n",
       "max      1.404186e+06\n",
       "Name: ClaimAmount, dtype: float64"
      ]
     },
     "execution_count": 102,
     "metadata": {},
     "output_type": "execute_result"
    }
   ],
   "source": [
    "df[\"ClaimAmount\"].describe()"
   ]
  },
  {
   "cell_type": "code",
   "execution_count": 103,
   "metadata": {
    "ExecuteTime": {
     "end_time": "2020-09-26T16:09:11.974751Z",
     "start_time": "2020-09-26T16:09:11.573252Z"
    }
   },
   "outputs": [
    {
     "data": {
      "text/plain": [
       "<matplotlib.axes._subplots.AxesSubplot at 0x7fe770c25050>"
      ]
     },
     "execution_count": 103,
     "metadata": {},
     "output_type": "execute_result"
    },
    {
     "data": {
      "image/png": "[encoded data removed]",
      "text/plain": [
       "<Figure size 432x288 with 1 Axes>"
      ]
     },
     "metadata": {},
     "output_type": "display_data"
    }
   ],
   "source": [
    "sns.kdeplot(df['ClaimAmount'])"
   ]
  },
  {
   "cell_type": "code",
   "execution_count": 104,
   "metadata": {
    "ExecuteTime": {
     "end_time": "2020-09-26T16:09:12.973482Z",
     "start_time": "2020-09-26T16:09:12.584309Z"
    }
   },
   "outputs": [
    {
     "data": {
      "text/plain": [
       "<matplotlib.axes._subplots.AxesSubplot at 0x7fe770c69150>"
      ]
     },
     "execution_count": 104,
     "metadata": {},
     "output_type": "execute_result"
    },
    {
     "data": {
      "image/png": "[encoded data removed]",
      "text/plain": [
       "<Figure size 432x288 with 1 Axes>"
      ]
     },
     "metadata": {},
     "output_type": "display_data"
    }
   ],
   "source": [
    "sns.kdeplot(df['ClaimAmount'].clip(upper=100_000)) # 0.1e6\n",
    "\n",
    "# 100k is reasonalbe max amount, clip at that amount"
   ]
  },
  {
   "cell_type": "code",
   "execution_count": 105,
   "metadata": {
    "ExecuteTime": {
     "end_time": "2020-09-26T16:09:14.595749Z",
     "start_time": "2020-09-26T16:09:14.589788Z"
    }
   },
   "outputs": [],
   "source": [
    "df['ClaimAmount'] = df['ClaimAmount'].clip(upper=100_000)"
   ]
  },
  {
   "cell_type": "code",
   "execution_count": 106,
   "metadata": {
    "ExecuteTime": {
     "end_time": "2020-09-26T16:09:15.621911Z",
     "start_time": "2020-09-26T16:09:15.596685Z"
    }
   },
   "outputs": [
    {
     "data": {
      "text/html": [
       "<div>\n",
       "<style scoped>\n",
       "    .dataframe tbody tr th:only-of-type {\n",
       "        vertical-align: middle;\n",
       "    }\n",
       "\n",
       "    .dataframe tbody tr th {\n",
       "        vertical-align: top;\n",
       "    }\n",
       "\n",
       "    .dataframe thead th {\n",
       "        text-align: right;\n",
       "    }\n",
       "</style>\n",
       "<table border=\"1\" class=\"dataframe\">\n",
       "  <thead>\n",
       "    <tr style=\"text-align: right;\">\n",
       "      <th></th>\n",
       "      <th>ClaimNb</th>\n",
       "      <th>Exposure</th>\n",
       "      <th>Area</th>\n",
       "      <th>VehPower</th>\n",
       "      <th>VehAge</th>\n",
       "      <th>DrivAge</th>\n",
       "      <th>BonusMalus</th>\n",
       "      <th>VehBrand</th>\n",
       "      <th>VehGas</th>\n",
       "      <th>Density</th>\n",
       "      <th>Region</th>\n",
       "      <th>ClaimAmount</th>\n",
       "      <th>PurePremium</th>\n",
       "      <th>Frequency</th>\n",
       "      <th>AvgClaimAmount</th>\n",
       "    </tr>\n",
       "    <tr>\n",
       "      <th>IDpol</th>\n",
       "      <th></th>\n",
       "      <th></th>\n",
       "      <th></th>\n",
       "      <th></th>\n",
       "      <th></th>\n",
       "      <th></th>\n",
       "      <th></th>\n",
       "      <th></th>\n",
       "      <th></th>\n",
       "      <th></th>\n",
       "      <th></th>\n",
       "      <th></th>\n",
       "      <th></th>\n",
       "      <th></th>\n",
       "      <th></th>\n",
       "    </tr>\n",
       "  </thead>\n",
       "  <tbody>\n",
       "    <tr>\n",
       "      <th>139</th>\n",
       "      <td>1</td>\n",
       "      <td>0.75</td>\n",
       "      <td>F</td>\n",
       "      <td>7</td>\n",
       "      <td>1</td>\n",
       "      <td>61</td>\n",
       "      <td>50</td>\n",
       "      <td>B12</td>\n",
       "      <td>Regular</td>\n",
       "      <td>27000</td>\n",
       "      <td>R11</td>\n",
       "      <td>303.00</td>\n",
       "      <td>404.000000</td>\n",
       "      <td>1.333333</td>\n",
       "      <td>303.00</td>\n",
       "    </tr>\n",
       "    <tr>\n",
       "      <th>190</th>\n",
       "      <td>1</td>\n",
       "      <td>0.14</td>\n",
       "      <td>B</td>\n",
       "      <td>12</td>\n",
       "      <td>5</td>\n",
       "      <td>50</td>\n",
       "      <td>60</td>\n",
       "      <td>B12</td>\n",
       "      <td>Diesel</td>\n",
       "      <td>56</td>\n",
       "      <td>R25</td>\n",
       "      <td>1981.84</td>\n",
       "      <td>14156.000000</td>\n",
       "      <td>7.142857</td>\n",
       "      <td>1981.84</td>\n",
       "    </tr>\n",
       "    <tr>\n",
       "      <th>414</th>\n",
       "      <td>1</td>\n",
       "      <td>0.14</td>\n",
       "      <td>E</td>\n",
       "      <td>4</td>\n",
       "      <td>0</td>\n",
       "      <td>36</td>\n",
       "      <td>85</td>\n",
       "      <td>B12</td>\n",
       "      <td>Regular</td>\n",
       "      <td>4792</td>\n",
       "      <td>R11</td>\n",
       "      <td>1456.55</td>\n",
       "      <td>10403.928571</td>\n",
       "      <td>7.142857</td>\n",
       "      <td>1456.55</td>\n",
       "    </tr>\n",
       "    <tr>\n",
       "      <th>424</th>\n",
       "      <td>2</td>\n",
       "      <td>0.62</td>\n",
       "      <td>F</td>\n",
       "      <td>10</td>\n",
       "      <td>0</td>\n",
       "      <td>51</td>\n",
       "      <td>100</td>\n",
       "      <td>B12</td>\n",
       "      <td>Regular</td>\n",
       "      <td>27000</td>\n",
       "      <td>R11</td>\n",
       "      <td>10834.00</td>\n",
       "      <td>17474.193548</td>\n",
       "      <td>3.225806</td>\n",
       "      <td>5417.00</td>\n",
       "    </tr>\n",
       "    <tr>\n",
       "      <th>463</th>\n",
       "      <td>1</td>\n",
       "      <td>0.31</td>\n",
       "      <td>A</td>\n",
       "      <td>5</td>\n",
       "      <td>0</td>\n",
       "      <td>45</td>\n",
       "      <td>50</td>\n",
       "      <td>B12</td>\n",
       "      <td>Regular</td>\n",
       "      <td>12</td>\n",
       "      <td>R73</td>\n",
       "      <td>3986.67</td>\n",
       "      <td>12860.225806</td>\n",
       "      <td>3.225806</td>\n",
       "      <td>3986.67</td>\n",
       "    </tr>\n",
       "  </tbody>\n",
       "</table>\n",
       "</div>"
      ],
      "text/plain": [
       "       ClaimNb  Exposure Area  VehPower  VehAge  DrivAge  BonusMalus VehBrand  \\\n",
       "IDpol                                                                           \n",
       "139          1      0.75    F         7       1       61          50      B12   \n",
       "190          1      0.14    B        12       5       50          60      B12   \n",
       "414          1      0.14    E         4       0       36          85      B12   \n",
       "424          2      0.62    F        10       0       51         100      B12   \n",
       "463          1      0.31    A         5       0       45          50      B12   \n",
       "\n",
       "        VehGas  Density Region  ClaimAmount   PurePremium  Frequency  \\\n",
       "IDpol                                                                  \n",
       "139    Regular    27000    R11       303.00    404.000000   1.333333   \n",
       "190     Diesel       56    R25      1981.84  14156.000000   7.142857   \n",
       "414    Regular     4792    R11      1456.55  10403.928571   7.142857   \n",
       "424    Regular    27000    R11     10834.00  17474.193548   3.225806   \n",
       "463    Regular       12    R73      3986.67  12860.225806   3.225806   \n",
       "\n",
       "       AvgClaimAmount  \n",
       "IDpol                  \n",
       "139            303.00  \n",
       "190           1981.84  \n",
       "414           1456.55  \n",
       "424           5417.00  \n",
       "463           3986.67  "
      ]
     },
     "execution_count": 106,
     "metadata": {},
     "output_type": "execute_result"
    }
   ],
   "source": [
    "# for frequency modelling we need these features.\n",
    "\n",
    "df[\"PurePremium\"] = df[\"ClaimAmount\"] / df[\"Exposure\"]\n",
    "df[\"Frequency\"] = df[\"ClaimNb\"] / df[\"Exposure\"]\n",
    "df[\"AvgClaimAmount\"] = df[\"ClaimAmount\"] / np.fmax(df[\"ClaimNb\"], 1)\n",
    "\n",
    "df[df.ClaimAmount > 0].head()"
   ]
  },
  {
   "cell_type": "markdown",
   "metadata": {},
   "source": [
    "# Data Profiling"
   ]
  },
  {
   "cell_type": "code",
   "execution_count": 107,
   "metadata": {
    "ExecuteTime": {
     "end_time": "2020-09-26T16:09:19.824902Z",
     "start_time": "2020-09-26T16:09:19.780019Z"
    }
   },
   "outputs": [],
   "source": [
    "import pandas_profiling\n",
    "profile = pandas_profiling.ProfileReport(df)\n",
    "\n",
    "exist = True\n",
    "if not exist:\n",
    "    profile.to_file(output_file=\"../reports/html/pandas_profiling_report.html\")"
   ]
  },
  {
   "cell_type": "markdown",
   "metadata": {},
   "source": [
    "# Data Processing for Modelling"
   ]
  },
  {
   "cell_type": "code",
   "execution_count": 108,
   "metadata": {
    "ExecuteTime": {
     "end_time": "2020-09-26T16:09:24.936543Z",
     "start_time": "2020-09-26T16:09:24.932648Z"
    }
   },
   "outputs": [],
   "source": [
    "from sklearn.pipeline import make_pipeline\n",
    "from sklearn.compose import ColumnTransformer\n",
    "from sklearn.preprocessing import FunctionTransformer, OneHotEncoder\n",
    "from sklearn.preprocessing import StandardScaler, KBinsDiscretizer"
   ]
  },
  {
   "cell_type": "code",
   "execution_count": 109,
   "metadata": {
    "ExecuteTime": {
     "end_time": "2020-09-26T16:09:25.799597Z",
     "start_time": "2020-09-26T16:09:25.795988Z"
    }
   },
   "outputs": [],
   "source": [
    "from sklearn import set_config\n",
    "\n",
    "set_config(display='diagram')"
   ]
  },
  {
   "cell_type": "code",
   "execution_count": 129,
   "metadata": {
    "ExecuteTime": {
     "end_time": "2020-09-26T17:13:41.204364Z",
     "start_time": "2020-09-26T17:13:41.144247Z"
    }
   },
   "outputs": [
    {
     "data": {
      "text/html": [
       "<style>div.sk-top-container {color: black;background-color: white;}div.sk-toggleable {background-color: white;}label.sk-toggleable__label {cursor: pointer;display: block;width: 100%;margin-bottom: 0;padding: 0.2em 0.3em;box-sizing: border-box;text-align: center;}div.sk-toggleable__content {max-height: 0;max-width: 0;overflow: hidden;text-align: left;background-color: #f0f8ff;}div.sk-toggleable__content pre {margin: 0.2em;color: black;border-radius: 0.25em;background-color: #f0f8ff;}input.sk-toggleable__control:checked~div.sk-toggleable__content {max-height: 200px;max-width: 100%;overflow: auto;}div.sk-estimator input.sk-toggleable__control:checked~label.sk-toggleable__label {background-color: #d4ebff;}div.sk-label input.sk-toggleable__control:checked~label.sk-toggleable__label {background-color: #d4ebff;}input.sk-hidden--visually {border: 0;clip: rect(1px 1px 1px 1px);clip: rect(1px, 1px, 1px, 1px);height: 1px;margin: -1px;overflow: hidden;padding: 0;position: absolute;width: 1px;}div.sk-estimator {font-family: monospace;background-color: #f0f8ff;margin: 0.25em 0.25em;border: 1px dotted black;border-radius: 0.25em;box-sizing: border-box;}div.sk-estimator:hover {background-color: #d4ebff;}div.sk-parallel-item::after {content: \"\";width: 100%;border-bottom: 1px solid gray;flex-grow: 1;}div.sk-label:hover label.sk-toggleable__label {background-color: #d4ebff;}div.sk-serial::before {content: \"\";position: absolute;border-left: 1px solid gray;box-sizing: border-box;top: 2em;bottom: 0;left: 50%;}div.sk-serial {display: flex;flex-direction: column;align-items: center;background-color: white;}div.sk-item {z-index: 1;}div.sk-parallel {display: flex;align-items: stretch;justify-content: center;background-color: white;}div.sk-parallel-item {display: flex;flex-direction: column;position: relative;background-color: white;}div.sk-parallel-item:first-child::after {align-self: flex-end;width: 50%;}div.sk-parallel-item:last-child::after {align-self: flex-start;width: 50%;}div.sk-parallel-item:only-child::after {width: 0;}div.sk-dashed-wrapped {border: 1px dashed gray;margin: 0.2em;box-sizing: border-box;padding-bottom: 0.1em;background-color: white;position: relative;}div.sk-label label {font-family: monospace;font-weight: bold;background-color: white;display: inline-block;line-height: 1.2em;}div.sk-label-container {position: relative;z-index: 2;text-align: center;}div.sk-container {display: inline-block;position: relative;}</style><div class=\"sk-top-container\"><div class=\"sk-container\"><div class=\"sk-item sk-dashed-wrapped\"><div class=\"sk-label-container\"><div class=\"sk-label sk-toggleable\"><input class=\"sk-toggleable__control sk-hidden--visually\" id=\"3e72a46e-db7b-4bc8-a139-b403543d1d9f\" type=\"checkbox\" ><label class=\"sk-toggleable__label\" for=\"3e72a46e-db7b-4bc8-a139-b403543d1d9f\">ColumnTransformer</label><div class=\"sk-toggleable__content\"><pre>ColumnTransformer(transformers=[('ohe', OneHotEncoder(handle_unknown='ignore'),\n",
       "                                 ['VehBrand', 'VehPower', 'VehGas', 'Region',\n",
       "                                  'Area']),\n",
       "                                ('kbin', KBinsDiscretizer(n_bins=8),\n",
       "                                 ['VehAge', 'DrivAge']),\n",
       "                                ('log_scale',\n",
       "                                 Pipeline(steps=[('functiontransformer',\n",
       "                                                  FunctionTransformer(func=<ufunc 'log'>)),\n",
       "                                                 ('standardscaler',\n",
       "                                                  StandardScaler())]),\n",
       "                                 ['Density']),\n",
       "                                ('pass', 'passthrough', ['BonusMalus'])])</pre></div></div></div><div class=\"sk-parallel\"><div class=\"sk-parallel-item\"><div class=\"sk-item\"><div class=\"sk-label-container\"><div class=\"sk-label sk-toggleable\"><input class=\"sk-toggleable__control sk-hidden--visually\" id=\"64a2c196-e8c1-4f03-848f-8b6c5f5347c4\" type=\"checkbox\" ><label class=\"sk-toggleable__label\" for=\"64a2c196-e8c1-4f03-848f-8b6c5f5347c4\">ohe</label><div class=\"sk-toggleable__content\"><pre>['VehBrand', 'VehPower', 'VehGas', 'Region', 'Area']</pre></div></div></div><div class=\"sk-serial\"><div class=\"sk-item\"><div class=\"sk-estimator sk-toggleable\"><input class=\"sk-toggleable__control sk-hidden--visually\" id=\"3cfe8a40-b391-4a35-9109-00c7cbfbf451\" type=\"checkbox\" ><label class=\"sk-toggleable__label\" for=\"3cfe8a40-b391-4a35-9109-00c7cbfbf451\">OneHotEncoder</label><div class=\"sk-toggleable__content\"><pre>OneHotEncoder(handle_unknown='ignore')</pre></div></div></div></div></div></div><div class=\"sk-parallel-item\"><div class=\"sk-item\"><div class=\"sk-label-container\"><div class=\"sk-label sk-toggleable\"><input class=\"sk-toggleable__control sk-hidden--visually\" id=\"1c31fea7-b3cd-4b16-90e0-27e87022966b\" type=\"checkbox\" ><label class=\"sk-toggleable__label\" for=\"1c31fea7-b3cd-4b16-90e0-27e87022966b\">kbin</label><div class=\"sk-toggleable__content\"><pre>['VehAge', 'DrivAge']</pre></div></div></div><div class=\"sk-serial\"><div class=\"sk-item\"><div class=\"sk-estimator sk-toggleable\"><input class=\"sk-toggleable__control sk-hidden--visually\" id=\"6bb47950-ae8c-40d5-9226-e6f2d07aec48\" type=\"checkbox\" ><label class=\"sk-toggleable__label\" for=\"6bb47950-ae8c-40d5-9226-e6f2d07aec48\">KBinsDiscretizer</label><div class=\"sk-toggleable__content\"><pre>KBinsDiscretizer(n_bins=8)</pre></div></div></div></div></div></div><div class=\"sk-parallel-item\"><div class=\"sk-item\"><div class=\"sk-label-container\"><div class=\"sk-label sk-toggleable\"><input class=\"sk-toggleable__control sk-hidden--visually\" id=\"3c8739e0-b19b-408c-93cd-33eb3fa47b60\" type=\"checkbox\" ><label class=\"sk-toggleable__label\" for=\"3c8739e0-b19b-408c-93cd-33eb3fa47b60\">log_scale</label><div class=\"sk-toggleable__content\"><pre>['Density']</pre></div></div></div><div class=\"sk-serial\"><div class=\"sk-item\"><div class=\"sk-serial\"><div class=\"sk-item\"><div class=\"sk-estimator sk-toggleable\"><input class=\"sk-toggleable__control sk-hidden--visually\" id=\"6e60089e-640a-40aa-9769-2c7dc557a0c4\" type=\"checkbox\" ><label class=\"sk-toggleable__label\" for=\"6e60089e-640a-40aa-9769-2c7dc557a0c4\">FunctionTransformer</label><div class=\"sk-toggleable__content\"><pre>FunctionTransformer(func=<ufunc 'log'>)</pre></div></div></div><div class=\"sk-item\"><div class=\"sk-estimator sk-toggleable\"><input class=\"sk-toggleable__control sk-hidden--visually\" id=\"86816703-6e68-4748-9e57-cc777f4f7451\" type=\"checkbox\" ><label class=\"sk-toggleable__label\" for=\"86816703-6e68-4748-9e57-cc777f4f7451\">StandardScaler</label><div class=\"sk-toggleable__content\"><pre>StandardScaler()</pre></div></div></div></div></div></div></div></div><div class=\"sk-parallel-item\"><div class=\"sk-item\"><div class=\"sk-label-container\"><div class=\"sk-label sk-toggleable\"><input class=\"sk-toggleable__control sk-hidden--visually\" id=\"32ea3d7e-1f02-40af-8fd0-7b3197479813\" type=\"checkbox\" ><label class=\"sk-toggleable__label\" for=\"32ea3d7e-1f02-40af-8fd0-7b3197479813\">pass</label><div class=\"sk-toggleable__content\"><pre>['BonusMalus']</pre></div></div></div><div class=\"sk-serial\"><div class=\"sk-item\"><div class=\"sk-estimator sk-toggleable\"><input class=\"sk-toggleable__control sk-hidden--visually\" id=\"9c2f317c-fcfe-4444-a35a-56095c322499\" type=\"checkbox\" ><label class=\"sk-toggleable__label\" for=\"9c2f317c-fcfe-4444-a35a-56095c322499\">passthrough</label><div class=\"sk-toggleable__content\"><pre>passthrough</pre></div></div></div></div></div></div></div></div></div></div>"
      ],
      "text/plain": [
       "ColumnTransformer(transformers=[('ohe', OneHotEncoder(handle_unknown='ignore'),\n",
       "                                 ['VehBrand', 'VehPower', 'VehGas', 'Region',\n",
       "                                  'Area']),\n",
       "                                ('kbin', KBinsDiscretizer(n_bins=8),\n",
       "                                 ['VehAge', 'DrivAge']),\n",
       "                                ('log_scale',\n",
       "                                 Pipeline(steps=[('functiontransformer',\n",
       "                                                  FunctionTransformer(func=<ufunc 'log'>)),\n",
       "                                                 ('standardscaler',\n",
       "                                                  StandardScaler())]),\n",
       "                                 ['Density']),\n",
       "                                ('pass', 'passthrough', ['BonusMalus'])])"
      ]
     },
     "execution_count": 129,
     "metadata": {},
     "output_type": "execute_result"
    }
   ],
   "source": [
    "log_scale_transformer = make_pipeline(\n",
    "    FunctionTransformer(func=np.log),\n",
    "    StandardScaler()\n",
    ")\n",
    "\n",
    "\n",
    "cols_ohe_before = [\"VehBrand\", \"VehPower\", \"VehGas\", \"Region\", \"Area\"]\n",
    "cols_kbin_before = [\"VehAge\", \"DrivAge\"]\n",
    "cols_log_scale = [\"Density\"]\n",
    "cols_pass =  [\"BonusMalus\"]\n",
    "\n",
    "# NOTE: make names of columns in same order as in pipeline\n",
    "# cols_ohe will be obtained after fitting column transformer.\n",
    "# cols_ohe + cols_bin + cols_log_scale + cols_pass\n",
    "\n",
    "ct = ColumnTransformer(\n",
    "    [\n",
    "        \n",
    "        # ohe\n",
    "        # (note: always make ohe first item to get feature names)\n",
    "        (\"ohe\", OneHotEncoder(handle_unknown='ignore'), cols_ohe_before),\n",
    "    \n",
    "        # binning\n",
    "        (\"kbin\", KBinsDiscretizer(n_bins=8,encode='onehot',strategy='quantile'),cols_kbin_before),\n",
    "        \n",
    "        # log and scale\n",
    "        (\"log_scale\", log_scale_transformer,cols_log_scale),\n",
    "        \n",
    "        # keep these\n",
    "        (\"pass\", \"passthrough\",cols_pass),\n",
    "    ],\n",
    "    remainder=\"drop\",\n",
    ")\n",
    "ct"
   ]
  },
  {
   "cell_type": "code",
   "execution_count": 130,
   "metadata": {
    "ExecuteTime": {
     "end_time": "2020-09-26T17:13:41.854538Z",
     "start_time": "2020-09-26T17:13:41.679883Z"
    }
   },
   "outputs": [
    {
     "data": {
      "text/plain": [
       "((100000, 15), (100000, 71))"
      ]
     },
     "execution_count": 130,
     "metadata": {},
     "output_type": "execute_result"
    }
   ],
   "source": [
    "X = ct.fit_transform(df)\n",
    "df.shape, X.shape"
   ]
  },
  {
   "cell_type": "code",
   "execution_count": 134,
   "metadata": {
    "ExecuteTime": {
     "end_time": "2020-09-26T17:14:30.275705Z",
     "start_time": "2020-09-26T17:14:30.269729Z"
    }
   },
   "outputs": [
    {
     "name": "stdout",
     "output_type": "stream",
     "text": [
      "shape df : (100000, 15)\n",
      "shape X  : (100000, 71)\n",
      "len feature_names_after: 71\n",
      "['x0_B1', 'x0_B10', 'x0_B11', 'x0_B12', 'x0_B13', 'x0_B14', 'x0_B2', 'x0_B3', 'x0_B4', 'x0_B5', 'x0_B6', 'x1_4', 'x1_5', 'x1_6', 'x1_7', 'x1_8', 'x1_9', 'x1_10', 'x1_11', 'x1_12', 'x1_13', 'x1_14', 'x1_15', 'x2_Diesel', 'x2_Regular', 'x3_R11', 'x3_R21', 'x3_R22', 'x3_R23', 'x3_R24', 'x3_R25', 'x3_R26', 'x3_R31', 'x3_R41', 'x3_R42', 'x3_R43', 'x3_R52', 'x3_R53', 'x3_R54', 'x3_R72', 'x3_R73', 'x3_R74', 'x3_R82', 'x3_R83', 'x3_R91', 'x3_R93', 'x3_R94', 'x4_A', 'x4_B', 'x4_C', 'x4_D', 'x4_E', 'x4_F', 'VehAge_0', 'VehAge_1', 'VehAge_2', 'VehAge_3', 'VehAge_4', 'VehAge_5', 'VehAge_6', 'VehAge_7', 'DrivAge_0', 'DrivAge_1', 'DrivAge_2', 'DrivAge_3', 'DrivAge_4', 'DrivAge_5', 'DrivAge_6', 'DrivAge_7', 'Density', 'BonusMalus']\n"
     ]
    }
   ],
   "source": [
    "# we make ohe first tuple of transformer, so first index is 0\n",
    "# in ohe transformer, 0 is name, 1 is actual transformer object,\n",
    "# so, second index is 1\n",
    "# then, we can get feature names.\n",
    "\n",
    "cols_ohe_after = ct.transformers_[0][1].get_feature_names().tolist()\n",
    "\n",
    "kbin_n_bins = ct.transformers_[1][1].n_bins_[0]\n",
    "cols_kbin_after = [ str(i) + '_' + str(j) for i in cols_kbin_before for j in range(kbin_n_bins)]\n",
    "\n",
    "feature_names_after = cols_ohe_after + cols_kbin_after + cols_log_scale + cols_pass\n",
    "\n",
    "print(f\"shape df : {df.shape}\")\n",
    "print(f\"shape X  : {X.shape}\")\n",
    "print(f\"len feature_names_after: {len(feature_names_after)}\")\n",
    "print(feature_names_after)"
   ]
  },
  {
   "cell_type": "code",
   "execution_count": 135,
   "metadata": {
    "ExecuteTime": {
     "end_time": "2020-09-26T17:15:43.273783Z",
     "start_time": "2020-09-26T17:15:43.268002Z"
    }
   },
   "outputs": [
    {
     "data": {
      "text/plain": [
       "array([ 0.        ,  1.        ,  0.        ,  0.69864446, 50.        ])"
      ]
     },
     "execution_count": 135,
     "metadata": {},
     "output_type": "execute_result"
    }
   ],
   "source": [
    "np.array(X[0].todense())[0][-5:] # last elements of first row"
   ]
  },
  {
   "cell_type": "code",
   "execution_count": 136,
   "metadata": {
    "ExecuteTime": {
     "end_time": "2020-09-26T17:15:44.023271Z",
     "start_time": "2020-09-26T17:15:44.005715Z"
    }
   },
   "outputs": [
    {
     "data": {
      "text/html": [
       "<div>\n",
       "<style scoped>\n",
       "    .dataframe tbody tr th:only-of-type {\n",
       "        vertical-align: middle;\n",
       "    }\n",
       "\n",
       "    .dataframe tbody tr th {\n",
       "        vertical-align: top;\n",
       "    }\n",
       "\n",
       "    .dataframe thead th {\n",
       "        text-align: right;\n",
       "    }\n",
       "</style>\n",
       "<table border=\"1\" class=\"dataframe\">\n",
       "  <thead>\n",
       "    <tr style=\"text-align: right;\">\n",
       "      <th></th>\n",
       "      <th>VehBrand</th>\n",
       "      <th>VehPower</th>\n",
       "      <th>VehGas</th>\n",
       "      <th>Region</th>\n",
       "      <th>Area</th>\n",
       "      <th>VehAge</th>\n",
       "      <th>DrivAge</th>\n",
       "      <th>Density</th>\n",
       "      <th>BonusMalus</th>\n",
       "    </tr>\n",
       "    <tr>\n",
       "      <th>IDpol</th>\n",
       "      <th></th>\n",
       "      <th></th>\n",
       "      <th></th>\n",
       "      <th></th>\n",
       "      <th></th>\n",
       "      <th></th>\n",
       "      <th></th>\n",
       "      <th></th>\n",
       "      <th></th>\n",
       "    </tr>\n",
       "  </thead>\n",
       "  <tbody>\n",
       "    <tr>\n",
       "      <th>1</th>\n",
       "      <td>B12</td>\n",
       "      <td>5</td>\n",
       "      <td>Regular</td>\n",
       "      <td>R82</td>\n",
       "      <td>D</td>\n",
       "      <td>0</td>\n",
       "      <td>55</td>\n",
       "      <td>1217</td>\n",
       "      <td>50</td>\n",
       "    </tr>\n",
       "    <tr>\n",
       "      <th>3</th>\n",
       "      <td>B12</td>\n",
       "      <td>5</td>\n",
       "      <td>Regular</td>\n",
       "      <td>R82</td>\n",
       "      <td>D</td>\n",
       "      <td>0</td>\n",
       "      <td>55</td>\n",
       "      <td>1217</td>\n",
       "      <td>50</td>\n",
       "    </tr>\n",
       "  </tbody>\n",
       "</table>\n",
       "</div>"
      ],
      "text/plain": [
       "      VehBrand  VehPower   VehGas Region Area  VehAge  DrivAge  Density  \\\n",
       "IDpol                                                                     \n",
       "1          B12         5  Regular    R82    D       0       55     1217   \n",
       "3          B12         5  Regular    R82    D       0       55     1217   \n",
       "\n",
       "       BonusMalus  \n",
       "IDpol              \n",
       "1              50  \n",
       "3              50  "
      ]
     },
     "execution_count": 136,
     "metadata": {},
     "output_type": "execute_result"
    }
   ],
   "source": [
    "feature_names_before = cols_ohe_before + cols_kbin + cols_log_scale + cols_pass\n",
    "\n",
    "df[feature_names_before].head(2)"
   ]
  },
  {
   "cell_type": "markdown",
   "metadata": {},
   "source": [
    "# Save the clean data"
   ]
  },
  {
   "cell_type": "code",
   "execution_count": 137,
   "metadata": {
    "ExecuteTime": {
     "end_time": "2020-09-26T17:15:45.840177Z",
     "start_time": "2020-09-26T17:15:45.836832Z"
    }
   },
   "outputs": [],
   "source": [
    "import scipy\n",
    "import json"
   ]
  },
  {
   "cell_type": "code",
   "execution_count": 138,
   "metadata": {
    "ExecuteTime": {
     "end_time": "2020-09-26T17:15:46.468516Z",
     "start_time": "2020-09-26T17:15:46.462666Z"
    }
   },
   "outputs": [
    {
     "data": {
      "text/plain": [
       "(100000, 15)"
      ]
     },
     "execution_count": 138,
     "metadata": {},
     "output_type": "execute_result"
    }
   ],
   "source": [
    "df.shape"
   ]
  },
  {
   "cell_type": "code",
   "execution_count": 139,
   "metadata": {
    "ExecuteTime": {
     "end_time": "2020-09-26T17:15:47.769745Z",
     "start_time": "2020-09-26T17:15:47.755816Z"
    }
   },
   "outputs": [
    {
     "data": {
      "text/html": [
       "<div>\n",
       "<style scoped>\n",
       "    .dataframe tbody tr th:only-of-type {\n",
       "        vertical-align: middle;\n",
       "    }\n",
       "\n",
       "    .dataframe tbody tr th {\n",
       "        vertical-align: top;\n",
       "    }\n",
       "\n",
       "    .dataframe thead th {\n",
       "        text-align: right;\n",
       "    }\n",
       "</style>\n",
       "<table border=\"1\" class=\"dataframe\">\n",
       "  <thead>\n",
       "    <tr style=\"text-align: right;\">\n",
       "      <th></th>\n",
       "      <th>ClaimNb</th>\n",
       "      <th>Exposure</th>\n",
       "      <th>Area</th>\n",
       "      <th>VehPower</th>\n",
       "      <th>VehAge</th>\n",
       "      <th>DrivAge</th>\n",
       "      <th>BonusMalus</th>\n",
       "      <th>VehBrand</th>\n",
       "      <th>VehGas</th>\n",
       "      <th>Density</th>\n",
       "      <th>Region</th>\n",
       "      <th>ClaimAmount</th>\n",
       "      <th>PurePremium</th>\n",
       "      <th>Frequency</th>\n",
       "      <th>AvgClaimAmount</th>\n",
       "    </tr>\n",
       "    <tr>\n",
       "      <th>IDpol</th>\n",
       "      <th></th>\n",
       "      <th></th>\n",
       "      <th></th>\n",
       "      <th></th>\n",
       "      <th></th>\n",
       "      <th></th>\n",
       "      <th></th>\n",
       "      <th></th>\n",
       "      <th></th>\n",
       "      <th></th>\n",
       "      <th></th>\n",
       "      <th></th>\n",
       "      <th></th>\n",
       "      <th></th>\n",
       "      <th></th>\n",
       "    </tr>\n",
       "  </thead>\n",
       "  <tbody>\n",
       "    <tr>\n",
       "      <th>1</th>\n",
       "      <td>0</td>\n",
       "      <td>0.10</td>\n",
       "      <td>D</td>\n",
       "      <td>5</td>\n",
       "      <td>0</td>\n",
       "      <td>55</td>\n",
       "      <td>50</td>\n",
       "      <td>B12</td>\n",
       "      <td>Regular</td>\n",
       "      <td>1217</td>\n",
       "      <td>R82</td>\n",
       "      <td>0.0</td>\n",
       "      <td>0.0</td>\n",
       "      <td>0.0</td>\n",
       "      <td>0.0</td>\n",
       "    </tr>\n",
       "    <tr>\n",
       "      <th>3</th>\n",
       "      <td>0</td>\n",
       "      <td>0.77</td>\n",
       "      <td>D</td>\n",
       "      <td>5</td>\n",
       "      <td>0</td>\n",
       "      <td>55</td>\n",
       "      <td>50</td>\n",
       "      <td>B12</td>\n",
       "      <td>Regular</td>\n",
       "      <td>1217</td>\n",
       "      <td>R82</td>\n",
       "      <td>0.0</td>\n",
       "      <td>0.0</td>\n",
       "      <td>0.0</td>\n",
       "      <td>0.0</td>\n",
       "    </tr>\n",
       "  </tbody>\n",
       "</table>\n",
       "</div>"
      ],
      "text/plain": [
       "       ClaimNb  Exposure Area  VehPower  VehAge  DrivAge  BonusMalus VehBrand  \\\n",
       "IDpol                                                                           \n",
       "1            0      0.10    D         5       0       55          50      B12   \n",
       "3            0      0.77    D         5       0       55          50      B12   \n",
       "\n",
       "        VehGas  Density Region  ClaimAmount  PurePremium  Frequency  \\\n",
       "IDpol                                                                 \n",
       "1      Regular     1217    R82          0.0          0.0        0.0   \n",
       "3      Regular     1217    R82          0.0          0.0        0.0   \n",
       "\n",
       "       AvgClaimAmount  \n",
       "IDpol                  \n",
       "1                 0.0  \n",
       "3                 0.0  "
      ]
     },
     "execution_count": 139,
     "metadata": {},
     "output_type": "execute_result"
    }
   ],
   "source": [
    "df.head(2)"
   ]
  },
  {
   "cell_type": "code",
   "execution_count": 140,
   "metadata": {
    "ExecuteTime": {
     "end_time": "2020-09-26T17:15:48.381778Z",
     "start_time": "2020-09-26T17:15:48.379307Z"
    }
   },
   "outputs": [],
   "source": [
    "# df.to_csv('../data/processed/clean_data.csv.zip',compression='zip',index=False)\n",
    "# this method did not work in google colab."
   ]
  },
  {
   "cell_type": "code",
   "execution_count": 141,
   "metadata": {
    "ExecuteTime": {
     "end_time": "2020-09-26T17:15:49.570817Z",
     "start_time": "2020-09-26T17:15:49.068295Z"
    }
   },
   "outputs": [],
   "source": [
    "df.to_csv('../data/processed/clean_data.csv',index=False)"
   ]
  },
  {
   "cell_type": "code",
   "execution_count": 142,
   "metadata": {
    "ExecuteTime": {
     "end_time": "2020-09-26T17:15:55.774247Z",
     "start_time": "2020-09-26T17:15:55.771593Z"
    }
   },
   "outputs": [],
   "source": [
    "# !zip  ../data/processed/clean_data.csv.zip ../data/processed/clean_data.csv\n",
    "# do not do this, this will create folders and then files.\n",
    "# cd to that directory and then zip it."
   ]
  },
  {
   "cell_type": "code",
   "execution_count": 143,
   "metadata": {
    "ExecuteTime": {
     "end_time": "2020-09-26T17:15:57.179482Z",
     "start_time": "2020-09-26T17:15:56.941994Z"
    }
   },
   "outputs": [
    {
     "name": "stdout",
     "output_type": "stream",
     "text": [
      "updating: clean_data.csv (deflated 84%)\n",
      "/Users/poudel/github/Project_French_Motor_Claims/notebooks\n"
     ]
    }
   ],
   "source": [
    "%%bash\n",
    "cd ../data/processed\n",
    "zip clean_data.csv.zip clean_data.csv\n",
    "rm clean_data.csv\n",
    "cd -"
   ]
  },
  {
   "cell_type": "code",
   "execution_count": 144,
   "metadata": {
    "ExecuteTime": {
     "end_time": "2020-09-26T17:15:57.880687Z",
     "start_time": "2020-09-26T17:15:57.875697Z"
    }
   },
   "outputs": [
    {
     "data": {
      "text/plain": [
       "scipy.sparse.csr.csr_matrix"
      ]
     },
     "execution_count": 144,
     "metadata": {},
     "output_type": "execute_result"
    }
   ],
   "source": [
    "type(X)"
   ]
  },
  {
   "cell_type": "code",
   "execution_count": 145,
   "metadata": {
    "ExecuteTime": {
     "end_time": "2020-09-26T17:15:59.496776Z",
     "start_time": "2020-09-26T17:15:59.493063Z"
    }
   },
   "outputs": [],
   "source": [
    "# scipy.sparse.save_npz?"
   ]
  },
  {
   "cell_type": "code",
   "execution_count": 147,
   "metadata": {
    "ExecuteTime": {
     "end_time": "2020-09-26T17:17:17.834541Z",
     "start_time": "2020-09-26T17:17:17.592361Z"
    }
   },
   "outputs": [],
   "source": [
    "scipy.sparse.save_npz('../data/processed/X.npz',X)"
   ]
  },
  {
   "cell_type": "code",
   "execution_count": 148,
   "metadata": {
    "ExecuteTime": {
     "end_time": "2020-09-26T17:17:21.580962Z",
     "start_time": "2020-09-26T17:17:21.549189Z"
    }
   },
   "outputs": [
    {
     "data": {
      "text/plain": [
       "(100000, 71)"
      ]
     },
     "execution_count": 148,
     "metadata": {},
     "output_type": "execute_result"
    }
   ],
   "source": [
    "X_dense = X.todense()\n",
    "df_X = pd.DataFrame(data=X_dense, columns=feature_names_after)\n",
    "\n",
    "df_X.to_csv('../data/processed/X.csv',index=False)"
   ]
  },
  {
   "cell_type": "code",
   "execution_count": 162,
   "metadata": {
    "ExecuteTime": {
     "end_time": "2020-09-26T17:21:59.523777Z",
     "start_time": "2020-09-26T17:21:59.129281Z"
    }
   },
   "outputs": [
    {
     "name": "stdout",
     "output_type": "stream",
     "text": [
      "updating: X.csv (deflated 95%)\n",
      " 29M\tX.csv\n",
      "1.3M\tX.csv.zip\n",
      "/Users/poudel/github/Project_French_Motor_Claims/notebooks\n"
     ]
    }
   ],
   "source": [
    "%%bash\n",
    "\n",
    "FILE=\"X.csv\"\n",
    "cd ../data/processed/\n",
    "\n",
    "zip \"$FILE\".zip \"$FILE\"\n",
    "\n",
    "du -sh \"$FILE\"\n",
    "du -sh \"$FILE\".zip\n",
    "\n",
    "rm \"$FILE\"\n",
    "cd -"
   ]
  },
  {
   "cell_type": "code",
   "execution_count": 163,
   "metadata": {
    "ExecuteTime": {
     "end_time": "2020-09-26T17:22:18.596499Z",
     "start_time": "2020-09-26T17:22:18.593316Z"
    }
   },
   "outputs": [],
   "source": [
    "# save the features json"
   ]
  },
  {
   "cell_type": "code",
   "execution_count": 164,
   "metadata": {
    "ExecuteTime": {
     "end_time": "2020-09-26T17:22:19.318052Z",
     "start_time": "2020-09-26T17:22:19.314746Z"
    }
   },
   "outputs": [],
   "source": [
    "data_json = dict(\n",
    "    cols_ohe_before = [\"VehBrand\", \"VehPower\", \"VehGas\", \"Region\", \"Area\"],\n",
    "    cols_kbin = [\"VehAge\", \"DrivAge\"],\n",
    "    cols_log_scale = [\"Density\"],\n",
    "    cols_pass =  [\"BonusMalus\"],\n",
    "    feature_names_before = feature_names_before,\n",
    "    feature_names_after = feature_names_after,\n",
    "    desc=\"\"\"\n",
    "    df['ClaimNb'] = df['ClaimNb'].clip(upper=4)\n",
    "    df['Exposure'] = df['Exposure'].clip(upper=0.9)\n",
    "    df['ClaimAmount'] = df['ClaimAmount'].clip(upper=100_000)\n",
    "    KBinsDiscretizer : n_bins=8\n",
    "\n",
    "    \"\"\"\n",
    "    \n",
    ")"
   ]
  },
  {
   "cell_type": "code",
   "execution_count": 165,
   "metadata": {
    "ExecuteTime": {
     "end_time": "2020-09-26T17:22:20.182111Z",
     "start_time": "2020-09-26T17:22:20.177241Z"
    }
   },
   "outputs": [],
   "source": [
    "with open(\"../data/processed/features.json\",\"w\") as fo:\n",
    "    json.dump(data_json, fo)"
   ]
  },
  {
   "cell_type": "code",
   "execution_count": null,
   "metadata": {},
   "outputs": [],
   "source": []
  }
 ],
 "metadata": {
  "kernelspec": {
   "display_name": "Python (dataSc)",
   "language": "python",
   "name": "datasc"
  },
  "language_info": {
   "codemirror_mode": {
    "name": "ipython",
    "version": 3
   },
   "file_extension": ".py",
   "mimetype": "text/x-python",
   "name": "python",
   "nbconvert_exporter": "python",
   "pygments_lexer": "ipython3",
   "version": "3.7.7"
  },
  "toc": {
   "base_numbering": 1,
   "nav_menu": {},
   "number_sections": true,
   "sideBar": true,
   "skip_h1_title": false,
   "title_cell": "Table of Contents",
   "title_sidebar": "Contents",
   "toc_cell": true,
   "toc_position": {},
   "toc_section_display": true,
   "toc_window_display": true
  },
  "varInspector": {
   "cols": {
    "lenName": 16,
    "lenType": 16,
    "lenVar": 40
   },
   "kernels_config": {
    "python": {
     "delete_cmd_postfix": "",
     "delete_cmd_prefix": "del ",
     "library": "var_list.py",
     "varRefreshCmd": "print(var_dic_list())"
    },
    "r": {
     "delete_cmd_postfix": ") ",
     "delete_cmd_prefix": "rm(",
     "library": "var_list.r",
     "varRefreshCmd": "cat(var_dic_list()) "
    }
   },
   "types_to_exclude": [
    "module",
    "function",
    "builtin_function_or_method",
    "instance",
    "_Feature"
   ],
   "window_display": false
  }
 },
 "nbformat": 4,
 "nbformat_minor": 4
}
